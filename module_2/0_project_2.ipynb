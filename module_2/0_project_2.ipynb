{
 "cells": [
  {
   "cell_type": "markdown",
   "id": "c659ab76",
   "metadata": {},
   "source": [
    "# цели и задачи проекта\n",
    "\n",
    "Вас пригласили поучаствовать в одном из проектов UNICEF — международного подразделения ООН,\n",
    "чья миссия состоит в повышении уровня благополучия детей по всему миру. \n",
    "\n",
    "Суть проекта — отследить влияние условий жизни учащихся в возрасте от 15 до 22 лет на их успеваемость по математике,\n",
    "чтобы на ранней стадии выявлять студентов, находящихся в группе риска.\n",
    "\n",
    "И сделать это можно с помощью модели, которая предсказывала бы результаты госэкзамена по математике\n",
    "для каждого ученика школы (вот она, сила ML!). Чтобы определиться с параметрами будущей модели,\n",
    "проведите разведывательный анализ данных и составьте отчёт по его результатам."
   ]
  },
  {
   "cell_type": "code",
   "execution_count": 1,
   "id": "acd09672",
   "metadata": {},
   "outputs": [
    {
     "data": {
      "text/html": [
       "<div>\n",
       "<style scoped>\n",
       "    .dataframe tbody tr th:only-of-type {\n",
       "        vertical-align: middle;\n",
       "    }\n",
       "\n",
       "    .dataframe tbody tr th {\n",
       "        vertical-align: top;\n",
       "    }\n",
       "\n",
       "    .dataframe thead th {\n",
       "        text-align: right;\n",
       "    }\n",
       "</style>\n",
       "<table border=\"1\" class=\"dataframe\">\n",
       "  <thead>\n",
       "    <tr style=\"text-align: right;\">\n",
       "      <th></th>\n",
       "      <th>school</th>\n",
       "      <th>sex</th>\n",
       "      <th>age</th>\n",
       "      <th>address</th>\n",
       "      <th>famsize</th>\n",
       "      <th>Pstatus</th>\n",
       "      <th>Medu</th>\n",
       "      <th>Fedu</th>\n",
       "      <th>Mjob</th>\n",
       "      <th>Fjob</th>\n",
       "      <th>reason</th>\n",
       "      <th>guardian</th>\n",
       "      <th>traveltime</th>\n",
       "      <th>studytime</th>\n",
       "      <th>failures</th>\n",
       "      <th>schoolsup</th>\n",
       "      <th>famsup</th>\n",
       "      <th>paid</th>\n",
       "      <th>activities</th>\n",
       "      <th>nursery</th>\n",
       "      <th>studytime, granular</th>\n",
       "      <th>higher</th>\n",
       "      <th>internet</th>\n",
       "      <th>romantic</th>\n",
       "      <th>famrel</th>\n",
       "      <th>freetime</th>\n",
       "      <th>goout</th>\n",
       "      <th>health</th>\n",
       "      <th>absences</th>\n",
       "      <th>score</th>\n",
       "    </tr>\n",
       "  </thead>\n",
       "  <tbody>\n",
       "    <tr>\n",
       "      <th>0</th>\n",
       "      <td>GP</td>\n",
       "      <td>F</td>\n",
       "      <td>18</td>\n",
       "      <td>U</td>\n",
       "      <td>NaN</td>\n",
       "      <td>A</td>\n",
       "      <td>4.0</td>\n",
       "      <td>4.0</td>\n",
       "      <td>at_home</td>\n",
       "      <td>teacher</td>\n",
       "      <td>course</td>\n",
       "      <td>mother</td>\n",
       "      <td>2.0</td>\n",
       "      <td>2.0</td>\n",
       "      <td>0.0</td>\n",
       "      <td>yes</td>\n",
       "      <td>no</td>\n",
       "      <td>no</td>\n",
       "      <td>no</td>\n",
       "      <td>yes</td>\n",
       "      <td>-6.0</td>\n",
       "      <td>yes</td>\n",
       "      <td>NaN</td>\n",
       "      <td>no</td>\n",
       "      <td>4.0</td>\n",
       "      <td>3.0</td>\n",
       "      <td>4.0</td>\n",
       "      <td>3.0</td>\n",
       "      <td>6.0</td>\n",
       "      <td>30.0</td>\n",
       "    </tr>\n",
       "    <tr>\n",
       "      <th>1</th>\n",
       "      <td>GP</td>\n",
       "      <td>F</td>\n",
       "      <td>17</td>\n",
       "      <td>U</td>\n",
       "      <td>GT3</td>\n",
       "      <td>NaN</td>\n",
       "      <td>1.0</td>\n",
       "      <td>1.0</td>\n",
       "      <td>at_home</td>\n",
       "      <td>other</td>\n",
       "      <td>course</td>\n",
       "      <td>father</td>\n",
       "      <td>1.0</td>\n",
       "      <td>2.0</td>\n",
       "      <td>0.0</td>\n",
       "      <td>no</td>\n",
       "      <td>yes</td>\n",
       "      <td>no</td>\n",
       "      <td>no</td>\n",
       "      <td>no</td>\n",
       "      <td>-6.0</td>\n",
       "      <td>yes</td>\n",
       "      <td>yes</td>\n",
       "      <td>no</td>\n",
       "      <td>5.0</td>\n",
       "      <td>3.0</td>\n",
       "      <td>3.0</td>\n",
       "      <td>3.0</td>\n",
       "      <td>4.0</td>\n",
       "      <td>30.0</td>\n",
       "    </tr>\n",
       "    <tr>\n",
       "      <th>2</th>\n",
       "      <td>GP</td>\n",
       "      <td>F</td>\n",
       "      <td>15</td>\n",
       "      <td>U</td>\n",
       "      <td>LE3</td>\n",
       "      <td>T</td>\n",
       "      <td>1.0</td>\n",
       "      <td>1.0</td>\n",
       "      <td>at_home</td>\n",
       "      <td>other</td>\n",
       "      <td>other</td>\n",
       "      <td>mother</td>\n",
       "      <td>1.0</td>\n",
       "      <td>2.0</td>\n",
       "      <td>3.0</td>\n",
       "      <td>yes</td>\n",
       "      <td>no</td>\n",
       "      <td>NaN</td>\n",
       "      <td>no</td>\n",
       "      <td>yes</td>\n",
       "      <td>-6.0</td>\n",
       "      <td>yes</td>\n",
       "      <td>yes</td>\n",
       "      <td>NaN</td>\n",
       "      <td>4.0</td>\n",
       "      <td>3.0</td>\n",
       "      <td>2.0</td>\n",
       "      <td>3.0</td>\n",
       "      <td>10.0</td>\n",
       "      <td>50.0</td>\n",
       "    </tr>\n",
       "    <tr>\n",
       "      <th>3</th>\n",
       "      <td>GP</td>\n",
       "      <td>F</td>\n",
       "      <td>15</td>\n",
       "      <td>U</td>\n",
       "      <td>GT3</td>\n",
       "      <td>T</td>\n",
       "      <td>4.0</td>\n",
       "      <td>2.0</td>\n",
       "      <td>health</td>\n",
       "      <td>NaN</td>\n",
       "      <td>home</td>\n",
       "      <td>mother</td>\n",
       "      <td>1.0</td>\n",
       "      <td>3.0</td>\n",
       "      <td>0.0</td>\n",
       "      <td>no</td>\n",
       "      <td>yes</td>\n",
       "      <td>yes</td>\n",
       "      <td>yes</td>\n",
       "      <td>yes</td>\n",
       "      <td>-9.0</td>\n",
       "      <td>yes</td>\n",
       "      <td>yes</td>\n",
       "      <td>yes</td>\n",
       "      <td>3.0</td>\n",
       "      <td>2.0</td>\n",
       "      <td>2.0</td>\n",
       "      <td>5.0</td>\n",
       "      <td>2.0</td>\n",
       "      <td>75.0</td>\n",
       "    </tr>\n",
       "    <tr>\n",
       "      <th>4</th>\n",
       "      <td>GP</td>\n",
       "      <td>F</td>\n",
       "      <td>16</td>\n",
       "      <td>U</td>\n",
       "      <td>GT3</td>\n",
       "      <td>T</td>\n",
       "      <td>3.0</td>\n",
       "      <td>3.0</td>\n",
       "      <td>other</td>\n",
       "      <td>other</td>\n",
       "      <td>home</td>\n",
       "      <td>father</td>\n",
       "      <td>1.0</td>\n",
       "      <td>2.0</td>\n",
       "      <td>0.0</td>\n",
       "      <td>no</td>\n",
       "      <td>yes</td>\n",
       "      <td>yes</td>\n",
       "      <td>no</td>\n",
       "      <td>yes</td>\n",
       "      <td>-6.0</td>\n",
       "      <td>yes</td>\n",
       "      <td>no</td>\n",
       "      <td>no</td>\n",
       "      <td>4.0</td>\n",
       "      <td>3.0</td>\n",
       "      <td>2.0</td>\n",
       "      <td>5.0</td>\n",
       "      <td>4.0</td>\n",
       "      <td>50.0</td>\n",
       "    </tr>\n",
       "    <tr>\n",
       "      <th>5</th>\n",
       "      <td>GP</td>\n",
       "      <td>M</td>\n",
       "      <td>16</td>\n",
       "      <td>U</td>\n",
       "      <td>LE3</td>\n",
       "      <td>T</td>\n",
       "      <td>4.0</td>\n",
       "      <td>3.0</td>\n",
       "      <td>services</td>\n",
       "      <td>other</td>\n",
       "      <td>reputation</td>\n",
       "      <td>mother</td>\n",
       "      <td>1.0</td>\n",
       "      <td>2.0</td>\n",
       "      <td>0.0</td>\n",
       "      <td>no</td>\n",
       "      <td>yes</td>\n",
       "      <td>yes</td>\n",
       "      <td>yes</td>\n",
       "      <td>yes</td>\n",
       "      <td>-6.0</td>\n",
       "      <td>yes</td>\n",
       "      <td>yes</td>\n",
       "      <td>no</td>\n",
       "      <td>5.0</td>\n",
       "      <td>4.0</td>\n",
       "      <td>2.0</td>\n",
       "      <td>5.0</td>\n",
       "      <td>10.0</td>\n",
       "      <td>75.0</td>\n",
       "    </tr>\n",
       "    <tr>\n",
       "      <th>6</th>\n",
       "      <td>GP</td>\n",
       "      <td>M</td>\n",
       "      <td>16</td>\n",
       "      <td>NaN</td>\n",
       "      <td>LE3</td>\n",
       "      <td>T</td>\n",
       "      <td>2.0</td>\n",
       "      <td>2.0</td>\n",
       "      <td>other</td>\n",
       "      <td>other</td>\n",
       "      <td>home</td>\n",
       "      <td>mother</td>\n",
       "      <td>1.0</td>\n",
       "      <td>2.0</td>\n",
       "      <td>0.0</td>\n",
       "      <td>no</td>\n",
       "      <td>no</td>\n",
       "      <td>no</td>\n",
       "      <td>no</td>\n",
       "      <td>yes</td>\n",
       "      <td>-6.0</td>\n",
       "      <td>yes</td>\n",
       "      <td>yes</td>\n",
       "      <td>no</td>\n",
       "      <td>4.0</td>\n",
       "      <td>4.0</td>\n",
       "      <td>4.0</td>\n",
       "      <td>3.0</td>\n",
       "      <td>0.0</td>\n",
       "      <td>55.0</td>\n",
       "    </tr>\n",
       "    <tr>\n",
       "      <th>7</th>\n",
       "      <td>GP</td>\n",
       "      <td>F</td>\n",
       "      <td>17</td>\n",
       "      <td>U</td>\n",
       "      <td>GT3</td>\n",
       "      <td>A</td>\n",
       "      <td>4.0</td>\n",
       "      <td>4.0</td>\n",
       "      <td>other</td>\n",
       "      <td>teacher</td>\n",
       "      <td>home</td>\n",
       "      <td>mother</td>\n",
       "      <td>2.0</td>\n",
       "      <td>2.0</td>\n",
       "      <td>0.0</td>\n",
       "      <td>yes</td>\n",
       "      <td>yes</td>\n",
       "      <td>no</td>\n",
       "      <td>no</td>\n",
       "      <td>yes</td>\n",
       "      <td>-6.0</td>\n",
       "      <td>yes</td>\n",
       "      <td>no</td>\n",
       "      <td>no</td>\n",
       "      <td>4.0</td>\n",
       "      <td>1.0</td>\n",
       "      <td>4.0</td>\n",
       "      <td>1.0</td>\n",
       "      <td>6.0</td>\n",
       "      <td>30.0</td>\n",
       "    </tr>\n",
       "    <tr>\n",
       "      <th>8</th>\n",
       "      <td>GP</td>\n",
       "      <td>M</td>\n",
       "      <td>15</td>\n",
       "      <td>U</td>\n",
       "      <td>LE3</td>\n",
       "      <td>A</td>\n",
       "      <td>3.0</td>\n",
       "      <td>2.0</td>\n",
       "      <td>services</td>\n",
       "      <td>other</td>\n",
       "      <td>home</td>\n",
       "      <td>mother</td>\n",
       "      <td>1.0</td>\n",
       "      <td>2.0</td>\n",
       "      <td>0.0</td>\n",
       "      <td>no</td>\n",
       "      <td>yes</td>\n",
       "      <td>yes</td>\n",
       "      <td>no</td>\n",
       "      <td>yes</td>\n",
       "      <td>-6.0</td>\n",
       "      <td>yes</td>\n",
       "      <td>yes</td>\n",
       "      <td>no</td>\n",
       "      <td>NaN</td>\n",
       "      <td>2.0</td>\n",
       "      <td>2.0</td>\n",
       "      <td>1.0</td>\n",
       "      <td>0.0</td>\n",
       "      <td>95.0</td>\n",
       "    </tr>\n",
       "    <tr>\n",
       "      <th>9</th>\n",
       "      <td>GP</td>\n",
       "      <td>M</td>\n",
       "      <td>15</td>\n",
       "      <td>U</td>\n",
       "      <td>NaN</td>\n",
       "      <td>NaN</td>\n",
       "      <td>3.0</td>\n",
       "      <td>4.0</td>\n",
       "      <td>other</td>\n",
       "      <td>other</td>\n",
       "      <td>home</td>\n",
       "      <td>mother</td>\n",
       "      <td>1.0</td>\n",
       "      <td>2.0</td>\n",
       "      <td>0.0</td>\n",
       "      <td>no</td>\n",
       "      <td>yes</td>\n",
       "      <td>yes</td>\n",
       "      <td>yes</td>\n",
       "      <td>yes</td>\n",
       "      <td>-6.0</td>\n",
       "      <td>yes</td>\n",
       "      <td>yes</td>\n",
       "      <td>no</td>\n",
       "      <td>5.0</td>\n",
       "      <td>5.0</td>\n",
       "      <td>1.0</td>\n",
       "      <td>5.0</td>\n",
       "      <td>0.0</td>\n",
       "      <td>75.0</td>\n",
       "    </tr>\n",
       "  </tbody>\n",
       "</table>\n",
       "</div>"
      ],
      "text/plain": [
       "  school sex  age address famsize Pstatus  Medu  Fedu      Mjob     Fjob  \\\n",
       "0     GP   F   18       U     NaN       A   4.0   4.0   at_home  teacher   \n",
       "1     GP   F   17       U     GT3     NaN   1.0   1.0   at_home    other   \n",
       "2     GP   F   15       U     LE3       T   1.0   1.0   at_home    other   \n",
       "3     GP   F   15       U     GT3       T   4.0   2.0    health      NaN   \n",
       "4     GP   F   16       U     GT3       T   3.0   3.0     other    other   \n",
       "5     GP   M   16       U     LE3       T   4.0   3.0  services    other   \n",
       "6     GP   M   16     NaN     LE3       T   2.0   2.0     other    other   \n",
       "7     GP   F   17       U     GT3       A   4.0   4.0     other  teacher   \n",
       "8     GP   M   15       U     LE3       A   3.0   2.0  services    other   \n",
       "9     GP   M   15       U     NaN     NaN   3.0   4.0     other    other   \n",
       "\n",
       "       reason guardian  traveltime  studytime  failures schoolsup famsup paid  \\\n",
       "0      course   mother         2.0        2.0       0.0       yes     no   no   \n",
       "1      course   father         1.0        2.0       0.0        no    yes   no   \n",
       "2       other   mother         1.0        2.0       3.0       yes     no  NaN   \n",
       "3        home   mother         1.0        3.0       0.0        no    yes  yes   \n",
       "4        home   father         1.0        2.0       0.0        no    yes  yes   \n",
       "5  reputation   mother         1.0        2.0       0.0        no    yes  yes   \n",
       "6        home   mother         1.0        2.0       0.0        no     no   no   \n",
       "7        home   mother         2.0        2.0       0.0       yes    yes   no   \n",
       "8        home   mother         1.0        2.0       0.0        no    yes  yes   \n",
       "9        home   mother         1.0        2.0       0.0        no    yes  yes   \n",
       "\n",
       "  activities nursery  studytime, granular higher internet romantic  famrel  \\\n",
       "0         no     yes                 -6.0    yes      NaN       no     4.0   \n",
       "1         no      no                 -6.0    yes      yes       no     5.0   \n",
       "2         no     yes                 -6.0    yes      yes      NaN     4.0   \n",
       "3        yes     yes                 -9.0    yes      yes      yes     3.0   \n",
       "4         no     yes                 -6.0    yes       no       no     4.0   \n",
       "5        yes     yes                 -6.0    yes      yes       no     5.0   \n",
       "6         no     yes                 -6.0    yes      yes       no     4.0   \n",
       "7         no     yes                 -6.0    yes       no       no     4.0   \n",
       "8         no     yes                 -6.0    yes      yes       no     NaN   \n",
       "9        yes     yes                 -6.0    yes      yes       no     5.0   \n",
       "\n",
       "   freetime  goout  health  absences  score  \n",
       "0       3.0    4.0     3.0       6.0   30.0  \n",
       "1       3.0    3.0     3.0       4.0   30.0  \n",
       "2       3.0    2.0     3.0      10.0   50.0  \n",
       "3       2.0    2.0     5.0       2.0   75.0  \n",
       "4       3.0    2.0     5.0       4.0   50.0  \n",
       "5       4.0    2.0     5.0      10.0   75.0  \n",
       "6       4.0    4.0     3.0       0.0   55.0  \n",
       "7       1.0    4.0     1.0       6.0   30.0  \n",
       "8       2.0    2.0     1.0       0.0   95.0  \n",
       "9       5.0    1.0     5.0       0.0   75.0  "
      ]
     },
     "metadata": {},
     "output_type": "display_data"
    },
    {
     "name": "stdout",
     "output_type": "stream",
     "text": [
      "<class 'pandas.core.frame.DataFrame'>\n",
      "RangeIndex: 395 entries, 0 to 394\n",
      "Data columns (total 30 columns):\n",
      " #   Column               Non-Null Count  Dtype  \n",
      "---  ------               --------------  -----  \n",
      " 0   school               395 non-null    object \n",
      " 1   sex                  395 non-null    object \n",
      " 2   age                  395 non-null    int64  \n",
      " 3   address              378 non-null    object \n",
      " 4   famsize              368 non-null    object \n",
      " 5   Pstatus              350 non-null    object \n",
      " 6   Medu                 392 non-null    float64\n",
      " 7   Fedu                 371 non-null    float64\n",
      " 8   Mjob                 376 non-null    object \n",
      " 9   Fjob                 359 non-null    object \n",
      " 10  reason               378 non-null    object \n",
      " 11  guardian             364 non-null    object \n",
      " 12  traveltime           367 non-null    float64\n",
      " 13  studytime            388 non-null    float64\n",
      " 14  failures             373 non-null    float64\n",
      " 15  schoolsup            386 non-null    object \n",
      " 16  famsup               356 non-null    object \n",
      " 17  paid                 355 non-null    object \n",
      " 18  activities           381 non-null    object \n",
      " 19  nursery              379 non-null    object \n",
      " 20  studytime, granular  388 non-null    float64\n",
      " 21  higher               375 non-null    object \n",
      " 22  internet             361 non-null    object \n",
      " 23  romantic             364 non-null    object \n",
      " 24  famrel               368 non-null    float64\n",
      " 25  freetime             384 non-null    float64\n",
      " 26  goout                387 non-null    float64\n",
      " 27  health               380 non-null    float64\n",
      " 28  absences             383 non-null    float64\n",
      " 29  score                389 non-null    float64\n",
      "dtypes: float64(12), int64(1), object(17)\n",
      "memory usage: 92.7+ KB\n"
     ]
    }
   ],
   "source": [
    "import pandas as pd\n",
    "import matplotlib.pyplot as plt\n",
    "import seaborn as sns\n",
    "from itertools import combinations\n",
    "from scipy.stats import ttest_ind\n",
    "import numpy as np\n",
    "\n",
    "pd.set_option('display.max_rows', 50) # показывать больше строк\n",
    "pd.set_option('display.max_columns', 50) # показывать больше колонок\n",
    "\n",
    "stud = pd.read_csv(r'd:\\sys\\Users\\akbear\\skillfactory\\Project02\\stud_math.csv')\n",
    "display(stud.head(10))\n",
    "stud.info()"
   ]
  },
  {
   "cell_type": "code",
   "execution_count": 2,
   "id": "cfbcfceb",
   "metadata": {},
   "outputs": [
    {
     "data": {
      "text/plain": [
       "Index(['school', 'sex', 'age', 'address', 'famsize', 'pstatus', 'medu', 'fedu',\n",
       "       'mjob', 'fjob', 'reason', 'guardian', 'traveltime', 'studytime',\n",
       "       'failures', 'schoolsup', 'famsup', 'paid', 'activities', 'nursery',\n",
       "       'granular', 'higher', 'internet', 'romantic', 'famrel', 'freetime',\n",
       "       'goout', 'health', 'absences', 'score'],\n",
       "      dtype='object')"
      ]
     },
     "execution_count": 2,
     "metadata": {},
     "output_type": "execute_result"
    }
   ],
   "source": [
    "#переименуем колонки\n",
    "stud.rename(columns={'Medu': 'medu', 'Fedu': 'fedu', 'Mjob': 'mjob', 'Fjob': 'fjob',\n",
    "                     'studytime, granular': 'granular', 'Pstatus': 'pstatus'\n",
    "                    }, inplace=True)\n",
    "stud.columns"
   ]
  },
  {
   "cell_type": "markdown",
   "id": "aa3172a0",
   "metadata": {},
   "source": [
    "# school — аббревиатура школы"
   ]
  },
  {
   "cell_type": "code",
   "execution_count": 3,
   "id": "94b228ff",
   "metadata": {},
   "outputs": [
    {
     "data": {
      "text/html": [
       "<div>\n",
       "<style scoped>\n",
       "    .dataframe tbody tr th:only-of-type {\n",
       "        vertical-align: middle;\n",
       "    }\n",
       "\n",
       "    .dataframe tbody tr th {\n",
       "        vertical-align: top;\n",
       "    }\n",
       "\n",
       "    .dataframe thead th {\n",
       "        text-align: right;\n",
       "    }\n",
       "</style>\n",
       "<table border=\"1\" class=\"dataframe\">\n",
       "  <thead>\n",
       "    <tr style=\"text-align: right;\">\n",
       "      <th></th>\n",
       "      <th>school</th>\n",
       "    </tr>\n",
       "  </thead>\n",
       "  <tbody>\n",
       "    <tr>\n",
       "      <th>GP</th>\n",
       "      <td>349</td>\n",
       "    </tr>\n",
       "    <tr>\n",
       "      <th>MS</th>\n",
       "      <td>46</td>\n",
       "    </tr>\n",
       "  </tbody>\n",
       "</table>\n",
       "</div>"
      ],
      "text/plain": [
       "    school\n",
       "GP     349\n",
       "MS      46"
      ]
     },
     "execution_count": 3,
     "metadata": {},
     "output_type": "execute_result"
    }
   ],
   "source": [
    "pd.DataFrame(stud.school.value_counts())\n",
    "\n",
    "#потенциально важный признак. от школы как комплекса из ряда компонентов от уюта до т.н. \"силы\" преподавательского состава сильно\n",
    "#зависит как приток новых перспективных учеников, так и развитие  потенциала \"старых\"."
   ]
  },
  {
   "cell_type": "code",
   "execution_count": 4,
   "id": "baa77c3e",
   "metadata": {},
   "outputs": [
    {
     "data": {
      "text/plain": [
       "0"
      ]
     },
     "execution_count": 4,
     "metadata": {},
     "output_type": "execute_result"
    }
   ],
   "source": [
    "stud.school.isnull().sum() #пустых позиций нет"
   ]
  },
  {
   "cell_type": "code",
   "execution_count": 5,
   "id": "cbb9b93b",
   "metadata": {},
   "outputs": [
    {
     "data": {
      "text/plain": [
       "<AxesSubplot:xlabel='school', ylabel='count'>"
      ]
     },
     "execution_count": 5,
     "metadata": {},
     "output_type": "execute_result"
    },
    {
     "data": {
      "image/png": "[encoded data removed]",
      "text/plain": [
       "<Figure size 432x288 with 1 Axes>"
      ]
     },
     "metadata": {
      "needs_background": "light"
     },
     "output_type": "display_data"
    }
   ],
   "source": [
    "sns.countplot(x = 'school', data = stud)"
   ]
  },
  {
   "cell_type": "markdown",
   "id": "92c903e2",
   "metadata": {},
   "source": [
    "# sex - распределение по полу"
   ]
  },
  {
   "cell_type": "code",
   "execution_count": 6,
   "id": "cd6e8a47",
   "metadata": {},
   "outputs": [
    {
     "data": {
      "text/html": [
       "<div>\n",
       "<style scoped>\n",
       "    .dataframe tbody tr th:only-of-type {\n",
       "        vertical-align: middle;\n",
       "    }\n",
       "\n",
       "    .dataframe tbody tr th {\n",
       "        vertical-align: top;\n",
       "    }\n",
       "\n",
       "    .dataframe thead th {\n",
       "        text-align: right;\n",
       "    }\n",
       "</style>\n",
       "<table border=\"1\" class=\"dataframe\">\n",
       "  <thead>\n",
       "    <tr style=\"text-align: right;\">\n",
       "      <th></th>\n",
       "      <th>sex</th>\n",
       "    </tr>\n",
       "  </thead>\n",
       "  <tbody>\n",
       "    <tr>\n",
       "      <th>F</th>\n",
       "      <td>208</td>\n",
       "    </tr>\n",
       "    <tr>\n",
       "      <th>M</th>\n",
       "      <td>187</td>\n",
       "    </tr>\n",
       "  </tbody>\n",
       "</table>\n",
       "</div>"
      ],
      "text/plain": [
       "   sex\n",
       "F  208\n",
       "M  187"
      ]
     },
     "execution_count": 6,
     "metadata": {},
     "output_type": "execute_result"
    }
   ],
   "source": [
    "pd.DataFrame(stud.sex.value_counts()) \n",
    "\n",
    "#по статистике у мальчиков более развито абстрактное мышление,\n",
    "#однако в случае если школа \"математическая\", то признак может нивелироваться."
   ]
  },
  {
   "cell_type": "code",
   "execution_count": 7,
   "id": "21c5ecde",
   "metadata": {},
   "outputs": [
    {
     "data": {
      "text/plain": [
       "0"
      ]
     },
     "execution_count": 7,
     "metadata": {},
     "output_type": "execute_result"
    }
   ],
   "source": [
    "stud.sex.isnull().sum() #пустых позиций нет"
   ]
  },
  {
   "cell_type": "code",
   "execution_count": 8,
   "id": "e468b2f7",
   "metadata": {},
   "outputs": [
    {
     "data": {
      "text/plain": [
       "<AxesSubplot:xlabel='sex', ylabel='count'>"
      ]
     },
     "execution_count": 8,
     "metadata": {},
     "output_type": "execute_result"
    },
    {
     "data": {
      "image/png": "[encoded data removed]",
      "text/plain": [
       "<Figure size 432x288 with 1 Axes>"
      ]
     },
     "metadata": {
      "needs_background": "light"
     },
     "output_type": "display_data"
    }
   ],
   "source": [
    "sns.countplot(x = 'sex', data = stud)"
   ]
  },
  {
   "cell_type": "markdown",
   "id": "9ab80dc8",
   "metadata": {},
   "source": [
    "# age - распределение по возрасту"
   ]
  },
  {
   "cell_type": "code",
   "execution_count": 9,
   "id": "e86be8c4",
   "metadata": {},
   "outputs": [
    {
     "data": {
      "text/html": [
       "<div>\n",
       "<style scoped>\n",
       "    .dataframe tbody tr th:only-of-type {\n",
       "        vertical-align: middle;\n",
       "    }\n",
       "\n",
       "    .dataframe tbody tr th {\n",
       "        vertical-align: top;\n",
       "    }\n",
       "\n",
       "    .dataframe thead th {\n",
       "        text-align: right;\n",
       "    }\n",
       "</style>\n",
       "<table border=\"1\" class=\"dataframe\">\n",
       "  <thead>\n",
       "    <tr style=\"text-align: right;\">\n",
       "      <th></th>\n",
       "      <th>age</th>\n",
       "    </tr>\n",
       "  </thead>\n",
       "  <tbody>\n",
       "    <tr>\n",
       "      <th>16</th>\n",
       "      <td>104</td>\n",
       "    </tr>\n",
       "    <tr>\n",
       "      <th>17</th>\n",
       "      <td>98</td>\n",
       "    </tr>\n",
       "    <tr>\n",
       "      <th>15</th>\n",
       "      <td>82</td>\n",
       "    </tr>\n",
       "    <tr>\n",
       "      <th>18</th>\n",
       "      <td>82</td>\n",
       "    </tr>\n",
       "    <tr>\n",
       "      <th>19</th>\n",
       "      <td>24</td>\n",
       "    </tr>\n",
       "    <tr>\n",
       "      <th>20</th>\n",
       "      <td>3</td>\n",
       "    </tr>\n",
       "    <tr>\n",
       "      <th>21</th>\n",
       "      <td>1</td>\n",
       "    </tr>\n",
       "    <tr>\n",
       "      <th>22</th>\n",
       "      <td>1</td>\n",
       "    </tr>\n",
       "  </tbody>\n",
       "</table>\n",
       "</div>"
      ],
      "text/plain": [
       "    age\n",
       "16  104\n",
       "17   98\n",
       "15   82\n",
       "18   82\n",
       "19   24\n",
       "20    3\n",
       "21    1\n",
       "22    1"
      ]
     },
     "execution_count": 9,
     "metadata": {},
     "output_type": "execute_result"
    }
   ],
   "source": [
    "pd.DataFrame(stud.age.value_counts()) "
   ]
  },
  {
   "cell_type": "code",
   "execution_count": 10,
   "id": "7d04b414",
   "metadata": {},
   "outputs": [
    {
     "data": {
      "text/plain": [
       "0"
      ]
     },
     "execution_count": 10,
     "metadata": {},
     "output_type": "execute_result"
    }
   ],
   "source": [
    "stud.age.isnull().sum() #пустых позиций нет"
   ]
  },
  {
   "cell_type": "code",
   "execution_count": 11,
   "id": "fa59dac4",
   "metadata": {},
   "outputs": [],
   "source": [
    "#stud = stud.loc[stud.age < 20] #отсеем \"недетей\" - это противоречит по проектному заданию, но при отбрасывании всего лишь \n",
    "#пятерых учеников 20+ результаты серьёзно меняются. также очень интересно меняются итоговые оценки значимости в случае\n",
    "#если оставить только 18 и младше (при том, что отбрасывается менее 10% объема анкет) "
   ]
  },
  {
   "cell_type": "code",
   "execution_count": 12,
   "id": "518c3cda",
   "metadata": {},
   "outputs": [],
   "source": [
    "#изначальное предположение: исходная таблица - результат оцифровки бумажных анкет.\n",
    "#в первую очередь это основано на том, что первые и самые важные позиции (школа, пол  и возраст),\n",
    "#обычно находящиеся в шапках подобных документов, не имеют пропусков."
   ]
  },
  {
   "cell_type": "code",
   "execution_count": 13,
   "id": "9867d968",
   "metadata": {},
   "outputs": [
    {
     "data": {
      "text/plain": [
       "<AxesSubplot:xlabel='age', ylabel='Count'>"
      ]
     },
     "execution_count": 13,
     "metadata": {},
     "output_type": "execute_result"
    },
    {
     "data": {
      "image/png": "[encoded data removed]",
      "text/plain": [
       "<Figure size 432x288 with 1 Axes>"
      ]
     },
     "metadata": {
      "needs_background": "light"
     },
     "output_type": "display_data"
    }
   ],
   "source": [
    "sns.histplot(data=stud.age, bins = 8)"
   ]
  },
  {
   "cell_type": "markdown",
   "id": "6519a38f",
   "metadata": {},
   "source": [
    "# address - распределение по адресам\n",
    "(U - город, R - пригород)"
   ]
  },
  {
   "cell_type": "code",
   "execution_count": 14,
   "id": "b4640b35",
   "metadata": {},
   "outputs": [
    {
     "data": {
      "text/html": [
       "<div>\n",
       "<style scoped>\n",
       "    .dataframe tbody tr th:only-of-type {\n",
       "        vertical-align: middle;\n",
       "    }\n",
       "\n",
       "    .dataframe tbody tr th {\n",
       "        vertical-align: top;\n",
       "    }\n",
       "\n",
       "    .dataframe thead th {\n",
       "        text-align: right;\n",
       "    }\n",
       "</style>\n",
       "<table border=\"1\" class=\"dataframe\">\n",
       "  <thead>\n",
       "    <tr style=\"text-align: right;\">\n",
       "      <th></th>\n",
       "      <th>address</th>\n",
       "    </tr>\n",
       "  </thead>\n",
       "  <tbody>\n",
       "    <tr>\n",
       "      <th>U</th>\n",
       "      <td>295</td>\n",
       "    </tr>\n",
       "    <tr>\n",
       "      <th>R</th>\n",
       "      <td>83</td>\n",
       "    </tr>\n",
       "  </tbody>\n",
       "</table>\n",
       "</div>"
      ],
      "text/plain": [
       "   address\n",
       "U      295\n",
       "R       83"
      ]
     },
     "execution_count": 14,
     "metadata": {},
     "output_type": "execute_result"
    }
   ],
   "source": [
    "pd.DataFrame(stud.address.value_counts()) #распределение по адресам"
   ]
  },
  {
   "cell_type": "code",
   "execution_count": 15,
   "id": "c26adc57",
   "metadata": {},
   "outputs": [
    {
     "data": {
      "text/plain": [
       "17"
      ]
     },
     "execution_count": 15,
     "metadata": {},
     "output_type": "execute_result"
    }
   ],
   "source": [
    "stud.address.isnull().sum() # 17 пустых позиций"
   ]
  },
  {
   "cell_type": "code",
   "execution_count": 16,
   "id": "f8d3c8e0",
   "metadata": {},
   "outputs": [
    {
     "data": {
      "text/plain": [
       "<AxesSubplot:xlabel='address', ylabel='count'>"
      ]
     },
     "execution_count": 16,
     "metadata": {},
     "output_type": "execute_result"
    },
    {
     "data": {
      "image/png": "[encoded data removed]",
      "text/plain": [
       "<Figure size 432x288 with 1 Axes>"
      ]
     },
     "metadata": {
      "needs_background": "light"
     },
     "output_type": "display_data"
    }
   ],
   "source": [
    "sns.countplot(x = 'address', data = stud)"
   ]
  },
  {
   "cell_type": "markdown",
   "id": "50aa5a94",
   "metadata": {},
   "source": [
    "# famsize - распределение по количеству членов семьи\n",
    "(GT3 - больше трех, LE3 - меньше трех)"
   ]
  },
  {
   "cell_type": "code",
   "execution_count": 17,
   "id": "f959fbf7",
   "metadata": {},
   "outputs": [
    {
     "data": {
      "text/html": [
       "<div>\n",
       "<style scoped>\n",
       "    .dataframe tbody tr th:only-of-type {\n",
       "        vertical-align: middle;\n",
       "    }\n",
       "\n",
       "    .dataframe tbody tr th {\n",
       "        vertical-align: top;\n",
       "    }\n",
       "\n",
       "    .dataframe thead th {\n",
       "        text-align: right;\n",
       "    }\n",
       "</style>\n",
       "<table border=\"1\" class=\"dataframe\">\n",
       "  <thead>\n",
       "    <tr style=\"text-align: right;\">\n",
       "      <th></th>\n",
       "      <th>famsize</th>\n",
       "    </tr>\n",
       "  </thead>\n",
       "  <tbody>\n",
       "    <tr>\n",
       "      <th>GT3</th>\n",
       "      <td>261</td>\n",
       "    </tr>\n",
       "    <tr>\n",
       "      <th>LE3</th>\n",
       "      <td>107</td>\n",
       "    </tr>\n",
       "  </tbody>\n",
       "</table>\n",
       "</div>"
      ],
      "text/plain": [
       "     famsize\n",
       "GT3      261\n",
       "LE3      107"
      ]
     },
     "execution_count": 17,
     "metadata": {},
     "output_type": "execute_result"
    }
   ],
   "source": [
    "pd.DataFrame(stud.famsize.value_counts()) #распределение по количеству членов семьи"
   ]
  },
  {
   "cell_type": "code",
   "execution_count": 18,
   "id": "62410839",
   "metadata": {},
   "outputs": [
    {
     "data": {
      "text/plain": [
       "27"
      ]
     },
     "execution_count": 18,
     "metadata": {},
     "output_type": "execute_result"
    }
   ],
   "source": [
    "stud.famsize.isnull().sum() # 27 пустых позиций"
   ]
  },
  {
   "cell_type": "code",
   "execution_count": 19,
   "id": "7ab80d8d",
   "metadata": {},
   "outputs": [
    {
     "data": {
      "text/plain": [
       "<AxesSubplot:xlabel='famsize', ylabel='count'>"
      ]
     },
     "execution_count": 19,
     "metadata": {},
     "output_type": "execute_result"
    },
    {
     "data": {
      "image/png": "[encoded data removed]",
      "text/plain": [
       "<Figure size 432x288 with 1 Axes>"
      ]
     },
     "metadata": {
      "needs_background": "light"
     },
     "output_type": "display_data"
    }
   ],
   "source": [
    "sns.countplot(x = 'famsize', data = stud)"
   ]
  },
  {
   "cell_type": "code",
   "execution_count": 20,
   "id": "30e28d8e",
   "metadata": {},
   "outputs": [],
   "source": [
    "#этот признак предлагается отбросить как незначимый, т.к. и в маленькой семье могут быть и гиперопека\n",
    "#и повышенная бытовая нагрузка, так и в большой семье может происходить как распыление внимание от шума\n",
    "#и прочих сопутствующих факторов, но в то же время в некоторых больших семьях возникает явление самоорганизации\n",
    "#и взаимопомощи."
   ]
  },
  {
   "cell_type": "markdown",
   "id": "a718423d",
   "metadata": {},
   "source": [
    "# pstatus - статус совместного проживания родителей\n",
    "('T' - живут вместе 'A' - раздельно)"
   ]
  },
  {
   "cell_type": "code",
   "execution_count": 21,
   "id": "de0e3311",
   "metadata": {},
   "outputs": [
    {
     "data": {
      "text/html": [
       "<div>\n",
       "<style scoped>\n",
       "    .dataframe tbody tr th:only-of-type {\n",
       "        vertical-align: middle;\n",
       "    }\n",
       "\n",
       "    .dataframe tbody tr th {\n",
       "        vertical-align: top;\n",
       "    }\n",
       "\n",
       "    .dataframe thead th {\n",
       "        text-align: right;\n",
       "    }\n",
       "</style>\n",
       "<table border=\"1\" class=\"dataframe\">\n",
       "  <thead>\n",
       "    <tr style=\"text-align: right;\">\n",
       "      <th></th>\n",
       "      <th>pstatus</th>\n",
       "    </tr>\n",
       "  </thead>\n",
       "  <tbody>\n",
       "    <tr>\n",
       "      <th>T</th>\n",
       "      <td>314</td>\n",
       "    </tr>\n",
       "    <tr>\n",
       "      <th>A</th>\n",
       "      <td>36</td>\n",
       "    </tr>\n",
       "  </tbody>\n",
       "</table>\n",
       "</div>"
      ],
      "text/plain": [
       "   pstatus\n",
       "T      314\n",
       "A       36"
      ]
     },
     "execution_count": 21,
     "metadata": {},
     "output_type": "execute_result"
    }
   ],
   "source": [
    "pd.DataFrame(stud.pstatus.value_counts())"
   ]
  },
  {
   "cell_type": "code",
   "execution_count": 22,
   "id": "4e17a437",
   "metadata": {},
   "outputs": [
    {
     "data": {
      "text/plain": [
       "45"
      ]
     },
     "execution_count": 22,
     "metadata": {},
     "output_type": "execute_result"
    }
   ],
   "source": [
    "stud.pstatus.isnull().sum() # 45 пустая позиция"
   ]
  },
  {
   "cell_type": "code",
   "execution_count": 23,
   "id": "bf0cc19b",
   "metadata": {},
   "outputs": [
    {
     "data": {
      "text/plain": [
       "<AxesSubplot:xlabel='pstatus', ylabel='count'>"
      ]
     },
     "execution_count": 23,
     "metadata": {},
     "output_type": "execute_result"
    },
    {
     "data": {
      "image/png": "[encoded data removed]",
      "text/plain": [
       "<Figure size 432x288 with 1 Axes>"
      ]
     },
     "metadata": {
      "needs_background": "light"
     },
     "output_type": "display_data"
    }
   ],
   "source": [
    "sns.countplot(x = 'pstatus', data = stud)"
   ]
  },
  {
   "cell_type": "code",
   "execution_count": 24,
   "id": "4336ed35",
   "metadata": {},
   "outputs": [],
   "source": [
    "#предлагается отбросить: разного рода мотивация и внутрисемейный климат значительно важнее."
   ]
  },
  {
   "cell_type": "markdown",
   "id": "2395dbd0",
   "metadata": {},
   "source": [
    "# medu - распределение по образованию матери\n",
    "(0 - нет, 1 - 4 класса, 2 - 5-9 классы, 3 - среднее специальное или 11 классов, 4 - высшее)"
   ]
  },
  {
   "cell_type": "code",
   "execution_count": 25,
   "id": "4843646a",
   "metadata": {},
   "outputs": [
    {
     "data": {
      "text/html": [
       "<div>\n",
       "<style scoped>\n",
       "    .dataframe tbody tr th:only-of-type {\n",
       "        vertical-align: middle;\n",
       "    }\n",
       "\n",
       "    .dataframe tbody tr th {\n",
       "        vertical-align: top;\n",
       "    }\n",
       "\n",
       "    .dataframe thead th {\n",
       "        text-align: right;\n",
       "    }\n",
       "</style>\n",
       "<table border=\"1\" class=\"dataframe\">\n",
       "  <thead>\n",
       "    <tr style=\"text-align: right;\">\n",
       "      <th></th>\n",
       "      <th>medu</th>\n",
       "    </tr>\n",
       "  </thead>\n",
       "  <tbody>\n",
       "    <tr>\n",
       "      <th>4.0</th>\n",
       "      <td>131</td>\n",
       "    </tr>\n",
       "    <tr>\n",
       "      <th>2.0</th>\n",
       "      <td>102</td>\n",
       "    </tr>\n",
       "    <tr>\n",
       "      <th>3.0</th>\n",
       "      <td>97</td>\n",
       "    </tr>\n",
       "    <tr>\n",
       "      <th>1.0</th>\n",
       "      <td>59</td>\n",
       "    </tr>\n",
       "    <tr>\n",
       "      <th>0.0</th>\n",
       "      <td>3</td>\n",
       "    </tr>\n",
       "  </tbody>\n",
       "</table>\n",
       "</div>"
      ],
      "text/plain": [
       "     medu\n",
       "4.0   131\n",
       "2.0   102\n",
       "3.0    97\n",
       "1.0    59\n",
       "0.0     3"
      ]
     },
     "execution_count": 25,
     "metadata": {},
     "output_type": "execute_result"
    }
   ],
   "source": [
    "pd.DataFrame(stud.medu.value_counts()) "
   ]
  },
  {
   "cell_type": "code",
   "execution_count": 26,
   "id": "665d7bc9",
   "metadata": {},
   "outputs": [
    {
     "data": {
      "text/plain": [
       "3"
      ]
     },
     "execution_count": 26,
     "metadata": {},
     "output_type": "execute_result"
    }
   ],
   "source": [
    "stud.medu.isnull().sum() # 3 пустых позиции"
   ]
  },
  {
   "cell_type": "markdown",
   "id": "2a1a492b",
   "metadata": {},
   "source": [
    "# fedu - распределение по образованию отца\n",
    "(0 - нет, 1 - 4 класса, 2 - 5-9 классы, 3 - среднее специальное или 11 классов, 4 - высшее)"
   ]
  },
  {
   "cell_type": "code",
   "execution_count": 27,
   "id": "5959472f",
   "metadata": {},
   "outputs": [
    {
     "data": {
      "text/html": [
       "<div>\n",
       "<style scoped>\n",
       "    .dataframe tbody tr th:only-of-type {\n",
       "        vertical-align: middle;\n",
       "    }\n",
       "\n",
       "    .dataframe tbody tr th {\n",
       "        vertical-align: top;\n",
       "    }\n",
       "\n",
       "    .dataframe thead th {\n",
       "        text-align: right;\n",
       "    }\n",
       "</style>\n",
       "<table border=\"1\" class=\"dataframe\">\n",
       "  <thead>\n",
       "    <tr style=\"text-align: right;\">\n",
       "      <th></th>\n",
       "      <th>fedu</th>\n",
       "    </tr>\n",
       "  </thead>\n",
       "  <tbody>\n",
       "    <tr>\n",
       "      <th>2.0</th>\n",
       "      <td>106</td>\n",
       "    </tr>\n",
       "    <tr>\n",
       "      <th>3.0</th>\n",
       "      <td>96</td>\n",
       "    </tr>\n",
       "    <tr>\n",
       "      <th>4.0</th>\n",
       "      <td>88</td>\n",
       "    </tr>\n",
       "    <tr>\n",
       "      <th>1.0</th>\n",
       "      <td>78</td>\n",
       "    </tr>\n",
       "    <tr>\n",
       "      <th>0.0</th>\n",
       "      <td>2</td>\n",
       "    </tr>\n",
       "    <tr>\n",
       "      <th>40.0</th>\n",
       "      <td>1</td>\n",
       "    </tr>\n",
       "  </tbody>\n",
       "</table>\n",
       "</div>"
      ],
      "text/plain": [
       "      fedu\n",
       "2.0    106\n",
       "3.0     96\n",
       "4.0     88\n",
       "1.0     78\n",
       "0.0      2\n",
       "40.0     1"
      ]
     },
     "execution_count": 27,
     "metadata": {},
     "output_type": "execute_result"
    }
   ],
   "source": [
    "pd.DataFrame(stud.fedu.value_counts()) #распределение по образованию отца\n"
   ]
  },
  {
   "cell_type": "code",
   "execution_count": 28,
   "id": "0fffdbe9",
   "metadata": {},
   "outputs": [
    {
     "data": {
      "text/html": [
       "<div>\n",
       "<style scoped>\n",
       "    .dataframe tbody tr th:only-of-type {\n",
       "        vertical-align: middle;\n",
       "    }\n",
       "\n",
       "    .dataframe tbody tr th {\n",
       "        vertical-align: top;\n",
       "    }\n",
       "\n",
       "    .dataframe thead th {\n",
       "        text-align: right;\n",
       "    }\n",
       "</style>\n",
       "<table border=\"1\" class=\"dataframe\">\n",
       "  <thead>\n",
       "    <tr style=\"text-align: right;\">\n",
       "      <th></th>\n",
       "      <th>fedu</th>\n",
       "    </tr>\n",
       "  </thead>\n",
       "  <tbody>\n",
       "    <tr>\n",
       "      <th>2.0</th>\n",
       "      <td>106</td>\n",
       "    </tr>\n",
       "    <tr>\n",
       "      <th>3.0</th>\n",
       "      <td>96</td>\n",
       "    </tr>\n",
       "    <tr>\n",
       "      <th>4.0</th>\n",
       "      <td>89</td>\n",
       "    </tr>\n",
       "    <tr>\n",
       "      <th>1.0</th>\n",
       "      <td>78</td>\n",
       "    </tr>\n",
       "    <tr>\n",
       "      <th>0.0</th>\n",
       "      <td>2</td>\n",
       "    </tr>\n",
       "  </tbody>\n",
       "</table>\n",
       "</div>"
      ],
      "text/plain": [
       "     fedu\n",
       "2.0   106\n",
       "3.0    96\n",
       "4.0    89\n",
       "1.0    78\n",
       "0.0     2"
      ]
     },
     "execution_count": 28,
     "metadata": {},
     "output_type": "execute_result"
    }
   ],
   "source": [
    "#единственный выброс 40.0 - скорее всего опечатка. поменяем на 4.0\n",
    "stud.fedu = stud.fedu.apply(lambda x: 4.0 if x == 40.0 else x)\n",
    "pd.DataFrame(stud.fedu.value_counts()) #проверяем"
   ]
  },
  {
   "cell_type": "code",
   "execution_count": 29,
   "id": "f66221e5",
   "metadata": {},
   "outputs": [
    {
     "data": {
      "text/plain": [
       "24"
      ]
     },
     "execution_count": 29,
     "metadata": {},
     "output_type": "execute_result"
    }
   ],
   "source": [
    "stud.fedu.isnull().sum() #24 позиции с неизвестным уровнем образования"
   ]
  },
  {
   "cell_type": "code",
   "execution_count": 30,
   "id": "e809495d",
   "metadata": {
    "scrolled": true
   },
   "outputs": [],
   "source": [
    "stud.medu = stud.medu.fillna(stud.medu.median()) #заменим пропуски на медианное значение.\n",
    "stud.fedu = stud.fedu.fillna(stud.fedu.median())"
   ]
  },
  {
   "cell_type": "code",
   "execution_count": 31,
   "id": "f5081255",
   "metadata": {},
   "outputs": [
    {
     "data": {
      "text/plain": [
       "<AxesSubplot:xlabel='medu', ylabel='Count'>"
      ]
     },
     "execution_count": 31,
     "metadata": {},
     "output_type": "execute_result"
    },
    {
     "data": {
      "image/png": "[encoded data removed]",
      "text/plain": [
       "<Figure size 432x288 with 1 Axes>"
      ]
     },
     "metadata": {
      "needs_background": "light"
     },
     "output_type": "display_data"
    }
   ],
   "source": [
    "sns.histplot(data=stud.medu, bins = 5, binwidth = 0.2)"
   ]
  },
  {
   "cell_type": "code",
   "execution_count": 32,
   "id": "bd9097c7",
   "metadata": {},
   "outputs": [
    {
     "data": {
      "text/plain": [
       "<AxesSubplot:xlabel='fedu', ylabel='Count'>"
      ]
     },
     "execution_count": 32,
     "metadata": {},
     "output_type": "execute_result"
    },
    {
     "data": {
      "image/png": "[encoded data removed]",
      "text/plain": [
       "<Figure size 432x288 with 1 Axes>"
      ]
     },
     "metadata": {
      "needs_background": "light"
     },
     "output_type": "display_data"
    }
   ],
   "source": [
    "sns.histplot(data=stud.fedu, bins = 5, binwidth = 0.2)"
   ]
  },
  {
   "cell_type": "markdown",
   "id": "c6028f20",
   "metadata": {},
   "source": [
    "# mjob, fjob - распределение по профессиям родителей"
   ]
  },
  {
   "cell_type": "code",
   "execution_count": 33,
   "id": "169ceda4",
   "metadata": {},
   "outputs": [
    {
     "data": {
      "text/html": [
       "<div>\n",
       "<style scoped>\n",
       "    .dataframe tbody tr th:only-of-type {\n",
       "        vertical-align: middle;\n",
       "    }\n",
       "\n",
       "    .dataframe tbody tr th {\n",
       "        vertical-align: top;\n",
       "    }\n",
       "\n",
       "    .dataframe thead th {\n",
       "        text-align: right;\n",
       "    }\n",
       "</style>\n",
       "<table border=\"1\" class=\"dataframe\">\n",
       "  <thead>\n",
       "    <tr style=\"text-align: right;\">\n",
       "      <th></th>\n",
       "      <th>mjob</th>\n",
       "    </tr>\n",
       "  </thead>\n",
       "  <tbody>\n",
       "    <tr>\n",
       "      <th>other</th>\n",
       "      <td>133</td>\n",
       "    </tr>\n",
       "    <tr>\n",
       "      <th>services</th>\n",
       "      <td>98</td>\n",
       "    </tr>\n",
       "    <tr>\n",
       "      <th>at_home</th>\n",
       "      <td>58</td>\n",
       "    </tr>\n",
       "    <tr>\n",
       "      <th>teacher</th>\n",
       "      <td>55</td>\n",
       "    </tr>\n",
       "    <tr>\n",
       "      <th>health</th>\n",
       "      <td>32</td>\n",
       "    </tr>\n",
       "  </tbody>\n",
       "</table>\n",
       "</div>"
      ],
      "text/plain": [
       "          mjob\n",
       "other      133\n",
       "services    98\n",
       "at_home     58\n",
       "teacher     55\n",
       "health      32"
      ]
     },
     "execution_count": 33,
     "metadata": {},
     "output_type": "execute_result"
    }
   ],
   "source": [
    "pd.DataFrame(stud.mjob.value_counts()) #распределение по профессии матери\n",
    "#значимость профессий родителей неочевидна (очень много 'other'). требуется проверка."
   ]
  },
  {
   "cell_type": "code",
   "execution_count": 34,
   "id": "486aee34",
   "metadata": {},
   "outputs": [
    {
     "data": {
      "text/plain": [
       "19"
      ]
     },
     "execution_count": 34,
     "metadata": {},
     "output_type": "execute_result"
    }
   ],
   "source": [
    "stud.mjob.isnull().sum() #19 позиций с неуказанной профессией"
   ]
  },
  {
   "cell_type": "code",
   "execution_count": 35,
   "id": "dd26365a",
   "metadata": {},
   "outputs": [
    {
     "data": {
      "text/html": [
       "<div>\n",
       "<style scoped>\n",
       "    .dataframe tbody tr th:only-of-type {\n",
       "        vertical-align: middle;\n",
       "    }\n",
       "\n",
       "    .dataframe tbody tr th {\n",
       "        vertical-align: top;\n",
       "    }\n",
       "\n",
       "    .dataframe thead th {\n",
       "        text-align: right;\n",
       "    }\n",
       "</style>\n",
       "<table border=\"1\" class=\"dataframe\">\n",
       "  <thead>\n",
       "    <tr style=\"text-align: right;\">\n",
       "      <th></th>\n",
       "      <th>fjob</th>\n",
       "    </tr>\n",
       "  </thead>\n",
       "  <tbody>\n",
       "    <tr>\n",
       "      <th>other</th>\n",
       "      <td>197</td>\n",
       "    </tr>\n",
       "    <tr>\n",
       "      <th>services</th>\n",
       "      <td>102</td>\n",
       "    </tr>\n",
       "    <tr>\n",
       "      <th>teacher</th>\n",
       "      <td>29</td>\n",
       "    </tr>\n",
       "    <tr>\n",
       "      <th>at_home</th>\n",
       "      <td>16</td>\n",
       "    </tr>\n",
       "    <tr>\n",
       "      <th>health</th>\n",
       "      <td>15</td>\n",
       "    </tr>\n",
       "  </tbody>\n",
       "</table>\n",
       "</div>"
      ],
      "text/plain": [
       "          fjob\n",
       "other      197\n",
       "services   102\n",
       "teacher     29\n",
       "at_home     16\n",
       "health      15"
      ]
     },
     "execution_count": 35,
     "metadata": {},
     "output_type": "execute_result"
    }
   ],
   "source": [
    "pd.DataFrame(stud.fjob.value_counts()) #распределение по профессии отца"
   ]
  },
  {
   "cell_type": "code",
   "execution_count": 36,
   "id": "718cd131",
   "metadata": {},
   "outputs": [
    {
     "data": {
      "text/plain": [
       "36"
      ]
     },
     "execution_count": 36,
     "metadata": {},
     "output_type": "execute_result"
    }
   ],
   "source": [
    "stud.fjob.isnull().sum() #36 позиций с неуказанной профессией"
   ]
  },
  {
   "cell_type": "code",
   "execution_count": 37,
   "id": "8bd5d18d",
   "metadata": {},
   "outputs": [],
   "source": [
    "#переопределим неуказанные профессии как 'other'\n",
    "\n",
    "stud.mjob = stud.mjob.apply(lambda x: 'other' if pd.isnull(x) else x)\n",
    "stud.fjob = stud.fjob.apply(lambda x: 'other' if pd.isnull(x) else x)"
   ]
  },
  {
   "cell_type": "code",
   "execution_count": 38,
   "id": "3d530aaa",
   "metadata": {},
   "outputs": [
    {
     "data": {
      "text/plain": [
       "<AxesSubplot:xlabel='mjob', ylabel='Count'>"
      ]
     },
     "execution_count": 38,
     "metadata": {},
     "output_type": "execute_result"
    },
    {
     "data": {
      "image/png": "[encoded data removed]",
      "text/plain": [
       "<Figure size 432x288 with 1 Axes>"
      ]
     },
     "metadata": {
      "needs_background": "light"
     },
     "output_type": "display_data"
    }
   ],
   "source": [
    "sns.histplot(data=stud.mjob, bins = 5)"
   ]
  },
  {
   "cell_type": "code",
   "execution_count": 39,
   "id": "b49f7300",
   "metadata": {},
   "outputs": [
    {
     "data": {
      "text/plain": [
       "<AxesSubplot:xlabel='fjob', ylabel='Count'>"
      ]
     },
     "execution_count": 39,
     "metadata": {},
     "output_type": "execute_result"
    },
    {
     "data": {
      "image/png": "[encoded data removed]",
      "text/plain": [
       "<Figure size 432x288 with 1 Axes>"
      ]
     },
     "metadata": {
      "needs_background": "light"
     },
     "output_type": "display_data"
    }
   ],
   "source": [
    "sns.histplot(data=stud.fjob, bins = 5)"
   ]
  },
  {
   "cell_type": "markdown",
   "id": "d5c495fd",
   "metadata": {},
   "source": [
    "# reason — причина выбора школы\n",
    "'home' - близость к дому, 'reputation' - репутация школы, 'course' - образовательная программа, 'other' - другое"
   ]
  },
  {
   "cell_type": "code",
   "execution_count": 40,
   "id": "73902b81",
   "metadata": {},
   "outputs": [
    {
     "data": {
      "text/html": [
       "<div>\n",
       "<style scoped>\n",
       "    .dataframe tbody tr th:only-of-type {\n",
       "        vertical-align: middle;\n",
       "    }\n",
       "\n",
       "    .dataframe tbody tr th {\n",
       "        vertical-align: top;\n",
       "    }\n",
       "\n",
       "    .dataframe thead th {\n",
       "        text-align: right;\n",
       "    }\n",
       "</style>\n",
       "<table border=\"1\" class=\"dataframe\">\n",
       "  <thead>\n",
       "    <tr style=\"text-align: right;\">\n",
       "      <th></th>\n",
       "      <th>reason</th>\n",
       "    </tr>\n",
       "  </thead>\n",
       "  <tbody>\n",
       "    <tr>\n",
       "      <th>course</th>\n",
       "      <td>137</td>\n",
       "    </tr>\n",
       "    <tr>\n",
       "      <th>home</th>\n",
       "      <td>104</td>\n",
       "    </tr>\n",
       "    <tr>\n",
       "      <th>reputation</th>\n",
       "      <td>103</td>\n",
       "    </tr>\n",
       "    <tr>\n",
       "      <th>other</th>\n",
       "      <td>34</td>\n",
       "    </tr>\n",
       "  </tbody>\n",
       "</table>\n",
       "</div>"
      ],
      "text/plain": [
       "            reason\n",
       "course         137\n",
       "home           104\n",
       "reputation     103\n",
       "other           34"
      ]
     },
     "execution_count": 40,
     "metadata": {},
     "output_type": "execute_result"
    }
   ],
   "source": [
    "# очевидно, что \"пассионарные\" причины (репутация) должны оказывать большее влияние на итоги обучения,\n",
    "# чем например \"конформная\" близость к дому. проверим ниже.\n",
    "\n",
    "pd.DataFrame(stud.reason.value_counts())"
   ]
  },
  {
   "cell_type": "code",
   "execution_count": 41,
   "id": "46be6715",
   "metadata": {},
   "outputs": [
    {
     "data": {
      "text/plain": [
       "17"
      ]
     },
     "execution_count": 41,
     "metadata": {},
     "output_type": "execute_result"
    }
   ],
   "source": [
    "stud.reason.isnull().sum() #17 неопределенных позиций."
   ]
  },
  {
   "cell_type": "code",
   "execution_count": 42,
   "id": "a883a812",
   "metadata": {},
   "outputs": [
    {
     "data": {
      "text/html": [
       "<div>\n",
       "<style scoped>\n",
       "    .dataframe tbody tr th:only-of-type {\n",
       "        vertical-align: middle;\n",
       "    }\n",
       "\n",
       "    .dataframe tbody tr th {\n",
       "        vertical-align: top;\n",
       "    }\n",
       "\n",
       "    .dataframe thead th {\n",
       "        text-align: right;\n",
       "    }\n",
       "</style>\n",
       "<table border=\"1\" class=\"dataframe\">\n",
       "  <thead>\n",
       "    <tr style=\"text-align: right;\">\n",
       "      <th></th>\n",
       "      <th>reason</th>\n",
       "    </tr>\n",
       "  </thead>\n",
       "  <tbody>\n",
       "    <tr>\n",
       "      <th>course</th>\n",
       "      <td>137</td>\n",
       "    </tr>\n",
       "    <tr>\n",
       "      <th>home</th>\n",
       "      <td>121</td>\n",
       "    </tr>\n",
       "    <tr>\n",
       "      <th>reputation</th>\n",
       "      <td>103</td>\n",
       "    </tr>\n",
       "    <tr>\n",
       "      <th>other</th>\n",
       "      <td>34</td>\n",
       "    </tr>\n",
       "  </tbody>\n",
       "</table>\n",
       "</div>"
      ],
      "text/plain": [
       "            reason\n",
       "course         137\n",
       "home           121\n",
       "reputation     103\n",
       "other           34"
      ]
     },
     "execution_count": 42,
     "metadata": {},
     "output_type": "execute_result"
    }
   ],
   "source": [
    "stud.reason = stud.reason.apply(lambda x: 'home' if pd.isnull(x) else x) #обычно дети учатся там, где живут.\n",
    "#это подтверждается в том числе и распределением по времени в пути до школы (ниже).\n",
    "pd.DataFrame(stud.reason.value_counts())"
   ]
  },
  {
   "cell_type": "code",
   "execution_count": 43,
   "id": "70e022cb",
   "metadata": {},
   "outputs": [
    {
     "data": {
      "text/plain": [
       "<AxesSubplot:xlabel='reason', ylabel='count'>"
      ]
     },
     "execution_count": 43,
     "metadata": {},
     "output_type": "execute_result"
    },
    {
     "data": {
      "image/png": "[encoded data removed]",
      "text/plain": [
       "<Figure size 432x288 with 1 Axes>"
      ]
     },
     "metadata": {
      "needs_background": "light"
     },
     "output_type": "display_data"
    }
   ],
   "source": [
    "sns.countplot(x = 'reason', data = stud)"
   ]
  },
  {
   "cell_type": "markdown",
   "id": "ab18e7f4",
   "metadata": {},
   "source": [
    "# guardian — опекун\n",
    "'mother' - мать, 'father' - отец, 'other' - другое"
   ]
  },
  {
   "cell_type": "code",
   "execution_count": 44,
   "id": "f438ac23",
   "metadata": {},
   "outputs": [
    {
     "data": {
      "text/html": [
       "<div>\n",
       "<style scoped>\n",
       "    .dataframe tbody tr th:only-of-type {\n",
       "        vertical-align: middle;\n",
       "    }\n",
       "\n",
       "    .dataframe tbody tr th {\n",
       "        vertical-align: top;\n",
       "    }\n",
       "\n",
       "    .dataframe thead th {\n",
       "        text-align: right;\n",
       "    }\n",
       "</style>\n",
       "<table border=\"1\" class=\"dataframe\">\n",
       "  <thead>\n",
       "    <tr style=\"text-align: right;\">\n",
       "      <th></th>\n",
       "      <th>guardian</th>\n",
       "    </tr>\n",
       "  </thead>\n",
       "  <tbody>\n",
       "    <tr>\n",
       "      <th>mother</th>\n",
       "      <td>250</td>\n",
       "    </tr>\n",
       "    <tr>\n",
       "      <th>father</th>\n",
       "      <td>86</td>\n",
       "    </tr>\n",
       "    <tr>\n",
       "      <th>other</th>\n",
       "      <td>28</td>\n",
       "    </tr>\n",
       "  </tbody>\n",
       "</table>\n",
       "</div>"
      ],
      "text/plain": [
       "        guardian\n",
       "mother       250\n",
       "father        86\n",
       "other         28"
      ]
     },
     "execution_count": 44,
     "metadata": {},
     "output_type": "execute_result"
    }
   ],
   "source": [
    "pd.DataFrame(stud.guardian.value_counts())"
   ]
  },
  {
   "cell_type": "code",
   "execution_count": 45,
   "id": "b76029ca",
   "metadata": {},
   "outputs": [
    {
     "data": {
      "text/plain": [
       "31"
      ]
     },
     "execution_count": 45,
     "metadata": {},
     "output_type": "execute_result"
    }
   ],
   "source": [
    "stud.guardian.isnull().sum() #31 пустых"
   ]
  },
  {
   "cell_type": "code",
   "execution_count": 46,
   "id": "530f47f8",
   "metadata": {},
   "outputs": [],
   "source": [
    "stud.guardian = stud.guardian.apply(lambda x: 'other' if pd.isnull(x) else x) #попробуем заполнить."
   ]
  },
  {
   "cell_type": "code",
   "execution_count": 47,
   "id": "76f32a9f",
   "metadata": {},
   "outputs": [
    {
     "data": {
      "text/plain": [
       "<AxesSubplot:xlabel='guardian', ylabel='count'>"
      ]
     },
     "execution_count": 47,
     "metadata": {},
     "output_type": "execute_result"
    },
    {
     "data": {
      "image/png": "[encoded data removed]",
      "text/plain": [
       "<Figure size 432x288 with 1 Axes>"
      ]
     },
     "metadata": {
      "needs_background": "light"
     },
     "output_type": "display_data"
    }
   ],
   "source": [
    "sns.countplot(x = 'guardian', data = stud)"
   ]
  },
  {
   "cell_type": "markdown",
   "id": "7005482d",
   "metadata": {},
   "source": [
    "# traveltime — время в пути до школы\n",
    "(1 - <15 мин., 2 - 15-30 мин., 3 - 30-60 мин., 4 - >60 мин.)"
   ]
  },
  {
   "cell_type": "code",
   "execution_count": 48,
   "id": "f6fa8707",
   "metadata": {},
   "outputs": [
    {
     "data": {
      "text/html": [
       "<div>\n",
       "<style scoped>\n",
       "    .dataframe tbody tr th:only-of-type {\n",
       "        vertical-align: middle;\n",
       "    }\n",
       "\n",
       "    .dataframe tbody tr th {\n",
       "        vertical-align: top;\n",
       "    }\n",
       "\n",
       "    .dataframe thead th {\n",
       "        text-align: right;\n",
       "    }\n",
       "</style>\n",
       "<table border=\"1\" class=\"dataframe\">\n",
       "  <thead>\n",
       "    <tr style=\"text-align: right;\">\n",
       "      <th></th>\n",
       "      <th>traveltime</th>\n",
       "    </tr>\n",
       "  </thead>\n",
       "  <tbody>\n",
       "    <tr>\n",
       "      <th>1.0</th>\n",
       "      <td>242</td>\n",
       "    </tr>\n",
       "    <tr>\n",
       "      <th>2.0</th>\n",
       "      <td>96</td>\n",
       "    </tr>\n",
       "    <tr>\n",
       "      <th>3.0</th>\n",
       "      <td>22</td>\n",
       "    </tr>\n",
       "    <tr>\n",
       "      <th>4.0</th>\n",
       "      <td>7</td>\n",
       "    </tr>\n",
       "  </tbody>\n",
       "</table>\n",
       "</div>"
      ],
      "text/plain": [
       "     traveltime\n",
       "1.0         242\n",
       "2.0          96\n",
       "3.0          22\n",
       "4.0           7"
      ]
     },
     "execution_count": 48,
     "metadata": {},
     "output_type": "execute_result"
    }
   ],
   "source": [
    "pd.DataFrame(stud.traveltime.value_counts())\n",
    "\n",
    "# долгие поездки в школу и обратно не только утомляют, но и отнимают время на занятия.\n",
    "# предполагается отрицательная корреляция c итоговой оценкой. хотя тех, кто тратит на транспорт критично много времени, мало."
   ]
  },
  {
   "cell_type": "code",
   "execution_count": 49,
   "id": "3f5b77cd",
   "metadata": {},
   "outputs": [
    {
     "data": {
      "text/plain": [
       "28"
      ]
     },
     "execution_count": 49,
     "metadata": {},
     "output_type": "execute_result"
    }
   ],
   "source": [
    "stud.traveltime.isnull().sum() #28 неопределенных позиций.\n"
   ]
  },
  {
   "cell_type": "code",
   "execution_count": 50,
   "id": "b4552ed1",
   "metadata": {},
   "outputs": [
    {
     "data": {
      "text/html": [
       "<div>\n",
       "<style scoped>\n",
       "    .dataframe tbody tr th:only-of-type {\n",
       "        vertical-align: middle;\n",
       "    }\n",
       "\n",
       "    .dataframe tbody tr th {\n",
       "        vertical-align: top;\n",
       "    }\n",
       "\n",
       "    .dataframe thead th {\n",
       "        text-align: right;\n",
       "    }\n",
       "</style>\n",
       "<table border=\"1\" class=\"dataframe\">\n",
       "  <thead>\n",
       "    <tr style=\"text-align: right;\">\n",
       "      <th></th>\n",
       "      <th>traveltime</th>\n",
       "    </tr>\n",
       "  </thead>\n",
       "  <tbody>\n",
       "    <tr>\n",
       "      <th>1.0</th>\n",
       "      <td>270</td>\n",
       "    </tr>\n",
       "    <tr>\n",
       "      <th>2.0</th>\n",
       "      <td>96</td>\n",
       "    </tr>\n",
       "    <tr>\n",
       "      <th>3.0</th>\n",
       "      <td>22</td>\n",
       "    </tr>\n",
       "    <tr>\n",
       "      <th>4.0</th>\n",
       "      <td>7</td>\n",
       "    </tr>\n",
       "  </tbody>\n",
       "</table>\n",
       "</div>"
      ],
      "text/plain": [
       "     traveltime\n",
       "1.0         270\n",
       "2.0          96\n",
       "3.0          22\n",
       "4.0           7"
      ]
     },
     "execution_count": 50,
     "metadata": {},
     "output_type": "execute_result"
    }
   ],
   "source": [
    "stud.traveltime = stud.traveltime.fillna(stud.traveltime.median()) #заполним неуказанные значения медианой\n",
    "pd.DataFrame(stud.traveltime.value_counts())\n"
   ]
  },
  {
   "cell_type": "code",
   "execution_count": 51,
   "id": "3e945d76",
   "metadata": {},
   "outputs": [
    {
     "data": {
      "text/plain": [
       "count    395.000000\n",
       "mean       1.407595\n",
       "std        0.678490\n",
       "min        1.000000\n",
       "25%        1.000000\n",
       "50%        1.000000\n",
       "75%        2.000000\n",
       "max        4.000000\n",
       "Name: traveltime, dtype: float64"
      ]
     },
     "execution_count": 51,
     "metadata": {},
     "output_type": "execute_result"
    }
   ],
   "source": [
    "stud.traveltime.describe()"
   ]
  },
  {
   "cell_type": "code",
   "execution_count": 52,
   "id": "63b1f779",
   "metadata": {},
   "outputs": [
    {
     "data": {
      "text/plain": [
       "<AxesSubplot:xlabel='traveltime', ylabel='count'>"
      ]
     },
     "execution_count": 52,
     "metadata": {},
     "output_type": "execute_result"
    },
    {
     "data": {
      "image/png": "[encoded data removed]",
      "text/plain": [
       "<Figure size 432x288 with 1 Axes>"
      ]
     },
     "metadata": {
      "needs_background": "light"
     },
     "output_type": "display_data"
    }
   ],
   "source": [
    "sns.countplot(x = 'traveltime', data = stud)"
   ]
  },
  {
   "cell_type": "markdown",
   "id": "5313d091",
   "metadata": {},
   "source": [
    "# studytime — время на учёбу помимо школы в неделю\n",
    "1 - <2 часов, 2 - 2-5 часов, 3 - 5-10 часов, 4 - >10 часов"
   ]
  },
  {
   "cell_type": "code",
   "execution_count": 53,
   "id": "ed6e9d0d",
   "metadata": {},
   "outputs": [
    {
     "data": {
      "text/html": [
       "<div>\n",
       "<style scoped>\n",
       "    .dataframe tbody tr th:only-of-type {\n",
       "        vertical-align: middle;\n",
       "    }\n",
       "\n",
       "    .dataframe tbody tr th {\n",
       "        vertical-align: top;\n",
       "    }\n",
       "\n",
       "    .dataframe thead th {\n",
       "        text-align: right;\n",
       "    }\n",
       "</style>\n",
       "<table border=\"1\" class=\"dataframe\">\n",
       "  <thead>\n",
       "    <tr style=\"text-align: right;\">\n",
       "      <th></th>\n",
       "      <th>studytime</th>\n",
       "    </tr>\n",
       "  </thead>\n",
       "  <tbody>\n",
       "    <tr>\n",
       "      <th>2.0</th>\n",
       "      <td>194</td>\n",
       "    </tr>\n",
       "    <tr>\n",
       "      <th>1.0</th>\n",
       "      <td>103</td>\n",
       "    </tr>\n",
       "    <tr>\n",
       "      <th>3.0</th>\n",
       "      <td>64</td>\n",
       "    </tr>\n",
       "    <tr>\n",
       "      <th>4.0</th>\n",
       "      <td>27</td>\n",
       "    </tr>\n",
       "  </tbody>\n",
       "</table>\n",
       "</div>"
      ],
      "text/plain": [
       "     studytime\n",
       "2.0        194\n",
       "1.0        103\n",
       "3.0         64\n",
       "4.0         27"
      ]
     },
     "execution_count": 53,
     "metadata": {},
     "output_type": "execute_result"
    }
   ],
   "source": [
    "# очевидно, что чем больше времени уделяется занятиям, тем лучше результат экзаменов.\n",
    "pd.DataFrame(stud.studytime.value_counts())"
   ]
  },
  {
   "cell_type": "code",
   "execution_count": 54,
   "id": "791dcd90",
   "metadata": {},
   "outputs": [
    {
     "data": {
      "text/plain": [
       "7"
      ]
     },
     "execution_count": 54,
     "metadata": {},
     "output_type": "execute_result"
    }
   ],
   "source": [
    "stud.studytime.isnull().sum() #7 неопределенных позиций."
   ]
  },
  {
   "cell_type": "code",
   "execution_count": 55,
   "id": "29b89066",
   "metadata": {},
   "outputs": [
    {
     "data": {
      "text/html": [
       "<div>\n",
       "<style scoped>\n",
       "    .dataframe tbody tr th:only-of-type {\n",
       "        vertical-align: middle;\n",
       "    }\n",
       "\n",
       "    .dataframe tbody tr th {\n",
       "        vertical-align: top;\n",
       "    }\n",
       "\n",
       "    .dataframe thead th {\n",
       "        text-align: right;\n",
       "    }\n",
       "</style>\n",
       "<table border=\"1\" class=\"dataframe\">\n",
       "  <thead>\n",
       "    <tr style=\"text-align: right;\">\n",
       "      <th></th>\n",
       "      <th>studytime</th>\n",
       "    </tr>\n",
       "  </thead>\n",
       "  <tbody>\n",
       "    <tr>\n",
       "      <th>2.0</th>\n",
       "      <td>201</td>\n",
       "    </tr>\n",
       "    <tr>\n",
       "      <th>1.0</th>\n",
       "      <td>103</td>\n",
       "    </tr>\n",
       "    <tr>\n",
       "      <th>3.0</th>\n",
       "      <td>64</td>\n",
       "    </tr>\n",
       "    <tr>\n",
       "      <th>4.0</th>\n",
       "      <td>27</td>\n",
       "    </tr>\n",
       "  </tbody>\n",
       "</table>\n",
       "</div>"
      ],
      "text/plain": [
       "     studytime\n",
       "2.0        201\n",
       "1.0        103\n",
       "3.0         64\n",
       "4.0         27"
      ]
     },
     "execution_count": 55,
     "metadata": {},
     "output_type": "execute_result"
    }
   ],
   "source": [
    "stud.studytime = stud.studytime.fillna(stud.studytime.median()) #заполним неуказанные значения медианой\n",
    "pd.DataFrame(stud.studytime.value_counts())"
   ]
  },
  {
   "cell_type": "code",
   "execution_count": 56,
   "id": "5a9e38bd",
   "metadata": {},
   "outputs": [
    {
     "data": {
      "text/plain": [
       "<AxesSubplot:xlabel='studytime', ylabel='count'>"
      ]
     },
     "execution_count": 56,
     "metadata": {},
     "output_type": "execute_result"
    },
    {
     "data": {
      "image/png": "[encoded data removed]",
      "text/plain": [
       "<Figure size 432x288 with 1 Axes>"
      ]
     },
     "metadata": {
      "needs_background": "light"
     },
     "output_type": "display_data"
    }
   ],
   "source": [
    "sns.countplot(x = 'studytime', data = stud)"
   ]
  },
  {
   "cell_type": "markdown",
   "id": "6834cf85",
   "metadata": {},
   "source": [
    "# failures — количество внеучебных неудач\n",
    "(n, если 1<=n<=3, иначе 0)"
   ]
  },
  {
   "cell_type": "code",
   "execution_count": 57,
   "id": "7aefce59",
   "metadata": {},
   "outputs": [
    {
     "data": {
      "text/html": [
       "<div>\n",
       "<style scoped>\n",
       "    .dataframe tbody tr th:only-of-type {\n",
       "        vertical-align: middle;\n",
       "    }\n",
       "\n",
       "    .dataframe tbody tr th {\n",
       "        vertical-align: top;\n",
       "    }\n",
       "\n",
       "    .dataframe thead th {\n",
       "        text-align: right;\n",
       "    }\n",
       "</style>\n",
       "<table border=\"1\" class=\"dataframe\">\n",
       "  <thead>\n",
       "    <tr style=\"text-align: right;\">\n",
       "      <th></th>\n",
       "      <th>failures</th>\n",
       "    </tr>\n",
       "  </thead>\n",
       "  <tbody>\n",
       "    <tr>\n",
       "      <th>0.0</th>\n",
       "      <td>293</td>\n",
       "    </tr>\n",
       "    <tr>\n",
       "      <th>1.0</th>\n",
       "      <td>49</td>\n",
       "    </tr>\n",
       "    <tr>\n",
       "      <th>2.0</th>\n",
       "      <td>16</td>\n",
       "    </tr>\n",
       "    <tr>\n",
       "      <th>3.0</th>\n",
       "      <td>15</td>\n",
       "    </tr>\n",
       "  </tbody>\n",
       "</table>\n",
       "</div>"
      ],
      "text/plain": [
       "     failures\n",
       "0.0       293\n",
       "1.0        49\n",
       "2.0        16\n",
       "3.0        15"
      ]
     },
     "execution_count": 57,
     "metadata": {},
     "output_type": "execute_result"
    }
   ],
   "source": [
    "# не совсем понятно, что подразумевается под этим термином, но по контексту возможно влияние на мотивацию и результат.\n",
    "pd.DataFrame(stud.failures.value_counts())"
   ]
  },
  {
   "cell_type": "code",
   "execution_count": 58,
   "id": "8f4c121d",
   "metadata": {},
   "outputs": [
    {
     "data": {
      "text/plain": [
       "22"
      ]
     },
     "execution_count": 58,
     "metadata": {},
     "output_type": "execute_result"
    }
   ],
   "source": [
    "stud.failures.isnull().sum() #22 неопределенных позиций. "
   ]
  },
  {
   "cell_type": "code",
   "execution_count": 59,
   "id": "8d9a9958",
   "metadata": {},
   "outputs": [
    {
     "data": {
      "text/html": [
       "<div>\n",
       "<style scoped>\n",
       "    .dataframe tbody tr th:only-of-type {\n",
       "        vertical-align: middle;\n",
       "    }\n",
       "\n",
       "    .dataframe tbody tr th {\n",
       "        vertical-align: top;\n",
       "    }\n",
       "\n",
       "    .dataframe thead th {\n",
       "        text-align: right;\n",
       "    }\n",
       "</style>\n",
       "<table border=\"1\" class=\"dataframe\">\n",
       "  <thead>\n",
       "    <tr style=\"text-align: right;\">\n",
       "      <th></th>\n",
       "      <th>failures</th>\n",
       "    </tr>\n",
       "  </thead>\n",
       "  <tbody>\n",
       "    <tr>\n",
       "      <th>0.0</th>\n",
       "      <td>315</td>\n",
       "    </tr>\n",
       "    <tr>\n",
       "      <th>1.0</th>\n",
       "      <td>49</td>\n",
       "    </tr>\n",
       "    <tr>\n",
       "      <th>2.0</th>\n",
       "      <td>16</td>\n",
       "    </tr>\n",
       "    <tr>\n",
       "      <th>3.0</th>\n",
       "      <td>15</td>\n",
       "    </tr>\n",
       "  </tbody>\n",
       "</table>\n",
       "</div>"
      ],
      "text/plain": [
       "     failures\n",
       "0.0       315\n",
       "1.0        49\n",
       "2.0        16\n",
       "3.0        15"
      ]
     },
     "execution_count": 59,
     "metadata": {},
     "output_type": "execute_result"
    }
   ],
   "source": [
    "stud.failures = stud.failures.fillna(stud.failures.median()) #присвоим медианное значение\n",
    "pd.DataFrame(stud.failures.value_counts())"
   ]
  },
  {
   "cell_type": "code",
   "execution_count": 60,
   "id": "c17d368d",
   "metadata": {},
   "outputs": [
    {
     "data": {
      "text/plain": [
       "<AxesSubplot:xlabel='failures', ylabel='count'>"
      ]
     },
     "execution_count": 60,
     "metadata": {},
     "output_type": "execute_result"
    },
    {
     "data": {
      "image/png": "[encoded data removed]",
      "text/plain": [
       "<Figure size 432x288 with 1 Axes>"
      ]
     },
     "metadata": {
      "needs_background": "light"
     },
     "output_type": "display_data"
    }
   ],
   "source": [
    "sns.countplot(x = 'failures', data = stud)"
   ]
  },
  {
   "cell_type": "markdown",
   "id": "96b45602",
   "metadata": {},
   "source": [
    "# schoolsup — дополнительная образовательная поддержка\n",
    "(yes или no)"
   ]
  },
  {
   "cell_type": "code",
   "execution_count": 61,
   "id": "669015f0",
   "metadata": {},
   "outputs": [
    {
     "data": {
      "text/html": [
       "<div>\n",
       "<style scoped>\n",
       "    .dataframe tbody tr th:only-of-type {\n",
       "        vertical-align: middle;\n",
       "    }\n",
       "\n",
       "    .dataframe tbody tr th {\n",
       "        vertical-align: top;\n",
       "    }\n",
       "\n",
       "    .dataframe thead th {\n",
       "        text-align: right;\n",
       "    }\n",
       "</style>\n",
       "<table border=\"1\" class=\"dataframe\">\n",
       "  <thead>\n",
       "    <tr style=\"text-align: right;\">\n",
       "      <th></th>\n",
       "      <th>schoolsup</th>\n",
       "    </tr>\n",
       "  </thead>\n",
       "  <tbody>\n",
       "    <tr>\n",
       "      <th>no</th>\n",
       "      <td>335</td>\n",
       "    </tr>\n",
       "    <tr>\n",
       "      <th>yes</th>\n",
       "      <td>51</td>\n",
       "    </tr>\n",
       "  </tbody>\n",
       "</table>\n",
       "</div>"
      ],
      "text/plain": [
       "     schoolsup\n",
       "no         335\n",
       "yes         51"
      ]
     },
     "execution_count": 61,
     "metadata": {},
     "output_type": "execute_result"
    }
   ],
   "source": [
    "pd.DataFrame(stud.schoolsup.value_counts())"
   ]
  },
  {
   "cell_type": "code",
   "execution_count": 62,
   "id": "33de1836",
   "metadata": {},
   "outputs": [
    {
     "data": {
      "text/plain": [
       "9"
      ]
     },
     "execution_count": 62,
     "metadata": {},
     "output_type": "execute_result"
    }
   ],
   "source": [
    "stud.schoolsup.isnull().sum() #9 неопределенных позиций. "
   ]
  },
  {
   "cell_type": "code",
   "execution_count": 63,
   "id": "fb0276bb",
   "metadata": {},
   "outputs": [
    {
     "data": {
      "text/html": [
       "<div>\n",
       "<style scoped>\n",
       "    .dataframe tbody tr th:only-of-type {\n",
       "        vertical-align: middle;\n",
       "    }\n",
       "\n",
       "    .dataframe tbody tr th {\n",
       "        vertical-align: top;\n",
       "    }\n",
       "\n",
       "    .dataframe thead th {\n",
       "        text-align: right;\n",
       "    }\n",
       "</style>\n",
       "<table border=\"1\" class=\"dataframe\">\n",
       "  <thead>\n",
       "    <tr style=\"text-align: right;\">\n",
       "      <th></th>\n",
       "      <th>schoolsup</th>\n",
       "    </tr>\n",
       "  </thead>\n",
       "  <tbody>\n",
       "    <tr>\n",
       "      <th>no</th>\n",
       "      <td>335</td>\n",
       "    </tr>\n",
       "    <tr>\n",
       "      <th>yes</th>\n",
       "      <td>60</td>\n",
       "    </tr>\n",
       "  </tbody>\n",
       "</table>\n",
       "</div>"
      ],
      "text/plain": [
       "     schoolsup\n",
       "no         335\n",
       "yes         60"
      ]
     },
     "execution_count": 63,
     "metadata": {},
     "output_type": "execute_result"
    }
   ],
   "source": [
    "stud.schoolsup = stud.schoolsup.apply(lambda x: 'yes' if pd.isnull(x) else x) #тянут \"отстающих\", а они этого стесняются\n",
    "pd.DataFrame(stud.schoolsup.value_counts())"
   ]
  },
  {
   "cell_type": "code",
   "execution_count": 64,
   "id": "d5b9d439",
   "metadata": {},
   "outputs": [
    {
     "data": {
      "text/plain": [
       "<AxesSubplot:xlabel='schoolsup', ylabel='count'>"
      ]
     },
     "execution_count": 64,
     "metadata": {},
     "output_type": "execute_result"
    },
    {
     "data": {
      "image/png": "[encoded data removed]",
      "text/plain": [
       "<Figure size 432x288 with 1 Axes>"
      ]
     },
     "metadata": {
      "needs_background": "light"
     },
     "output_type": "display_data"
    }
   ],
   "source": [
    "sns.countplot(x = 'schoolsup', data = stud)"
   ]
  },
  {
   "cell_type": "code",
   "execution_count": 65,
   "id": "d1e08fdd",
   "metadata": {},
   "outputs": [],
   "source": [
    "#stud.schoolsup.replace(('yes', 'no'), (1, 0), inplace=True)\n",
    "#pd.DataFrame(stud.schoolsup.value_counts())\n",
    "#stud.schoolsup.describe()\n",
    "\n",
    "#оцифровка бинарных переменных результата не дала"
   ]
  },
  {
   "cell_type": "markdown",
   "id": "45cc3aff",
   "metadata": {},
   "source": [
    "# famsup — семейная образовательная поддержка\n",
    "(yes или no)"
   ]
  },
  {
   "cell_type": "code",
   "execution_count": 66,
   "id": "ec5ce656",
   "metadata": {},
   "outputs": [
    {
     "data": {
      "text/html": [
       "<div>\n",
       "<style scoped>\n",
       "    .dataframe tbody tr th:only-of-type {\n",
       "        vertical-align: middle;\n",
       "    }\n",
       "\n",
       "    .dataframe tbody tr th {\n",
       "        vertical-align: top;\n",
       "    }\n",
       "\n",
       "    .dataframe thead th {\n",
       "        text-align: right;\n",
       "    }\n",
       "</style>\n",
       "<table border=\"1\" class=\"dataframe\">\n",
       "  <thead>\n",
       "    <tr style=\"text-align: right;\">\n",
       "      <th></th>\n",
       "      <th>famsup</th>\n",
       "    </tr>\n",
       "  </thead>\n",
       "  <tbody>\n",
       "    <tr>\n",
       "      <th>yes</th>\n",
       "      <td>219</td>\n",
       "    </tr>\n",
       "    <tr>\n",
       "      <th>no</th>\n",
       "      <td>137</td>\n",
       "    </tr>\n",
       "  </tbody>\n",
       "</table>\n",
       "</div>"
      ],
      "text/plain": [
       "     famsup\n",
       "yes     219\n",
       "no      137"
      ]
     },
     "execution_count": 66,
     "metadata": {},
     "output_type": "execute_result"
    }
   ],
   "source": [
    "pd.DataFrame(stud.famsup.value_counts())"
   ]
  },
  {
   "cell_type": "code",
   "execution_count": 67,
   "id": "f84d21d4",
   "metadata": {},
   "outputs": [
    {
     "data": {
      "text/plain": [
       "39"
      ]
     },
     "execution_count": 67,
     "metadata": {},
     "output_type": "execute_result"
    }
   ],
   "source": [
    "stud.famsup.isnull().sum() #39 неопределенных позиций. "
   ]
  },
  {
   "cell_type": "code",
   "execution_count": 68,
   "id": "2d0a18b4",
   "metadata": {},
   "outputs": [
    {
     "data": {
      "text/html": [
       "<div>\n",
       "<style scoped>\n",
       "    .dataframe tbody tr th:only-of-type {\n",
       "        vertical-align: middle;\n",
       "    }\n",
       "\n",
       "    .dataframe tbody tr th {\n",
       "        vertical-align: top;\n",
       "    }\n",
       "\n",
       "    .dataframe thead th {\n",
       "        text-align: right;\n",
       "    }\n",
       "</style>\n",
       "<table border=\"1\" class=\"dataframe\">\n",
       "  <thead>\n",
       "    <tr style=\"text-align: right;\">\n",
       "      <th></th>\n",
       "      <th>famsup</th>\n",
       "    </tr>\n",
       "  </thead>\n",
       "  <tbody>\n",
       "    <tr>\n",
       "      <th>yes</th>\n",
       "      <td>258</td>\n",
       "    </tr>\n",
       "    <tr>\n",
       "      <th>no</th>\n",
       "      <td>137</td>\n",
       "    </tr>\n",
       "  </tbody>\n",
       "</table>\n",
       "</div>"
      ],
      "text/plain": [
       "     famsup\n",
       "yes     258\n",
       "no      137"
      ]
     },
     "execution_count": 68,
     "metadata": {},
     "output_type": "execute_result"
    }
   ],
   "source": [
    "stud.famsup = stud.famsup.apply(lambda x: 'yes' if pd.isnull(x) else x) #то же, что и со школьной поддержкой\n",
    "pd.DataFrame(stud.famsup.value_counts())"
   ]
  },
  {
   "cell_type": "code",
   "execution_count": 69,
   "id": "b1f707c2",
   "metadata": {},
   "outputs": [
    {
     "data": {
      "text/plain": [
       "<AxesSubplot:xlabel='famsup', ylabel='count'>"
      ]
     },
     "execution_count": 69,
     "metadata": {},
     "output_type": "execute_result"
    },
    {
     "data": {
      "image/png": "[encoded data removed]",
      "text/plain": [
       "<Figure size 432x288 with 1 Axes>"
      ]
     },
     "metadata": {
      "needs_background": "light"
     },
     "output_type": "display_data"
    }
   ],
   "source": [
    "sns.countplot(x = 'famsup', data = stud)"
   ]
  },
  {
   "cell_type": "markdown",
   "id": "7369e070",
   "metadata": {},
   "source": [
    "# paid — дополнительные платные занятия по математике\n",
    "(yes или no)"
   ]
  },
  {
   "cell_type": "code",
   "execution_count": 70,
   "id": "7ba59383",
   "metadata": {},
   "outputs": [
    {
     "data": {
      "text/html": [
       "<div>\n",
       "<style scoped>\n",
       "    .dataframe tbody tr th:only-of-type {\n",
       "        vertical-align: middle;\n",
       "    }\n",
       "\n",
       "    .dataframe tbody tr th {\n",
       "        vertical-align: top;\n",
       "    }\n",
       "\n",
       "    .dataframe thead th {\n",
       "        text-align: right;\n",
       "    }\n",
       "</style>\n",
       "<table border=\"1\" class=\"dataframe\">\n",
       "  <thead>\n",
       "    <tr style=\"text-align: right;\">\n",
       "      <th></th>\n",
       "      <th>paid</th>\n",
       "    </tr>\n",
       "  </thead>\n",
       "  <tbody>\n",
       "    <tr>\n",
       "      <th>no</th>\n",
       "      <td>200</td>\n",
       "    </tr>\n",
       "    <tr>\n",
       "      <th>yes</th>\n",
       "      <td>155</td>\n",
       "    </tr>\n",
       "  </tbody>\n",
       "</table>\n",
       "</div>"
      ],
      "text/plain": [
       "     paid\n",
       "no    200\n",
       "yes   155"
      ]
     },
     "execution_count": 70,
     "metadata": {},
     "output_type": "execute_result"
    }
   ],
   "source": [
    "pd.DataFrame(stud.paid.value_counts())"
   ]
  },
  {
   "cell_type": "code",
   "execution_count": 71,
   "id": "47d4707c",
   "metadata": {},
   "outputs": [
    {
     "data": {
      "text/plain": [
       "40"
      ]
     },
     "execution_count": 71,
     "metadata": {},
     "output_type": "execute_result"
    }
   ],
   "source": [
    "stud.paid.isnull().sum() #40 неопределенных позиций. "
   ]
  },
  {
   "cell_type": "code",
   "execution_count": 72,
   "id": "0fea9e87",
   "metadata": {},
   "outputs": [
    {
     "data": {
      "text/html": [
       "<div>\n",
       "<style scoped>\n",
       "    .dataframe tbody tr th:only-of-type {\n",
       "        vertical-align: middle;\n",
       "    }\n",
       "\n",
       "    .dataframe tbody tr th {\n",
       "        vertical-align: top;\n",
       "    }\n",
       "\n",
       "    .dataframe thead th {\n",
       "        text-align: right;\n",
       "    }\n",
       "</style>\n",
       "<table border=\"1\" class=\"dataframe\">\n",
       "  <thead>\n",
       "    <tr style=\"text-align: right;\">\n",
       "      <th></th>\n",
       "      <th>paid</th>\n",
       "    </tr>\n",
       "  </thead>\n",
       "  <tbody>\n",
       "    <tr>\n",
       "      <th>no</th>\n",
       "      <td>240</td>\n",
       "    </tr>\n",
       "    <tr>\n",
       "      <th>yes</th>\n",
       "      <td>155</td>\n",
       "    </tr>\n",
       "  </tbody>\n",
       "</table>\n",
       "</div>"
      ],
      "text/plain": [
       "     paid\n",
       "no    240\n",
       "yes   155"
      ]
     },
     "execution_count": 72,
     "metadata": {},
     "output_type": "execute_result"
    }
   ],
   "source": [
    "stud.paid = stud.paid.apply(lambda x: 'no' if pd.isnull(x) else x) #не о чем написать = пропуск графы.\n",
    "pd.DataFrame(stud.paid.value_counts())"
   ]
  },
  {
   "cell_type": "code",
   "execution_count": 73,
   "id": "c217cbad",
   "metadata": {},
   "outputs": [
    {
     "data": {
      "text/plain": [
       "<AxesSubplot:xlabel='paid', ylabel='count'>"
      ]
     },
     "execution_count": 73,
     "metadata": {},
     "output_type": "execute_result"
    },
    {
     "data": {
      "image/png": "[encoded data removed]",
      "text/plain": [
       "<Figure size 432x288 with 1 Axes>"
      ]
     },
     "metadata": {
      "needs_background": "light"
     },
     "output_type": "display_data"
    }
   ],
   "source": [
    "sns.countplot(x = 'paid', data = stud)"
   ]
  },
  {
   "cell_type": "markdown",
   "id": "fb070102",
   "metadata": {},
   "source": [
    "# activities — дополнительные внеучебные занятия\n",
    "(yes или no)"
   ]
  },
  {
   "cell_type": "code",
   "execution_count": 74,
   "id": "831ff282",
   "metadata": {},
   "outputs": [
    {
     "data": {
      "text/html": [
       "<div>\n",
       "<style scoped>\n",
       "    .dataframe tbody tr th:only-of-type {\n",
       "        vertical-align: middle;\n",
       "    }\n",
       "\n",
       "    .dataframe tbody tr th {\n",
       "        vertical-align: top;\n",
       "    }\n",
       "\n",
       "    .dataframe thead th {\n",
       "        text-align: right;\n",
       "    }\n",
       "</style>\n",
       "<table border=\"1\" class=\"dataframe\">\n",
       "  <thead>\n",
       "    <tr style=\"text-align: right;\">\n",
       "      <th></th>\n",
       "      <th>activities</th>\n",
       "    </tr>\n",
       "  </thead>\n",
       "  <tbody>\n",
       "    <tr>\n",
       "      <th>yes</th>\n",
       "      <td>195</td>\n",
       "    </tr>\n",
       "    <tr>\n",
       "      <th>no</th>\n",
       "      <td>186</td>\n",
       "    </tr>\n",
       "  </tbody>\n",
       "</table>\n",
       "</div>"
      ],
      "text/plain": [
       "     activities\n",
       "yes         195\n",
       "no          186"
      ]
     },
     "execution_count": 74,
     "metadata": {},
     "output_type": "execute_result"
    }
   ],
   "source": [
    "# признак предположительно малозначим. т.к. может говорить, как о эрудиции, так и о распылении усилий. \n",
    "pd.DataFrame(stud.activities.value_counts())"
   ]
  },
  {
   "cell_type": "code",
   "execution_count": 75,
   "id": "cb99f2cf",
   "metadata": {},
   "outputs": [
    {
     "data": {
      "text/plain": [
       "14"
      ]
     },
     "execution_count": 75,
     "metadata": {},
     "output_type": "execute_result"
    }
   ],
   "source": [
    "stud.activities.isnull().sum() #14 неопределенных позиций. "
   ]
  },
  {
   "cell_type": "code",
   "execution_count": 76,
   "id": "2868b938",
   "metadata": {},
   "outputs": [
    {
     "data": {
      "text/html": [
       "<div>\n",
       "<style scoped>\n",
       "    .dataframe tbody tr th:only-of-type {\n",
       "        vertical-align: middle;\n",
       "    }\n",
       "\n",
       "    .dataframe tbody tr th {\n",
       "        vertical-align: top;\n",
       "    }\n",
       "\n",
       "    .dataframe thead th {\n",
       "        text-align: right;\n",
       "    }\n",
       "</style>\n",
       "<table border=\"1\" class=\"dataframe\">\n",
       "  <thead>\n",
       "    <tr style=\"text-align: right;\">\n",
       "      <th></th>\n",
       "      <th>activities</th>\n",
       "    </tr>\n",
       "  </thead>\n",
       "  <tbody>\n",
       "    <tr>\n",
       "      <th>no</th>\n",
       "      <td>200</td>\n",
       "    </tr>\n",
       "    <tr>\n",
       "      <th>yes</th>\n",
       "      <td>195</td>\n",
       "    </tr>\n",
       "  </tbody>\n",
       "</table>\n",
       "</div>"
      ],
      "text/plain": [
       "     activities\n",
       "no          200\n",
       "yes         195"
      ]
     },
     "execution_count": 76,
     "metadata": {},
     "output_type": "execute_result"
    }
   ],
   "source": [
    "stud.activities = stud.activities.apply(lambda x: 'no' if pd.isnull(x) else x) #не о чем написать = пропуск графы\n",
    "pd.DataFrame(stud.activities.value_counts())"
   ]
  },
  {
   "cell_type": "code",
   "execution_count": 77,
   "id": "183e38fa",
   "metadata": {},
   "outputs": [
    {
     "data": {
      "text/plain": [
       "<AxesSubplot:xlabel='activities', ylabel='count'>"
      ]
     },
     "execution_count": 77,
     "metadata": {},
     "output_type": "execute_result"
    },
    {
     "data": {
      "image/png": "[encoded data removed]",
      "text/plain": [
       "<Figure size 432x288 with 1 Axes>"
      ]
     },
     "metadata": {
      "needs_background": "light"
     },
     "output_type": "display_data"
    }
   ],
   "source": [
    "sns.countplot(x = 'activities', data = stud)"
   ]
  },
  {
   "cell_type": "markdown",
   "id": "20a022a4",
   "metadata": {},
   "source": [
    "# nursery — посещался ли детский сад\n",
    "(yes или no)"
   ]
  },
  {
   "cell_type": "code",
   "execution_count": 78,
   "id": "a55c0e7a",
   "metadata": {},
   "outputs": [
    {
     "data": {
      "text/html": [
       "<div>\n",
       "<style scoped>\n",
       "    .dataframe tbody tr th:only-of-type {\n",
       "        vertical-align: middle;\n",
       "    }\n",
       "\n",
       "    .dataframe tbody tr th {\n",
       "        vertical-align: top;\n",
       "    }\n",
       "\n",
       "    .dataframe thead th {\n",
       "        text-align: right;\n",
       "    }\n",
       "</style>\n",
       "<table border=\"1\" class=\"dataframe\">\n",
       "  <thead>\n",
       "    <tr style=\"text-align: right;\">\n",
       "      <th></th>\n",
       "      <th>nursery</th>\n",
       "    </tr>\n",
       "  </thead>\n",
       "  <tbody>\n",
       "    <tr>\n",
       "      <th>yes</th>\n",
       "      <td>300</td>\n",
       "    </tr>\n",
       "    <tr>\n",
       "      <th>no</th>\n",
       "      <td>79</td>\n",
       "    </tr>\n",
       "  </tbody>\n",
       "</table>\n",
       "</div>"
      ],
      "text/plain": [
       "     nursery\n",
       "yes      300\n",
       "no        79"
      ]
     },
     "execution_count": 78,
     "metadata": {},
     "output_type": "execute_result"
    }
   ],
   "source": [
    "#предлагается отбросить за неочевидностью влияния на успехи в математике\n",
    "pd.DataFrame(stud.nursery.value_counts())"
   ]
  },
  {
   "cell_type": "code",
   "execution_count": 79,
   "id": "cbf2f83c",
   "metadata": {},
   "outputs": [
    {
     "data": {
      "text/plain": [
       "16"
      ]
     },
     "execution_count": 79,
     "metadata": {},
     "output_type": "execute_result"
    }
   ],
   "source": [
    "stud.nursery.isnull().sum() #16 неопределенных позиций. "
   ]
  },
  {
   "cell_type": "code",
   "execution_count": 80,
   "id": "1dfdab12",
   "metadata": {},
   "outputs": [
    {
     "data": {
      "text/plain": [
       "<AxesSubplot:xlabel='nursery', ylabel='count'>"
      ]
     },
     "execution_count": 80,
     "metadata": {},
     "output_type": "execute_result"
    },
    {
     "data": {
      "image/png": "[encoded data removed]",
      "text/plain": [
       "<Figure size 432x288 with 1 Axes>"
      ]
     },
     "metadata": {
      "needs_background": "light"
     },
     "output_type": "display_data"
    }
   ],
   "source": [
    "sns.countplot(x = 'nursery', data = stud)"
   ]
  },
  {
   "cell_type": "markdown",
   "id": "92437269",
   "metadata": {},
   "source": [
    "# higher — планы на получение высшего образования\n",
    "(yes или no)"
   ]
  },
  {
   "cell_type": "code",
   "execution_count": 81,
   "id": "573730e3",
   "metadata": {},
   "outputs": [
    {
     "data": {
      "text/html": [
       "<div>\n",
       "<style scoped>\n",
       "    .dataframe tbody tr th:only-of-type {\n",
       "        vertical-align: middle;\n",
       "    }\n",
       "\n",
       "    .dataframe tbody tr th {\n",
       "        vertical-align: top;\n",
       "    }\n",
       "\n",
       "    .dataframe thead th {\n",
       "        text-align: right;\n",
       "    }\n",
       "</style>\n",
       "<table border=\"1\" class=\"dataframe\">\n",
       "  <thead>\n",
       "    <tr style=\"text-align: right;\">\n",
       "      <th></th>\n",
       "      <th>higher</th>\n",
       "    </tr>\n",
       "  </thead>\n",
       "  <tbody>\n",
       "    <tr>\n",
       "      <th>yes</th>\n",
       "      <td>356</td>\n",
       "    </tr>\n",
       "    <tr>\n",
       "      <th>no</th>\n",
       "      <td>19</td>\n",
       "    </tr>\n",
       "  </tbody>\n",
       "</table>\n",
       "</div>"
      ],
      "text/plain": [
       "     higher\n",
       "yes     356\n",
       "no       19"
      ]
     },
     "execution_count": 81,
     "metadata": {},
     "output_type": "execute_result"
    }
   ],
   "source": [
    "# очевидно, будет наблюдаться сильная корелляция \n",
    "pd.DataFrame(stud.higher.value_counts())"
   ]
  },
  {
   "cell_type": "code",
   "execution_count": 82,
   "id": "dbf4b90b",
   "metadata": {},
   "outputs": [
    {
     "data": {
      "text/plain": [
       "20"
      ]
     },
     "execution_count": 82,
     "metadata": {},
     "output_type": "execute_result"
    }
   ],
   "source": [
    "stud.higher.isnull().sum() #20 неопределенных позиций. "
   ]
  },
  {
   "cell_type": "code",
   "execution_count": 83,
   "id": "93812844",
   "metadata": {},
   "outputs": [
    {
     "data": {
      "text/html": [
       "<div>\n",
       "<style scoped>\n",
       "    .dataframe tbody tr th:only-of-type {\n",
       "        vertical-align: middle;\n",
       "    }\n",
       "\n",
       "    .dataframe tbody tr th {\n",
       "        vertical-align: top;\n",
       "    }\n",
       "\n",
       "    .dataframe thead th {\n",
       "        text-align: right;\n",
       "    }\n",
       "</style>\n",
       "<table border=\"1\" class=\"dataframe\">\n",
       "  <thead>\n",
       "    <tr style=\"text-align: right;\">\n",
       "      <th></th>\n",
       "      <th>higher</th>\n",
       "    </tr>\n",
       "  </thead>\n",
       "  <tbody>\n",
       "    <tr>\n",
       "      <th>yes</th>\n",
       "      <td>376</td>\n",
       "    </tr>\n",
       "    <tr>\n",
       "      <th>no</th>\n",
       "      <td>19</td>\n",
       "    </tr>\n",
       "  </tbody>\n",
       "</table>\n",
       "</div>"
      ],
      "text/plain": [
       "     higher\n",
       "yes     376\n",
       "no       19"
      ]
     },
     "execution_count": 83,
     "metadata": {},
     "output_type": "execute_result"
    }
   ],
   "source": [
    "stud.higher = stud.higher.apply(lambda x: 'yes' if pd.isnull(x) else x) #учение - свет.\n",
    "pd.DataFrame(stud.higher.value_counts())"
   ]
  },
  {
   "cell_type": "code",
   "execution_count": 84,
   "id": "49fdd825",
   "metadata": {},
   "outputs": [
    {
     "data": {
      "text/plain": [
       "<AxesSubplot:xlabel='higher', ylabel='count'>"
      ]
     },
     "execution_count": 84,
     "metadata": {},
     "output_type": "execute_result"
    },
    {
     "data": {
      "image/png": "[encoded data removed]",
      "text/plain": [
       "<Figure size 432x288 with 1 Axes>"
      ]
     },
     "metadata": {
      "needs_background": "light"
     },
     "output_type": "display_data"
    }
   ],
   "source": [
    "sns.countplot(x = 'higher', data = stud)"
   ]
  },
  {
   "cell_type": "markdown",
   "id": "cdecc0c2",
   "metadata": {},
   "source": [
    "# internet — наличие интернета дома\n",
    "(yes или no)"
   ]
  },
  {
   "cell_type": "code",
   "execution_count": 85,
   "id": "a954fc8c",
   "metadata": {},
   "outputs": [
    {
     "data": {
      "text/html": [
       "<div>\n",
       "<style scoped>\n",
       "    .dataframe tbody tr th:only-of-type {\n",
       "        vertical-align: middle;\n",
       "    }\n",
       "\n",
       "    .dataframe tbody tr th {\n",
       "        vertical-align: top;\n",
       "    }\n",
       "\n",
       "    .dataframe thead th {\n",
       "        text-align: right;\n",
       "    }\n",
       "</style>\n",
       "<table border=\"1\" class=\"dataframe\">\n",
       "  <thead>\n",
       "    <tr style=\"text-align: right;\">\n",
       "      <th></th>\n",
       "      <th>internet</th>\n",
       "    </tr>\n",
       "  </thead>\n",
       "  <tbody>\n",
       "    <tr>\n",
       "      <th>yes</th>\n",
       "      <td>305</td>\n",
       "    </tr>\n",
       "    <tr>\n",
       "      <th>no</th>\n",
       "      <td>56</td>\n",
       "    </tr>\n",
       "  </tbody>\n",
       "</table>\n",
       "</div>"
      ],
      "text/plain": [
       "     internet\n",
       "yes       305\n",
       "no         56"
      ]
     },
     "execution_count": 85,
     "metadata": {},
     "output_type": "execute_result"
    }
   ],
   "source": [
    "#возможна положительная корреляция\n",
    "pd.DataFrame(stud.internet.value_counts())"
   ]
  },
  {
   "cell_type": "code",
   "execution_count": 86,
   "id": "91839a90",
   "metadata": {},
   "outputs": [
    {
     "data": {
      "text/plain": [
       "34"
      ]
     },
     "execution_count": 86,
     "metadata": {},
     "output_type": "execute_result"
    }
   ],
   "source": [
    "stud.internet.isnull().sum() #34 неопределенных позиций. "
   ]
  },
  {
   "cell_type": "code",
   "execution_count": 87,
   "id": "50480432",
   "metadata": {},
   "outputs": [
    {
     "data": {
      "text/html": [
       "<div>\n",
       "<style scoped>\n",
       "    .dataframe tbody tr th:only-of-type {\n",
       "        vertical-align: middle;\n",
       "    }\n",
       "\n",
       "    .dataframe tbody tr th {\n",
       "        vertical-align: top;\n",
       "    }\n",
       "\n",
       "    .dataframe thead th {\n",
       "        text-align: right;\n",
       "    }\n",
       "</style>\n",
       "<table border=\"1\" class=\"dataframe\">\n",
       "  <thead>\n",
       "    <tr style=\"text-align: right;\">\n",
       "      <th></th>\n",
       "      <th>internet</th>\n",
       "    </tr>\n",
       "  </thead>\n",
       "  <tbody>\n",
       "    <tr>\n",
       "      <th>yes</th>\n",
       "      <td>339</td>\n",
       "    </tr>\n",
       "    <tr>\n",
       "      <th>no</th>\n",
       "      <td>56</td>\n",
       "    </tr>\n",
       "  </tbody>\n",
       "</table>\n",
       "</div>"
      ],
      "text/plain": [
       "     internet\n",
       "yes       339\n",
       "no         56"
      ]
     },
     "execution_count": 87,
     "metadata": {},
     "output_type": "execute_result"
    }
   ],
   "source": [
    "stud.internet = stud.internet.apply(lambda x: 'yes' if pd.isnull(x) else x) #сейчас и-нет сейчас везде\n",
    "pd.DataFrame(stud.internet.value_counts())"
   ]
  },
  {
   "cell_type": "code",
   "execution_count": 88,
   "id": "cd252273",
   "metadata": {},
   "outputs": [
    {
     "data": {
      "text/plain": [
       "<AxesSubplot:xlabel='internet', ylabel='count'>"
      ]
     },
     "execution_count": 88,
     "metadata": {},
     "output_type": "execute_result"
    },
    {
     "data": {
      "image/png": "[encoded data removed]",
      "text/plain": [
       "<Figure size 432x288 with 1 Axes>"
      ]
     },
     "metadata": {
      "needs_background": "light"
     },
     "output_type": "display_data"
    }
   ],
   "source": [
    "sns.countplot(x = 'internet', data = stud)"
   ]
  },
  {
   "cell_type": "markdown",
   "id": "92c21f02",
   "metadata": {},
   "source": [
    "# romantic — наличие романтических отношений\n",
    "(yes или no)"
   ]
  },
  {
   "cell_type": "code",
   "execution_count": 89,
   "id": "855e63a0",
   "metadata": {},
   "outputs": [
    {
     "data": {
      "text/html": [
       "<div>\n",
       "<style scoped>\n",
       "    .dataframe tbody tr th:only-of-type {\n",
       "        vertical-align: middle;\n",
       "    }\n",
       "\n",
       "    .dataframe tbody tr th {\n",
       "        vertical-align: top;\n",
       "    }\n",
       "\n",
       "    .dataframe thead th {\n",
       "        text-align: right;\n",
       "    }\n",
       "</style>\n",
       "<table border=\"1\" class=\"dataframe\">\n",
       "  <thead>\n",
       "    <tr style=\"text-align: right;\">\n",
       "      <th></th>\n",
       "      <th>romantic</th>\n",
       "    </tr>\n",
       "  </thead>\n",
       "  <tbody>\n",
       "    <tr>\n",
       "      <th>no</th>\n",
       "      <td>240</td>\n",
       "    </tr>\n",
       "    <tr>\n",
       "      <th>yes</th>\n",
       "      <td>124</td>\n",
       "    </tr>\n",
       "  </tbody>\n",
       "</table>\n",
       "</div>"
      ],
      "text/plain": [
       "     romantic\n",
       "no        240\n",
       "yes       124"
      ]
     },
     "execution_count": 89,
     "metadata": {},
     "output_type": "execute_result"
    }
   ],
   "source": [
    "pd.DataFrame(stud.romantic.value_counts())"
   ]
  },
  {
   "cell_type": "code",
   "execution_count": 90,
   "id": "af116ed0",
   "metadata": {},
   "outputs": [
    {
     "data": {
      "text/plain": [
       "31"
      ]
     },
     "execution_count": 90,
     "metadata": {},
     "output_type": "execute_result"
    }
   ],
   "source": [
    "stud.romantic.isnull().sum() #31 неопределенных позиций. "
   ]
  },
  {
   "cell_type": "code",
   "execution_count": 91,
   "id": "5ad198c1",
   "metadata": {},
   "outputs": [
    {
     "data": {
      "text/html": [
       "<div>\n",
       "<style scoped>\n",
       "    .dataframe tbody tr th:only-of-type {\n",
       "        vertical-align: middle;\n",
       "    }\n",
       "\n",
       "    .dataframe tbody tr th {\n",
       "        vertical-align: top;\n",
       "    }\n",
       "\n",
       "    .dataframe thead th {\n",
       "        text-align: right;\n",
       "    }\n",
       "</style>\n",
       "<table border=\"1\" class=\"dataframe\">\n",
       "  <thead>\n",
       "    <tr style=\"text-align: right;\">\n",
       "      <th></th>\n",
       "      <th>romantic</th>\n",
       "    </tr>\n",
       "  </thead>\n",
       "  <tbody>\n",
       "    <tr>\n",
       "      <th>no</th>\n",
       "      <td>240</td>\n",
       "    </tr>\n",
       "    <tr>\n",
       "      <th>yes</th>\n",
       "      <td>155</td>\n",
       "    </tr>\n",
       "  </tbody>\n",
       "</table>\n",
       "</div>"
      ],
      "text/plain": [
       "     romantic\n",
       "no        240\n",
       "yes       155"
      ]
     },
     "execution_count": 91,
     "metadata": {},
     "output_type": "execute_result"
    }
   ],
   "source": [
    "stud.romantic = stud.romantic.apply(lambda x: 'yes' if pd.isnull(x) else x)\n",
    "#если что-то есть, то к этому возрасту уже обычно не стесняются, особенно, если анкета анонимная\n",
    "pd.DataFrame(stud.romantic.value_counts())"
   ]
  },
  {
   "cell_type": "code",
   "execution_count": 92,
   "id": "0f07f3cf",
   "metadata": {},
   "outputs": [
    {
     "data": {
      "text/plain": [
       "<AxesSubplot:xlabel='romantic', ylabel='count'>"
      ]
     },
     "execution_count": 92,
     "metadata": {},
     "output_type": "execute_result"
    },
    {
     "data": {
      "image/png": "[encoded data removed]",
      "text/plain": [
       "<Figure size 432x288 with 1 Axes>"
      ]
     },
     "metadata": {
      "needs_background": "light"
     },
     "output_type": "display_data"
    }
   ],
   "source": [
    "sns.countplot(x = 'romantic', data = stud)"
   ]
  },
  {
   "cell_type": "markdown",
   "id": "9eac7020",
   "metadata": {},
   "source": [
    "# famrel — семейные отношения\n",
    "(от 1 - очень плохо до 5 - очень хорошо)"
   ]
  },
  {
   "cell_type": "code",
   "execution_count": 93,
   "id": "f19c6263",
   "metadata": {},
   "outputs": [
    {
     "data": {
      "text/html": [
       "<div>\n",
       "<style scoped>\n",
       "    .dataframe tbody tr th:only-of-type {\n",
       "        vertical-align: middle;\n",
       "    }\n",
       "\n",
       "    .dataframe tbody tr th {\n",
       "        vertical-align: top;\n",
       "    }\n",
       "\n",
       "    .dataframe thead th {\n",
       "        text-align: right;\n",
       "    }\n",
       "</style>\n",
       "<table border=\"1\" class=\"dataframe\">\n",
       "  <thead>\n",
       "    <tr style=\"text-align: right;\">\n",
       "      <th></th>\n",
       "      <th>famrel</th>\n",
       "    </tr>\n",
       "  </thead>\n",
       "  <tbody>\n",
       "    <tr>\n",
       "      <th>4.0</th>\n",
       "      <td>182</td>\n",
       "    </tr>\n",
       "    <tr>\n",
       "      <th>5.0</th>\n",
       "      <td>99</td>\n",
       "    </tr>\n",
       "    <tr>\n",
       "      <th>3.0</th>\n",
       "      <td>62</td>\n",
       "    </tr>\n",
       "    <tr>\n",
       "      <th>2.0</th>\n",
       "      <td>17</td>\n",
       "    </tr>\n",
       "    <tr>\n",
       "      <th>1.0</th>\n",
       "      <td>7</td>\n",
       "    </tr>\n",
       "    <tr>\n",
       "      <th>-1.0</th>\n",
       "      <td>1</td>\n",
       "    </tr>\n",
       "  </tbody>\n",
       "</table>\n",
       "</div>"
      ],
      "text/plain": [
       "      famrel\n",
       " 4.0     182\n",
       " 5.0      99\n",
       " 3.0      62\n",
       " 2.0      17\n",
       " 1.0       7\n",
       "-1.0       1"
      ]
     },
     "execution_count": 93,
     "metadata": {},
     "output_type": "execute_result"
    }
   ],
   "source": [
    "pd.DataFrame(stud.famrel.value_counts())"
   ]
  },
  {
   "cell_type": "code",
   "execution_count": 94,
   "id": "86d4c232",
   "metadata": {},
   "outputs": [
    {
     "data": {
      "text/plain": [
       "27"
      ]
     },
     "execution_count": 94,
     "metadata": {},
     "output_type": "execute_result"
    }
   ],
   "source": [
    "stud.famrel.isnull().sum() #27 неопределенных позиций. "
   ]
  },
  {
   "cell_type": "code",
   "execution_count": 95,
   "id": "d79f16a0",
   "metadata": {},
   "outputs": [
    {
     "data": {
      "text/html": [
       "<div>\n",
       "<style scoped>\n",
       "    .dataframe tbody tr th:only-of-type {\n",
       "        vertical-align: middle;\n",
       "    }\n",
       "\n",
       "    .dataframe tbody tr th {\n",
       "        vertical-align: top;\n",
       "    }\n",
       "\n",
       "    .dataframe thead th {\n",
       "        text-align: right;\n",
       "    }\n",
       "</style>\n",
       "<table border=\"1\" class=\"dataframe\">\n",
       "  <thead>\n",
       "    <tr style=\"text-align: right;\">\n",
       "      <th></th>\n",
       "      <th>famrel</th>\n",
       "    </tr>\n",
       "  </thead>\n",
       "  <tbody>\n",
       "    <tr>\n",
       "      <th>4.0</th>\n",
       "      <td>209</td>\n",
       "    </tr>\n",
       "    <tr>\n",
       "      <th>5.0</th>\n",
       "      <td>99</td>\n",
       "    </tr>\n",
       "    <tr>\n",
       "      <th>3.0</th>\n",
       "      <td>62</td>\n",
       "    </tr>\n",
       "    <tr>\n",
       "      <th>2.0</th>\n",
       "      <td>17</td>\n",
       "    </tr>\n",
       "    <tr>\n",
       "      <th>1.0</th>\n",
       "      <td>8</td>\n",
       "    </tr>\n",
       "  </tbody>\n",
       "</table>\n",
       "</div>"
      ],
      "text/plain": [
       "     famrel\n",
       "4.0     209\n",
       "5.0      99\n",
       "3.0      62\n",
       "2.0      17\n",
       "1.0       8"
      ]
     },
     "execution_count": 95,
     "metadata": {},
     "output_type": "execute_result"
    }
   ],
   "source": [
    "#одно аномальное значение \"-1.0\" - скорее всего опечатка: поменяем на 1\n",
    "stud.famrel = stud.famrel.apply(lambda x: 1.0 if x == -1.0 else x)\n",
    "stud.famrel = stud.famrel.fillna(stud.famrel.median()) #заполняем медианным значением\n",
    "pd.DataFrame(stud.famrel.value_counts()) #проверяем"
   ]
  },
  {
   "cell_type": "code",
   "execution_count": 96,
   "id": "36020c60",
   "metadata": {},
   "outputs": [
    {
     "data": {
      "text/plain": [
       "<AxesSubplot:xlabel='famrel', ylabel='count'>"
      ]
     },
     "execution_count": 96,
     "metadata": {},
     "output_type": "execute_result"
    },
    {
     "data": {
      "image/png": "[encoded data removed]",
      "text/plain": [
       "<Figure size 432x288 with 1 Axes>"
      ]
     },
     "metadata": {
      "needs_background": "light"
     },
     "output_type": "display_data"
    }
   ],
   "source": [
    "sns.countplot(x = 'famrel', data = stud)"
   ]
  },
  {
   "cell_type": "markdown",
   "id": "871cb94f",
   "metadata": {},
   "source": [
    "# freetime — свободное время после школы\n",
    "(от 1 - очень мало до 5 - очень много)"
   ]
  },
  {
   "cell_type": "code",
   "execution_count": 97,
   "id": "f9c61456",
   "metadata": {},
   "outputs": [
    {
     "data": {
      "text/html": [
       "<div>\n",
       "<style scoped>\n",
       "    .dataframe tbody tr th:only-of-type {\n",
       "        vertical-align: middle;\n",
       "    }\n",
       "\n",
       "    .dataframe tbody tr th {\n",
       "        vertical-align: top;\n",
       "    }\n",
       "\n",
       "    .dataframe thead th {\n",
       "        text-align: right;\n",
       "    }\n",
       "</style>\n",
       "<table border=\"1\" class=\"dataframe\">\n",
       "  <thead>\n",
       "    <tr style=\"text-align: right;\">\n",
       "      <th></th>\n",
       "      <th>freetime</th>\n",
       "    </tr>\n",
       "  </thead>\n",
       "  <tbody>\n",
       "    <tr>\n",
       "      <th>3.0</th>\n",
       "      <td>153</td>\n",
       "    </tr>\n",
       "    <tr>\n",
       "      <th>4.0</th>\n",
       "      <td>112</td>\n",
       "    </tr>\n",
       "    <tr>\n",
       "      <th>2.0</th>\n",
       "      <td>63</td>\n",
       "    </tr>\n",
       "    <tr>\n",
       "      <th>5.0</th>\n",
       "      <td>38</td>\n",
       "    </tr>\n",
       "    <tr>\n",
       "      <th>1.0</th>\n",
       "      <td>18</td>\n",
       "    </tr>\n",
       "  </tbody>\n",
       "</table>\n",
       "</div>"
      ],
      "text/plain": [
       "     freetime\n",
       "3.0       153\n",
       "4.0       112\n",
       "2.0        63\n",
       "5.0        38\n",
       "1.0        18"
      ]
     },
     "execution_count": 97,
     "metadata": {},
     "output_type": "execute_result"
    }
   ],
   "source": [
    "# связь может быть как положительной, так и отрицательной, в зависимости от того, чем это свободное время заполнять.\n",
    "pd.DataFrame(stud.freetime.value_counts())"
   ]
  },
  {
   "cell_type": "code",
   "execution_count": 98,
   "id": "c0df3bd6",
   "metadata": {},
   "outputs": [
    {
     "data": {
      "text/plain": [
       "11"
      ]
     },
     "execution_count": 98,
     "metadata": {},
     "output_type": "execute_result"
    }
   ],
   "source": [
    "stud.freetime.isnull().sum() #11 неопределенных позиций. "
   ]
  },
  {
   "cell_type": "code",
   "execution_count": 99,
   "id": "43cc69e3",
   "metadata": {},
   "outputs": [
    {
     "data": {
      "text/html": [
       "<div>\n",
       "<style scoped>\n",
       "    .dataframe tbody tr th:only-of-type {\n",
       "        vertical-align: middle;\n",
       "    }\n",
       "\n",
       "    .dataframe tbody tr th {\n",
       "        vertical-align: top;\n",
       "    }\n",
       "\n",
       "    .dataframe thead th {\n",
       "        text-align: right;\n",
       "    }\n",
       "</style>\n",
       "<table border=\"1\" class=\"dataframe\">\n",
       "  <thead>\n",
       "    <tr style=\"text-align: right;\">\n",
       "      <th></th>\n",
       "      <th>freetime</th>\n",
       "    </tr>\n",
       "  </thead>\n",
       "  <tbody>\n",
       "    <tr>\n",
       "      <th>3.0</th>\n",
       "      <td>164</td>\n",
       "    </tr>\n",
       "    <tr>\n",
       "      <th>4.0</th>\n",
       "      <td>112</td>\n",
       "    </tr>\n",
       "    <tr>\n",
       "      <th>2.0</th>\n",
       "      <td>63</td>\n",
       "    </tr>\n",
       "    <tr>\n",
       "      <th>5.0</th>\n",
       "      <td>38</td>\n",
       "    </tr>\n",
       "    <tr>\n",
       "      <th>1.0</th>\n",
       "      <td>18</td>\n",
       "    </tr>\n",
       "  </tbody>\n",
       "</table>\n",
       "</div>"
      ],
      "text/plain": [
       "     freetime\n",
       "3.0       164\n",
       "4.0       112\n",
       "2.0        63\n",
       "5.0        38\n",
       "1.0        18"
      ]
     },
     "execution_count": 99,
     "metadata": {},
     "output_type": "execute_result"
    }
   ],
   "source": [
    "stud.freetime = stud.freetime.fillna(stud.freetime.median()) #заполняем медианным значением\n",
    "pd.DataFrame(stud.freetime.value_counts()) #проверяем"
   ]
  },
  {
   "cell_type": "code",
   "execution_count": 100,
   "id": "a86f2c1e",
   "metadata": {},
   "outputs": [
    {
     "data": {
      "text/plain": [
       "<AxesSubplot:xlabel='freetime', ylabel='count'>"
      ]
     },
     "execution_count": 100,
     "metadata": {},
     "output_type": "execute_result"
    },
    {
     "data": {
      "image/png": "[encoded data removed]",
      "text/plain": [
       "<Figure size 432x288 with 1 Axes>"
      ]
     },
     "metadata": {
      "needs_background": "light"
     },
     "output_type": "display_data"
    }
   ],
   "source": [
    "sns.countplot(x = 'freetime', data = stud)"
   ]
  },
  {
   "cell_type": "markdown",
   "id": "85c8def9",
   "metadata": {},
   "source": [
    "# goout — проведение времени с друзьями\n",
    "(от 1 - очень мало до 5 - очень много)"
   ]
  },
  {
   "cell_type": "code",
   "execution_count": 101,
   "id": "4493f656",
   "metadata": {},
   "outputs": [
    {
     "data": {
      "text/html": [
       "<div>\n",
       "<style scoped>\n",
       "    .dataframe tbody tr th:only-of-type {\n",
       "        vertical-align: middle;\n",
       "    }\n",
       "\n",
       "    .dataframe tbody tr th {\n",
       "        vertical-align: top;\n",
       "    }\n",
       "\n",
       "    .dataframe thead th {\n",
       "        text-align: right;\n",
       "    }\n",
       "</style>\n",
       "<table border=\"1\" class=\"dataframe\">\n",
       "  <thead>\n",
       "    <tr style=\"text-align: right;\">\n",
       "      <th></th>\n",
       "      <th>goout</th>\n",
       "    </tr>\n",
       "  </thead>\n",
       "  <tbody>\n",
       "    <tr>\n",
       "      <th>3.0</th>\n",
       "      <td>127</td>\n",
       "    </tr>\n",
       "    <tr>\n",
       "      <th>2.0</th>\n",
       "      <td>101</td>\n",
       "    </tr>\n",
       "    <tr>\n",
       "      <th>4.0</th>\n",
       "      <td>84</td>\n",
       "    </tr>\n",
       "    <tr>\n",
       "      <th>5.0</th>\n",
       "      <td>52</td>\n",
       "    </tr>\n",
       "    <tr>\n",
       "      <th>1.0</th>\n",
       "      <td>23</td>\n",
       "    </tr>\n",
       "  </tbody>\n",
       "</table>\n",
       "</div>"
      ],
      "text/plain": [
       "     goout\n",
       "3.0    127\n",
       "2.0    101\n",
       "4.0     84\n",
       "5.0     52\n",
       "1.0     23"
      ]
     },
     "execution_count": 101,
     "metadata": {},
     "output_type": "execute_result"
    }
   ],
   "source": [
    "# скорее всего для результативной учебы этот признак вреден\n",
    "pd.DataFrame(stud.goout.value_counts())"
   ]
  },
  {
   "cell_type": "code",
   "execution_count": 102,
   "id": "91b030d7",
   "metadata": {},
   "outputs": [
    {
     "data": {
      "text/plain": [
       "8"
      ]
     },
     "execution_count": 102,
     "metadata": {},
     "output_type": "execute_result"
    }
   ],
   "source": [
    "stud.goout.isnull().sum() #8 неопределенных позиций. "
   ]
  },
  {
   "cell_type": "code",
   "execution_count": 103,
   "id": "79c298b9",
   "metadata": {},
   "outputs": [
    {
     "data": {
      "text/html": [
       "<div>\n",
       "<style scoped>\n",
       "    .dataframe tbody tr th:only-of-type {\n",
       "        vertical-align: middle;\n",
       "    }\n",
       "\n",
       "    .dataframe tbody tr th {\n",
       "        vertical-align: top;\n",
       "    }\n",
       "\n",
       "    .dataframe thead th {\n",
       "        text-align: right;\n",
       "    }\n",
       "</style>\n",
       "<table border=\"1\" class=\"dataframe\">\n",
       "  <thead>\n",
       "    <tr style=\"text-align: right;\">\n",
       "      <th></th>\n",
       "      <th>goout</th>\n",
       "    </tr>\n",
       "  </thead>\n",
       "  <tbody>\n",
       "    <tr>\n",
       "      <th>3.0</th>\n",
       "      <td>135</td>\n",
       "    </tr>\n",
       "    <tr>\n",
       "      <th>2.0</th>\n",
       "      <td>101</td>\n",
       "    </tr>\n",
       "    <tr>\n",
       "      <th>4.0</th>\n",
       "      <td>84</td>\n",
       "    </tr>\n",
       "    <tr>\n",
       "      <th>5.0</th>\n",
       "      <td>52</td>\n",
       "    </tr>\n",
       "    <tr>\n",
       "      <th>1.0</th>\n",
       "      <td>23</td>\n",
       "    </tr>\n",
       "  </tbody>\n",
       "</table>\n",
       "</div>"
      ],
      "text/plain": [
       "     goout\n",
       "3.0    135\n",
       "2.0    101\n",
       "4.0     84\n",
       "5.0     52\n",
       "1.0     23"
      ]
     },
     "execution_count": 103,
     "metadata": {},
     "output_type": "execute_result"
    }
   ],
   "source": [
    "stud.goout = stud.goout.fillna(stud.goout.median()) #заполняем медианным значением\n",
    "pd.DataFrame(stud.goout.value_counts())"
   ]
  },
  {
   "cell_type": "code",
   "execution_count": 104,
   "id": "78ff5e9e",
   "metadata": {},
   "outputs": [
    {
     "data": {
      "text/plain": [
       "<AxesSubplot:xlabel='goout', ylabel='count'>"
      ]
     },
     "execution_count": 104,
     "metadata": {},
     "output_type": "execute_result"
    },
    {
     "data": {
      "image/png": "[encoded data removed]",
      "text/plain": [
       "<Figure size 432x288 with 1 Axes>"
      ]
     },
     "metadata": {
      "needs_background": "light"
     },
     "output_type": "display_data"
    }
   ],
   "source": [
    "sns.countplot(x = 'goout', data = stud)"
   ]
  },
  {
   "cell_type": "markdown",
   "id": "9819f00b",
   "metadata": {},
   "source": [
    "# health — текущее состояние здоровья\n",
    "(от 1 - очень плохо до 5 - очень хорошо)"
   ]
  },
  {
   "cell_type": "code",
   "execution_count": 105,
   "id": "aefbbd49",
   "metadata": {},
   "outputs": [
    {
     "data": {
      "text/html": [
       "<div>\n",
       "<style scoped>\n",
       "    .dataframe tbody tr th:only-of-type {\n",
       "        vertical-align: middle;\n",
       "    }\n",
       "\n",
       "    .dataframe tbody tr th {\n",
       "        vertical-align: top;\n",
       "    }\n",
       "\n",
       "    .dataframe thead th {\n",
       "        text-align: right;\n",
       "    }\n",
       "</style>\n",
       "<table border=\"1\" class=\"dataframe\">\n",
       "  <thead>\n",
       "    <tr style=\"text-align: right;\">\n",
       "      <th></th>\n",
       "      <th>health</th>\n",
       "    </tr>\n",
       "  </thead>\n",
       "  <tbody>\n",
       "    <tr>\n",
       "      <th>5.0</th>\n",
       "      <td>138</td>\n",
       "    </tr>\n",
       "    <tr>\n",
       "      <th>3.0</th>\n",
       "      <td>89</td>\n",
       "    </tr>\n",
       "    <tr>\n",
       "      <th>4.0</th>\n",
       "      <td>63</td>\n",
       "    </tr>\n",
       "    <tr>\n",
       "      <th>1.0</th>\n",
       "      <td>47</td>\n",
       "    </tr>\n",
       "    <tr>\n",
       "      <th>2.0</th>\n",
       "      <td>43</td>\n",
       "    </tr>\n",
       "  </tbody>\n",
       "</table>\n",
       "</div>"
      ],
      "text/plain": [
       "     health\n",
       "5.0     138\n",
       "3.0      89\n",
       "4.0      63\n",
       "1.0      47\n",
       "2.0      43"
      ]
     },
     "execution_count": 105,
     "metadata": {},
     "output_type": "execute_result"
    }
   ],
   "source": [
    "#скорее всего это малозначимый признак\n",
    "pd.DataFrame(stud.health.value_counts())"
   ]
  },
  {
   "cell_type": "code",
   "execution_count": 106,
   "id": "3b53aea3",
   "metadata": {},
   "outputs": [
    {
     "data": {
      "text/plain": [
       "15"
      ]
     },
     "execution_count": 106,
     "metadata": {},
     "output_type": "execute_result"
    }
   ],
   "source": [
    "stud.health.isnull().sum() #15 неопределенных позиций. "
   ]
  },
  {
   "cell_type": "code",
   "execution_count": 107,
   "id": "8a751d3b",
   "metadata": {},
   "outputs": [
    {
     "data": {
      "text/html": [
       "<div>\n",
       "<style scoped>\n",
       "    .dataframe tbody tr th:only-of-type {\n",
       "        vertical-align: middle;\n",
       "    }\n",
       "\n",
       "    .dataframe tbody tr th {\n",
       "        vertical-align: top;\n",
       "    }\n",
       "\n",
       "    .dataframe thead th {\n",
       "        text-align: right;\n",
       "    }\n",
       "</style>\n",
       "<table border=\"1\" class=\"dataframe\">\n",
       "  <thead>\n",
       "    <tr style=\"text-align: right;\">\n",
       "      <th></th>\n",
       "      <th>health</th>\n",
       "    </tr>\n",
       "  </thead>\n",
       "  <tbody>\n",
       "    <tr>\n",
       "      <th>5.0</th>\n",
       "      <td>138</td>\n",
       "    </tr>\n",
       "    <tr>\n",
       "      <th>3.0</th>\n",
       "      <td>89</td>\n",
       "    </tr>\n",
       "    <tr>\n",
       "      <th>4.0</th>\n",
       "      <td>78</td>\n",
       "    </tr>\n",
       "    <tr>\n",
       "      <th>1.0</th>\n",
       "      <td>47</td>\n",
       "    </tr>\n",
       "    <tr>\n",
       "      <th>2.0</th>\n",
       "      <td>43</td>\n",
       "    </tr>\n",
       "  </tbody>\n",
       "</table>\n",
       "</div>"
      ],
      "text/plain": [
       "     health\n",
       "5.0     138\n",
       "3.0      89\n",
       "4.0      78\n",
       "1.0      47\n",
       "2.0      43"
      ]
     },
     "execution_count": 107,
     "metadata": {},
     "output_type": "execute_result"
    }
   ],
   "source": [
    "stud.health = stud.health.fillna(stud.health.median()) #заполняем медианным значением\n",
    "pd.DataFrame(stud.health.value_counts()) #проверяем"
   ]
  },
  {
   "cell_type": "code",
   "execution_count": 108,
   "id": "bb6308bb",
   "metadata": {},
   "outputs": [
    {
     "data": {
      "text/plain": [
       "<AxesSubplot:xlabel='health', ylabel='count'>"
      ]
     },
     "execution_count": 108,
     "metadata": {},
     "output_type": "execute_result"
    },
    {
     "data": {
      "image/png": "[encoded data removed]",
      "text/plain": [
       "<Figure size 432x288 with 1 Axes>"
      ]
     },
     "metadata": {
      "needs_background": "light"
     },
     "output_type": "display_data"
    }
   ],
   "source": [
    "sns.countplot(x = 'health', data = stud)"
   ]
  },
  {
   "cell_type": "markdown",
   "id": "3edb8408",
   "metadata": {},
   "source": [
    "# absences — количество пропущенных занятий"
   ]
  },
  {
   "cell_type": "code",
   "execution_count": 109,
   "id": "e8d5befa",
   "metadata": {},
   "outputs": [
    {
     "data": {
      "text/html": [
       "<div>\n",
       "<style scoped>\n",
       "    .dataframe tbody tr th:only-of-type {\n",
       "        vertical-align: middle;\n",
       "    }\n",
       "\n",
       "    .dataframe tbody tr th {\n",
       "        vertical-align: top;\n",
       "    }\n",
       "\n",
       "    .dataframe thead th {\n",
       "        text-align: right;\n",
       "    }\n",
       "</style>\n",
       "<table border=\"1\" class=\"dataframe\">\n",
       "  <thead>\n",
       "    <tr style=\"text-align: right;\">\n",
       "      <th></th>\n",
       "      <th>absences</th>\n",
       "    </tr>\n",
       "  </thead>\n",
       "  <tbody>\n",
       "    <tr>\n",
       "      <th>0.0</th>\n",
       "      <td>111</td>\n",
       "    </tr>\n",
       "    <tr>\n",
       "      <th>2.0</th>\n",
       "      <td>60</td>\n",
       "    </tr>\n",
       "    <tr>\n",
       "      <th>4.0</th>\n",
       "      <td>53</td>\n",
       "    </tr>\n",
       "    <tr>\n",
       "      <th>6.0</th>\n",
       "      <td>31</td>\n",
       "    </tr>\n",
       "    <tr>\n",
       "      <th>8.0</th>\n",
       "      <td>21</td>\n",
       "    </tr>\n",
       "    <tr>\n",
       "      <th>10.0</th>\n",
       "      <td>17</td>\n",
       "    </tr>\n",
       "    <tr>\n",
       "      <th>14.0</th>\n",
       "      <td>12</td>\n",
       "    </tr>\n",
       "    <tr>\n",
       "      <th>12.0</th>\n",
       "      <td>12</td>\n",
       "    </tr>\n",
       "    <tr>\n",
       "      <th>3.0</th>\n",
       "      <td>8</td>\n",
       "    </tr>\n",
       "    <tr>\n",
       "      <th>16.0</th>\n",
       "      <td>7</td>\n",
       "    </tr>\n",
       "    <tr>\n",
       "      <th>7.0</th>\n",
       "      <td>6</td>\n",
       "    </tr>\n",
       "    <tr>\n",
       "      <th>18.0</th>\n",
       "      <td>5</td>\n",
       "    </tr>\n",
       "    <tr>\n",
       "      <th>5.0</th>\n",
       "      <td>5</td>\n",
       "    </tr>\n",
       "    <tr>\n",
       "      <th>20.0</th>\n",
       "      <td>4</td>\n",
       "    </tr>\n",
       "    <tr>\n",
       "      <th>9.0</th>\n",
       "      <td>3</td>\n",
       "    </tr>\n",
       "    <tr>\n",
       "      <th>22.0</th>\n",
       "      <td>3</td>\n",
       "    </tr>\n",
       "    <tr>\n",
       "      <th>1.0</th>\n",
       "      <td>3</td>\n",
       "    </tr>\n",
       "    <tr>\n",
       "      <th>13.0</th>\n",
       "      <td>2</td>\n",
       "    </tr>\n",
       "    <tr>\n",
       "      <th>15.0</th>\n",
       "      <td>2</td>\n",
       "    </tr>\n",
       "    <tr>\n",
       "      <th>11.0</th>\n",
       "      <td>2</td>\n",
       "    </tr>\n",
       "    <tr>\n",
       "      <th>40.0</th>\n",
       "      <td>1</td>\n",
       "    </tr>\n",
       "    <tr>\n",
       "      <th>38.0</th>\n",
       "      <td>1</td>\n",
       "    </tr>\n",
       "    <tr>\n",
       "      <th>56.0</th>\n",
       "      <td>1</td>\n",
       "    </tr>\n",
       "    <tr>\n",
       "      <th>23.0</th>\n",
       "      <td>1</td>\n",
       "    </tr>\n",
       "    <tr>\n",
       "      <th>24.0</th>\n",
       "      <td>1</td>\n",
       "    </tr>\n",
       "    <tr>\n",
       "      <th>25.0</th>\n",
       "      <td>1</td>\n",
       "    </tr>\n",
       "    <tr>\n",
       "      <th>385.0</th>\n",
       "      <td>1</td>\n",
       "    </tr>\n",
       "    <tr>\n",
       "      <th>17.0</th>\n",
       "      <td>1</td>\n",
       "    </tr>\n",
       "    <tr>\n",
       "      <th>75.0</th>\n",
       "      <td>1</td>\n",
       "    </tr>\n",
       "    <tr>\n",
       "      <th>21.0</th>\n",
       "      <td>1</td>\n",
       "    </tr>\n",
       "    <tr>\n",
       "      <th>212.0</th>\n",
       "      <td>1</td>\n",
       "    </tr>\n",
       "    <tr>\n",
       "      <th>28.0</th>\n",
       "      <td>1</td>\n",
       "    </tr>\n",
       "    <tr>\n",
       "      <th>19.0</th>\n",
       "      <td>1</td>\n",
       "    </tr>\n",
       "    <tr>\n",
       "      <th>26.0</th>\n",
       "      <td>1</td>\n",
       "    </tr>\n",
       "    <tr>\n",
       "      <th>30.0</th>\n",
       "      <td>1</td>\n",
       "    </tr>\n",
       "    <tr>\n",
       "      <th>54.0</th>\n",
       "      <td>1</td>\n",
       "    </tr>\n",
       "  </tbody>\n",
       "</table>\n",
       "</div>"
      ],
      "text/plain": [
       "       absences\n",
       "0.0         111\n",
       "2.0          60\n",
       "4.0          53\n",
       "6.0          31\n",
       "8.0          21\n",
       "10.0         17\n",
       "14.0         12\n",
       "12.0         12\n",
       "3.0           8\n",
       "16.0          7\n",
       "7.0           6\n",
       "18.0          5\n",
       "5.0           5\n",
       "20.0          4\n",
       "9.0           3\n",
       "22.0          3\n",
       "1.0           3\n",
       "13.0          2\n",
       "15.0          2\n",
       "11.0          2\n",
       "40.0          1\n",
       "38.0          1\n",
       "56.0          1\n",
       "23.0          1\n",
       "24.0          1\n",
       "25.0          1\n",
       "385.0         1\n",
       "17.0          1\n",
       "75.0          1\n",
       "21.0          1\n",
       "212.0         1\n",
       "28.0          1\n",
       "19.0          1\n",
       "26.0          1\n",
       "30.0          1\n",
       "54.0          1"
      ]
     },
     "execution_count": 109,
     "metadata": {},
     "output_type": "execute_result"
    }
   ],
   "source": [
    "pd.DataFrame(stud.absences.value_counts())"
   ]
  },
  {
   "cell_type": "code",
   "execution_count": 110,
   "id": "9f4b7bae",
   "metadata": {},
   "outputs": [
    {
     "data": {
      "text/plain": [
       "12"
      ]
     },
     "execution_count": 110,
     "metadata": {},
     "output_type": "execute_result"
    }
   ],
   "source": [
    "stud.absences.isnull().sum() #12 неопределенных позиций."
   ]
  },
  {
   "cell_type": "code",
   "execution_count": 111,
   "id": "fc929f6a",
   "metadata": {},
   "outputs": [],
   "source": [
    "stud.absences = stud.absences.fillna(0) #заполняем нулевым значением"
   ]
  },
  {
   "cell_type": "code",
   "execution_count": 113,
   "id": "26a3f9bc",
   "metadata": {},
   "outputs": [
    {
     "data": {
      "text/html": [
       "<div>\n",
       "<style scoped>\n",
       "    .dataframe tbody tr th:only-of-type {\n",
       "        vertical-align: middle;\n",
       "    }\n",
       "\n",
       "    .dataframe tbody tr th {\n",
       "        vertical-align: top;\n",
       "    }\n",
       "\n",
       "    .dataframe thead th {\n",
       "        text-align: right;\n",
       "    }\n",
       "</style>\n",
       "<table border=\"1\" class=\"dataframe\">\n",
       "  <thead>\n",
       "    <tr style=\"text-align: right;\">\n",
       "      <th></th>\n",
       "      <th>absences</th>\n",
       "    </tr>\n",
       "  </thead>\n",
       "  <tbody>\n",
       "    <tr>\n",
       "      <th>0.0</th>\n",
       "      <td>123</td>\n",
       "    </tr>\n",
       "    <tr>\n",
       "      <th>2.0</th>\n",
       "      <td>60</td>\n",
       "    </tr>\n",
       "    <tr>\n",
       "      <th>4.0</th>\n",
       "      <td>53</td>\n",
       "    </tr>\n",
       "    <tr>\n",
       "      <th>6.0</th>\n",
       "      <td>31</td>\n",
       "    </tr>\n",
       "    <tr>\n",
       "      <th>8.0</th>\n",
       "      <td>21</td>\n",
       "    </tr>\n",
       "    <tr>\n",
       "      <th>10.0</th>\n",
       "      <td>17</td>\n",
       "    </tr>\n",
       "    <tr>\n",
       "      <th>12.0</th>\n",
       "      <td>12</td>\n",
       "    </tr>\n",
       "    <tr>\n",
       "      <th>14.0</th>\n",
       "      <td>12</td>\n",
       "    </tr>\n",
       "    <tr>\n",
       "      <th>3.0</th>\n",
       "      <td>8</td>\n",
       "    </tr>\n",
       "    <tr>\n",
       "      <th>16.0</th>\n",
       "      <td>7</td>\n",
       "    </tr>\n",
       "    <tr>\n",
       "      <th>7.0</th>\n",
       "      <td>6</td>\n",
       "    </tr>\n",
       "    <tr>\n",
       "      <th>5.0</th>\n",
       "      <td>5</td>\n",
       "    </tr>\n",
       "    <tr>\n",
       "      <th>18.0</th>\n",
       "      <td>5</td>\n",
       "    </tr>\n",
       "    <tr>\n",
       "      <th>20.0</th>\n",
       "      <td>4</td>\n",
       "    </tr>\n",
       "    <tr>\n",
       "      <th>22.0</th>\n",
       "      <td>3</td>\n",
       "    </tr>\n",
       "    <tr>\n",
       "      <th>1.0</th>\n",
       "      <td>3</td>\n",
       "    </tr>\n",
       "    <tr>\n",
       "      <th>9.0</th>\n",
       "      <td>3</td>\n",
       "    </tr>\n",
       "    <tr>\n",
       "      <th>13.0</th>\n",
       "      <td>2</td>\n",
       "    </tr>\n",
       "    <tr>\n",
       "      <th>15.0</th>\n",
       "      <td>2</td>\n",
       "    </tr>\n",
       "    <tr>\n",
       "      <th>11.0</th>\n",
       "      <td>2</td>\n",
       "    </tr>\n",
       "    <tr>\n",
       "      <th>40.0</th>\n",
       "      <td>1</td>\n",
       "    </tr>\n",
       "    <tr>\n",
       "      <th>23.0</th>\n",
       "      <td>1</td>\n",
       "    </tr>\n",
       "    <tr>\n",
       "      <th>24.0</th>\n",
       "      <td>1</td>\n",
       "    </tr>\n",
       "    <tr>\n",
       "      <th>25.0</th>\n",
       "      <td>1</td>\n",
       "    </tr>\n",
       "    <tr>\n",
       "      <th>17.0</th>\n",
       "      <td>1</td>\n",
       "    </tr>\n",
       "    <tr>\n",
       "      <th>21.0</th>\n",
       "      <td>1</td>\n",
       "    </tr>\n",
       "    <tr>\n",
       "      <th>28.0</th>\n",
       "      <td>1</td>\n",
       "    </tr>\n",
       "    <tr>\n",
       "      <th>38.0</th>\n",
       "      <td>1</td>\n",
       "    </tr>\n",
       "    <tr>\n",
       "      <th>19.0</th>\n",
       "      <td>1</td>\n",
       "    </tr>\n",
       "    <tr>\n",
       "      <th>30.0</th>\n",
       "      <td>1</td>\n",
       "    </tr>\n",
       "    <tr>\n",
       "      <th>26.0</th>\n",
       "      <td>1</td>\n",
       "    </tr>\n",
       "  </tbody>\n",
       "</table>\n",
       "</div>"
      ],
      "text/plain": [
       "      absences\n",
       "0.0        123\n",
       "2.0         60\n",
       "4.0         53\n",
       "6.0         31\n",
       "8.0         21\n",
       "10.0        17\n",
       "12.0        12\n",
       "14.0        12\n",
       "3.0          8\n",
       "16.0         7\n",
       "7.0          6\n",
       "5.0          5\n",
       "18.0         5\n",
       "20.0         4\n",
       "22.0         3\n",
       "1.0          3\n",
       "9.0          3\n",
       "13.0         2\n",
       "15.0         2\n",
       "11.0         2\n",
       "40.0         1\n",
       "23.0         1\n",
       "24.0         1\n",
       "25.0         1\n",
       "17.0         1\n",
       "21.0         1\n",
       "28.0         1\n",
       "38.0         1\n",
       "19.0         1\n",
       "30.0         1\n",
       "26.0         1"
      ]
     },
     "execution_count": 113,
     "metadata": {},
     "output_type": "execute_result"
    }
   ],
   "source": [
    "stud = stud.loc[stud.absences < 50] #отсеем аномально большие значения\n",
    "pd.DataFrame(stud.absences.value_counts()) #проверяем"
   ]
  },
  {
   "cell_type": "code",
   "execution_count": 114,
   "id": "37ae17a0",
   "metadata": {},
   "outputs": [
    {
     "data": {
      "text/plain": [
       "<AxesSubplot:xlabel='absences', ylabel='Count'>"
      ]
     },
     "execution_count": 114,
     "metadata": {},
     "output_type": "execute_result"
    },
    {
     "data": {
      "image/png": "[encoded data removed]",
      "text/plain": [
       "<Figure size 432x288 with 1 Axes>"
      ]
     },
     "metadata": {
      "needs_background": "light"
     },
     "output_type": "display_data"
    }
   ],
   "source": [
    "sns.histplot(data=stud.absences, bins = 40, binwidth = 1)"
   ]
  },
  {
   "cell_type": "markdown",
   "id": "281cb1b2",
   "metadata": {},
   "source": [
    "# granular\n",
    "позиция без описания"
   ]
  },
  {
   "cell_type": "code",
   "execution_count": 115,
   "id": "cb83b448",
   "metadata": {},
   "outputs": [
    {
     "data": {
      "text/html": [
       "<div>\n",
       "<style scoped>\n",
       "    .dataframe tbody tr th:only-of-type {\n",
       "        vertical-align: middle;\n",
       "    }\n",
       "\n",
       "    .dataframe tbody tr th {\n",
       "        vertical-align: top;\n",
       "    }\n",
       "\n",
       "    .dataframe thead th {\n",
       "        text-align: right;\n",
       "    }\n",
       "</style>\n",
       "<table border=\"1\" class=\"dataframe\">\n",
       "  <thead>\n",
       "    <tr style=\"text-align: right;\">\n",
       "      <th></th>\n",
       "      <th>granular</th>\n",
       "    </tr>\n",
       "  </thead>\n",
       "  <tbody>\n",
       "    <tr>\n",
       "      <th>-6.0</th>\n",
       "      <td>189</td>\n",
       "    </tr>\n",
       "    <tr>\n",
       "      <th>-3.0</th>\n",
       "      <td>103</td>\n",
       "    </tr>\n",
       "    <tr>\n",
       "      <th>-9.0</th>\n",
       "      <td>64</td>\n",
       "    </tr>\n",
       "    <tr>\n",
       "      <th>-12.0</th>\n",
       "      <td>27</td>\n",
       "    </tr>\n",
       "  </tbody>\n",
       "</table>\n",
       "</div>"
      ],
      "text/plain": [
       "       granular\n",
       "-6.0        189\n",
       "-3.0        103\n",
       "-9.0         64\n",
       "-12.0        27"
      ]
     },
     "execution_count": 115,
     "metadata": {},
     "output_type": "execute_result"
    }
   ],
   "source": [
    "#позиция без описания\n",
    "pd.DataFrame(stud.granular.value_counts())\n",
    "#предлагается отбросить."
   ]
  },
  {
   "cell_type": "markdown",
   "id": "d3410353",
   "metadata": {},
   "source": [
    "# score — баллы по госэкзамену по математике"
   ]
  },
  {
   "cell_type": "code",
   "execution_count": 116,
   "id": "3569d534",
   "metadata": {},
   "outputs": [
    {
     "data": {
      "text/html": [
       "<div>\n",
       "<style scoped>\n",
       "    .dataframe tbody tr th:only-of-type {\n",
       "        vertical-align: middle;\n",
       "    }\n",
       "\n",
       "    .dataframe tbody tr th {\n",
       "        vertical-align: top;\n",
       "    }\n",
       "\n",
       "    .dataframe thead th {\n",
       "        text-align: right;\n",
       "    }\n",
       "</style>\n",
       "<table border=\"1\" class=\"dataframe\">\n",
       "  <thead>\n",
       "    <tr style=\"text-align: right;\">\n",
       "      <th></th>\n",
       "      <th>score</th>\n",
       "    </tr>\n",
       "  </thead>\n",
       "  <tbody>\n",
       "    <tr>\n",
       "      <th>50.0</th>\n",
       "      <td>54</td>\n",
       "    </tr>\n",
       "    <tr>\n",
       "      <th>55.0</th>\n",
       "      <td>45</td>\n",
       "    </tr>\n",
       "    <tr>\n",
       "      <th>0.0</th>\n",
       "      <td>37</td>\n",
       "    </tr>\n",
       "    <tr>\n",
       "      <th>75.0</th>\n",
       "      <td>33</td>\n",
       "    </tr>\n",
       "    <tr>\n",
       "      <th>65.0</th>\n",
       "      <td>31</td>\n",
       "    </tr>\n",
       "    <tr>\n",
       "      <th>60.0</th>\n",
       "      <td>31</td>\n",
       "    </tr>\n",
       "    <tr>\n",
       "      <th>40.0</th>\n",
       "      <td>30</td>\n",
       "    </tr>\n",
       "    <tr>\n",
       "      <th>70.0</th>\n",
       "      <td>27</td>\n",
       "    </tr>\n",
       "    <tr>\n",
       "      <th>45.0</th>\n",
       "      <td>25</td>\n",
       "    </tr>\n",
       "    <tr>\n",
       "      <th>80.0</th>\n",
       "      <td>16</td>\n",
       "    </tr>\n",
       "    <tr>\n",
       "      <th>30.0</th>\n",
       "      <td>15</td>\n",
       "    </tr>\n",
       "    <tr>\n",
       "      <th>90.0</th>\n",
       "      <td>12</td>\n",
       "    </tr>\n",
       "    <tr>\n",
       "      <th>35.0</th>\n",
       "      <td>9</td>\n",
       "    </tr>\n",
       "    <tr>\n",
       "      <th>25.0</th>\n",
       "      <td>7</td>\n",
       "    </tr>\n",
       "    <tr>\n",
       "      <th>95.0</th>\n",
       "      <td>5</td>\n",
       "    </tr>\n",
       "    <tr>\n",
       "      <th>85.0</th>\n",
       "      <td>5</td>\n",
       "    </tr>\n",
       "    <tr>\n",
       "      <th>20.0</th>\n",
       "      <td>1</td>\n",
       "    </tr>\n",
       "    <tr>\n",
       "      <th>100.0</th>\n",
       "      <td>1</td>\n",
       "    </tr>\n",
       "  </tbody>\n",
       "</table>\n",
       "</div>"
      ],
      "text/plain": [
       "       score\n",
       "50.0      54\n",
       "55.0      45\n",
       "0.0       37\n",
       "75.0      33\n",
       "65.0      31\n",
       "60.0      31\n",
       "40.0      30\n",
       "70.0      27\n",
       "45.0      25\n",
       "80.0      16\n",
       "30.0      15\n",
       "90.0      12\n",
       "35.0       9\n",
       "25.0       7\n",
       "95.0       5\n",
       "85.0       5\n",
       "20.0       1\n",
       "100.0      1"
      ]
     },
     "execution_count": 116,
     "metadata": {},
     "output_type": "execute_result"
    }
   ],
   "source": [
    "pd.DataFrame(stud.score.value_counts())"
   ]
  },
  {
   "cell_type": "code",
   "execution_count": 117,
   "id": "5cfbd304",
   "metadata": {},
   "outputs": [
    {
     "data": {
      "text/plain": [
       "6"
      ]
     },
     "execution_count": 117,
     "metadata": {},
     "output_type": "execute_result"
    }
   ],
   "source": [
    "stud.score.isnull().sum() #6 неопределенных позиций"
   ]
  },
  {
   "cell_type": "code",
   "execution_count": 129,
   "id": "75d006bb",
   "metadata": {},
   "outputs": [
    {
     "data": {
      "text/plain": [
       "<AxesSubplot:xlabel='score', ylabel='Count'>"
      ]
     },
     "execution_count": 129,
     "metadata": {},
     "output_type": "execute_result"
    },
    {
     "data": {
      "image/png": "[encoded data removed]",
      "text/plain": [
       "<Figure size 432x288 with 1 Axes>"
      ]
     },
     "metadata": {
      "needs_background": "light"
     },
     "output_type": "display_data"
    }
   ],
   "source": [
    "stud.score = stud.score.apply(lambda x: 0.0 if pd.isnull(x) else x) #присвоим '0.0': неявка = несдача автоматом\n",
    "#pd.DataFrame(stud.score.value_counts())\n",
    "sns.histplot(data=stud.score, bins = 18, binwidth = 5)"
   ]
  },
  {
   "cell_type": "code",
   "execution_count": 119,
   "id": "79eedfbb",
   "metadata": {},
   "outputs": [],
   "source": [
    "#stud = stud.loc[stud['score'] != 0]\n",
    "#stud.score.hist(bins = 20)\n",
    "# отбрасывание нулевого результата как неявки, выбросило из статистически значимых признак наличия\n",
    "# романтических отношений (для возрастов <18)!"
   ]
  },
  {
   "cell_type": "code",
   "execution_count": 120,
   "id": "9590dba0",
   "metadata": {
    "scrolled": true
   },
   "outputs": [
    {
     "data": {
      "text/html": [
       "<div>\n",
       "<style scoped>\n",
       "    .dataframe tbody tr th:only-of-type {\n",
       "        vertical-align: middle;\n",
       "    }\n",
       "\n",
       "    .dataframe tbody tr th {\n",
       "        vertical-align: top;\n",
       "    }\n",
       "\n",
       "    .dataframe thead th {\n",
       "        text-align: right;\n",
       "    }\n",
       "</style>\n",
       "<table border=\"1\" class=\"dataframe\">\n",
       "  <thead>\n",
       "    <tr style=\"text-align: right;\">\n",
       "      <th></th>\n",
       "      <th>age</th>\n",
       "      <th>medu</th>\n",
       "      <th>fedu</th>\n",
       "      <th>traveltime</th>\n",
       "      <th>studytime</th>\n",
       "      <th>failures</th>\n",
       "      <th>granular</th>\n",
       "      <th>famrel</th>\n",
       "      <th>freetime</th>\n",
       "      <th>goout</th>\n",
       "      <th>health</th>\n",
       "      <th>absences</th>\n",
       "      <th>score</th>\n",
       "    </tr>\n",
       "  </thead>\n",
       "  <tbody>\n",
       "    <tr>\n",
       "      <th>age</th>\n",
       "      <td>1.000000</td>\n",
       "      <td>-0.160151</td>\n",
       "      <td>-0.151390</td>\n",
       "      <td>0.086332</td>\n",
       "      <td>-0.015196</td>\n",
       "      <td>0.217057</td>\n",
       "      <td>0.015394</td>\n",
       "      <td>0.054549</td>\n",
       "      <td>0.020399</td>\n",
       "      <td>0.133803</td>\n",
       "      <td>-0.068004</td>\n",
       "      <td>0.180199</td>\n",
       "      <td>-0.183936</td>\n",
       "    </tr>\n",
       "    <tr>\n",
       "      <th>medu</th>\n",
       "      <td>-0.160151</td>\n",
       "      <td>1.000000</td>\n",
       "      <td>0.594546</td>\n",
       "      <td>-0.163478</td>\n",
       "      <td>0.077078</td>\n",
       "      <td>-0.243315</td>\n",
       "      <td>-0.077666</td>\n",
       "      <td>-0.016593</td>\n",
       "      <td>0.030912</td>\n",
       "      <td>0.063375</td>\n",
       "      <td>-0.051728</td>\n",
       "      <td>0.111889</td>\n",
       "      <td>0.236473</td>\n",
       "    </tr>\n",
       "    <tr>\n",
       "      <th>fedu</th>\n",
       "      <td>-0.151390</td>\n",
       "      <td>0.594546</td>\n",
       "      <td>1.000000</td>\n",
       "      <td>-0.118597</td>\n",
       "      <td>0.007828</td>\n",
       "      <td>-0.259287</td>\n",
       "      <td>-0.007853</td>\n",
       "      <td>-0.021672</td>\n",
       "      <td>-0.029921</td>\n",
       "      <td>0.040867</td>\n",
       "      <td>0.009298</td>\n",
       "      <td>0.028205</td>\n",
       "      <td>0.138506</td>\n",
       "    </tr>\n",
       "    <tr>\n",
       "      <th>traveltime</th>\n",
       "      <td>0.086332</td>\n",
       "      <td>-0.163478</td>\n",
       "      <td>-0.118597</td>\n",
       "      <td>1.000000</td>\n",
       "      <td>-0.095085</td>\n",
       "      <td>0.052728</td>\n",
       "      <td>0.096188</td>\n",
       "      <td>-0.019045</td>\n",
       "      <td>-0.005851</td>\n",
       "      <td>0.054718</td>\n",
       "      <td>-0.049022</td>\n",
       "      <td>0.007200</td>\n",
       "      <td>-0.065256</td>\n",
       "    </tr>\n",
       "    <tr>\n",
       "      <th>studytime</th>\n",
       "      <td>-0.015196</td>\n",
       "      <td>0.077078</td>\n",
       "      <td>0.007828</td>\n",
       "      <td>-0.095085</td>\n",
       "      <td>1.000000</td>\n",
       "      <td>-0.167846</td>\n",
       "      <td>-1.000000</td>\n",
       "      <td>0.038058</td>\n",
       "      <td>-0.120469</td>\n",
       "      <td>-0.051991</td>\n",
       "      <td>-0.074216</td>\n",
       "      <td>-0.077739</td>\n",
       "      <td>0.105028</td>\n",
       "    </tr>\n",
       "    <tr>\n",
       "      <th>failures</th>\n",
       "      <td>0.217057</td>\n",
       "      <td>-0.243315</td>\n",
       "      <td>-0.259287</td>\n",
       "      <td>0.052728</td>\n",
       "      <td>-0.167846</td>\n",
       "      <td>1.000000</td>\n",
       "      <td>0.169302</td>\n",
       "      <td>-0.025788</td>\n",
       "      <td>0.082441</td>\n",
       "      <td>0.106340</td>\n",
       "      <td>0.074908</td>\n",
       "      <td>0.103553</td>\n",
       "      <td>-0.348881</td>\n",
       "    </tr>\n",
       "    <tr>\n",
       "      <th>granular</th>\n",
       "      <td>0.015394</td>\n",
       "      <td>-0.077666</td>\n",
       "      <td>-0.007853</td>\n",
       "      <td>0.096188</td>\n",
       "      <td>-1.000000</td>\n",
       "      <td>0.169302</td>\n",
       "      <td>1.000000</td>\n",
       "      <td>-0.038587</td>\n",
       "      <td>0.122295</td>\n",
       "      <td>0.052513</td>\n",
       "      <td>0.074795</td>\n",
       "      <td>0.078221</td>\n",
       "      <td>-0.106430</td>\n",
       "    </tr>\n",
       "    <tr>\n",
       "      <th>famrel</th>\n",
       "      <td>0.054549</td>\n",
       "      <td>-0.016593</td>\n",
       "      <td>-0.021672</td>\n",
       "      <td>-0.019045</td>\n",
       "      <td>0.038058</td>\n",
       "      <td>-0.025788</td>\n",
       "      <td>-0.038587</td>\n",
       "      <td>1.000000</td>\n",
       "      <td>0.162981</td>\n",
       "      <td>0.062812</td>\n",
       "      <td>0.089615</td>\n",
       "      <td>-0.076920</td>\n",
       "      <td>0.046807</td>\n",
       "    </tr>\n",
       "    <tr>\n",
       "      <th>freetime</th>\n",
       "      <td>0.020399</td>\n",
       "      <td>0.030912</td>\n",
       "      <td>-0.029921</td>\n",
       "      <td>-0.005851</td>\n",
       "      <td>-0.120469</td>\n",
       "      <td>0.082441</td>\n",
       "      <td>0.122295</td>\n",
       "      <td>0.162981</td>\n",
       "      <td>1.000000</td>\n",
       "      <td>0.282292</td>\n",
       "      <td>0.065650</td>\n",
       "      <td>-0.019537</td>\n",
       "      <td>0.001911</td>\n",
       "    </tr>\n",
       "    <tr>\n",
       "      <th>goout</th>\n",
       "      <td>0.133803</td>\n",
       "      <td>0.063375</td>\n",
       "      <td>0.040867</td>\n",
       "      <td>0.054718</td>\n",
       "      <td>-0.051991</td>\n",
       "      <td>0.106340</td>\n",
       "      <td>0.052513</td>\n",
       "      <td>0.062812</td>\n",
       "      <td>0.282292</td>\n",
       "      <td>1.000000</td>\n",
       "      <td>-0.012177</td>\n",
       "      <td>0.090283</td>\n",
       "      <td>-0.140253</td>\n",
       "    </tr>\n",
       "    <tr>\n",
       "      <th>health</th>\n",
       "      <td>-0.068004</td>\n",
       "      <td>-0.051728</td>\n",
       "      <td>0.009298</td>\n",
       "      <td>-0.049022</td>\n",
       "      <td>-0.074216</td>\n",
       "      <td>0.074908</td>\n",
       "      <td>0.074795</td>\n",
       "      <td>0.089615</td>\n",
       "      <td>0.065650</td>\n",
       "      <td>-0.012177</td>\n",
       "      <td>1.000000</td>\n",
       "      <td>-0.040973</td>\n",
       "      <td>-0.074168</td>\n",
       "    </tr>\n",
       "    <tr>\n",
       "      <th>absences</th>\n",
       "      <td>0.180199</td>\n",
       "      <td>0.111889</td>\n",
       "      <td>0.028205</td>\n",
       "      <td>0.007200</td>\n",
       "      <td>-0.077739</td>\n",
       "      <td>0.103553</td>\n",
       "      <td>0.078221</td>\n",
       "      <td>-0.076920</td>\n",
       "      <td>-0.019537</td>\n",
       "      <td>0.090283</td>\n",
       "      <td>-0.040973</td>\n",
       "      <td>1.000000</td>\n",
       "      <td>0.055200</td>\n",
       "    </tr>\n",
       "    <tr>\n",
       "      <th>score</th>\n",
       "      <td>-0.183936</td>\n",
       "      <td>0.236473</td>\n",
       "      <td>0.138506</td>\n",
       "      <td>-0.065256</td>\n",
       "      <td>0.105028</td>\n",
       "      <td>-0.348881</td>\n",
       "      <td>-0.106430</td>\n",
       "      <td>0.046807</td>\n",
       "      <td>0.001911</td>\n",
       "      <td>-0.140253</td>\n",
       "      <td>-0.074168</td>\n",
       "      <td>0.055200</td>\n",
       "      <td>1.000000</td>\n",
       "    </tr>\n",
       "  </tbody>\n",
       "</table>\n",
       "</div>"
      ],
      "text/plain": [
       "                 age      medu      fedu  traveltime  studytime  failures  \\\n",
       "age         1.000000 -0.160151 -0.151390    0.086332  -0.015196  0.217057   \n",
       "medu       -0.160151  1.000000  0.594546   -0.163478   0.077078 -0.243315   \n",
       "fedu       -0.151390  0.594546  1.000000   -0.118597   0.007828 -0.259287   \n",
       "traveltime  0.086332 -0.163478 -0.118597    1.000000  -0.095085  0.052728   \n",
       "studytime  -0.015196  0.077078  0.007828   -0.095085   1.000000 -0.167846   \n",
       "failures    0.217057 -0.243315 -0.259287    0.052728  -0.167846  1.000000   \n",
       "granular    0.015394 -0.077666 -0.007853    0.096188  -1.000000  0.169302   \n",
       "famrel      0.054549 -0.016593 -0.021672   -0.019045   0.038058 -0.025788   \n",
       "freetime    0.020399  0.030912 -0.029921   -0.005851  -0.120469  0.082441   \n",
       "goout       0.133803  0.063375  0.040867    0.054718  -0.051991  0.106340   \n",
       "health     -0.068004 -0.051728  0.009298   -0.049022  -0.074216  0.074908   \n",
       "absences    0.180199  0.111889  0.028205    0.007200  -0.077739  0.103553   \n",
       "score      -0.183936  0.236473  0.138506   -0.065256   0.105028 -0.348881   \n",
       "\n",
       "            granular    famrel  freetime     goout    health  absences  \\\n",
       "age         0.015394  0.054549  0.020399  0.133803 -0.068004  0.180199   \n",
       "medu       -0.077666 -0.016593  0.030912  0.063375 -0.051728  0.111889   \n",
       "fedu       -0.007853 -0.021672 -0.029921  0.040867  0.009298  0.028205   \n",
       "traveltime  0.096188 -0.019045 -0.005851  0.054718 -0.049022  0.007200   \n",
       "studytime  -1.000000  0.038058 -0.120469 -0.051991 -0.074216 -0.077739   \n",
       "failures    0.169302 -0.025788  0.082441  0.106340  0.074908  0.103553   \n",
       "granular    1.000000 -0.038587  0.122295  0.052513  0.074795  0.078221   \n",
       "famrel     -0.038587  1.000000  0.162981  0.062812  0.089615 -0.076920   \n",
       "freetime    0.122295  0.162981  1.000000  0.282292  0.065650 -0.019537   \n",
       "goout       0.052513  0.062812  0.282292  1.000000 -0.012177  0.090283   \n",
       "health      0.074795  0.089615  0.065650 -0.012177  1.000000 -0.040973   \n",
       "absences    0.078221 -0.076920 -0.019537  0.090283 -0.040973  1.000000   \n",
       "score      -0.106430  0.046807  0.001911 -0.140253 -0.074168  0.055200   \n",
       "\n",
       "               score  \n",
       "age        -0.183936  \n",
       "medu        0.236473  \n",
       "fedu        0.138506  \n",
       "traveltime -0.065256  \n",
       "studytime   0.105028  \n",
       "failures   -0.348881  \n",
       "granular   -0.106430  \n",
       "famrel      0.046807  \n",
       "freetime    0.001911  \n",
       "goout      -0.140253  \n",
       "health     -0.074168  \n",
       "absences    0.055200  \n",
       "score       1.000000  "
      ]
     },
     "execution_count": 120,
     "metadata": {},
     "output_type": "execute_result"
    }
   ],
   "source": [
    "stud.corr()"
   ]
  },
  {
   "cell_type": "code",
   "execution_count": 121,
   "id": "966ed002",
   "metadata": {},
   "outputs": [],
   "source": [
    "#неожиданно низкие коэффициенты корреляции. из общего ряда заметно выбивается уровень образования матери и внеучебные неудачи.\n",
    "#если со вторым все понятно, то повышенная корреляция первого критерия вероятно связана с тем, что в качестве \"опекуна\"\n",
    "# у подавляющего большинства учеников указана именно мать, а уровень образования матерей в этом опросе еще и несколько выше,\n",
    "# чем у отцов. вероятнее всего под опекуном тут понимается не юридическое значение (т.к. большая часть семей - полная),\n",
    "# а член семьи с которым у опрошенного ученика наиболее близкий контакт. "
   ]
  },
  {
   "cell_type": "code",
   "execution_count": 122,
   "id": "c48d53b2",
   "metadata": {
    "scrolled": true
   },
   "outputs": [
    {
     "data": {
      "text/html": [
       "<div>\n",
       "<style scoped>\n",
       "    .dataframe tbody tr th:only-of-type {\n",
       "        vertical-align: middle;\n",
       "    }\n",
       "\n",
       "    .dataframe tbody tr th {\n",
       "        vertical-align: top;\n",
       "    }\n",
       "\n",
       "    .dataframe thead th {\n",
       "        text-align: right;\n",
       "    }\n",
       "</style>\n",
       "<table border=\"1\" class=\"dataframe\">\n",
       "  <thead>\n",
       "    <tr style=\"text-align: right;\">\n",
       "      <th></th>\n",
       "      <th>pedu</th>\n",
       "    </tr>\n",
       "  </thead>\n",
       "  <tbody>\n",
       "    <tr>\n",
       "      <th>2.0</th>\n",
       "      <td>70</td>\n",
       "    </tr>\n",
       "    <tr>\n",
       "      <th>3.0</th>\n",
       "      <td>68</td>\n",
       "    </tr>\n",
       "    <tr>\n",
       "      <th>4.0</th>\n",
       "      <td>63</td>\n",
       "    </tr>\n",
       "    <tr>\n",
       "      <th>3.5</th>\n",
       "      <td>57</td>\n",
       "    </tr>\n",
       "    <tr>\n",
       "      <th>2.5</th>\n",
       "      <td>49</td>\n",
       "    </tr>\n",
       "    <tr>\n",
       "      <th>1.5</th>\n",
       "      <td>43</td>\n",
       "    </tr>\n",
       "    <tr>\n",
       "      <th>1.0</th>\n",
       "      <td>38</td>\n",
       "    </tr>\n",
       "    <tr>\n",
       "      <th>0.5</th>\n",
       "      <td>2</td>\n",
       "    </tr>\n",
       "  </tbody>\n",
       "</table>\n",
       "</div>"
      ],
      "text/plain": [
       "     pedu\n",
       "2.0    70\n",
       "3.0    68\n",
       "4.0    63\n",
       "3.5    57\n",
       "2.5    49\n",
       "1.5    43\n",
       "1.0    38\n",
       "0.5     2"
      ]
     },
     "execution_count": 122,
     "metadata": {},
     "output_type": "execute_result"
    }
   ],
   "source": [
    "#для проверки этого предположения введем еще две вспомогательные колонки \n",
    "\n",
    "stud = stud.assign(pedu = (stud.medu + stud.fedu)/2) #средний уровень образования родителей\n",
    "stud = stud.assign(gedu = 0) # уровень образования \"опекуна\"\n",
    "#заполним на основании значения в колонке guardian\n",
    "\n",
    "stud['gedu'] = stud[['guardian', 'medu', 'fedu', 'pedu']].apply(\n",
    "    lambda x: x[1] if x[0] == 'mother' else x[2] if x[0] == 'father' else x[3], axis=1)\n",
    "\n",
    "pd.DataFrame(stud.pedu.value_counts())\n",
    "\n"
   ]
  },
  {
   "cell_type": "code",
   "execution_count": 123,
   "id": "770732bc",
   "metadata": {
    "scrolled": true
   },
   "outputs": [
    {
     "data": {
      "text/html": [
       "<div>\n",
       "<style scoped>\n",
       "    .dataframe tbody tr th:only-of-type {\n",
       "        vertical-align: middle;\n",
       "    }\n",
       "\n",
       "    .dataframe tbody tr th {\n",
       "        vertical-align: top;\n",
       "    }\n",
       "\n",
       "    .dataframe thead th {\n",
       "        text-align: right;\n",
       "    }\n",
       "</style>\n",
       "<table border=\"1\" class=\"dataframe\">\n",
       "  <thead>\n",
       "    <tr style=\"text-align: right;\">\n",
       "      <th></th>\n",
       "      <th>age</th>\n",
       "      <th>medu</th>\n",
       "      <th>fedu</th>\n",
       "      <th>traveltime</th>\n",
       "      <th>studytime</th>\n",
       "      <th>failures</th>\n",
       "      <th>granular</th>\n",
       "      <th>famrel</th>\n",
       "      <th>freetime</th>\n",
       "      <th>goout</th>\n",
       "      <th>health</th>\n",
       "      <th>absences</th>\n",
       "      <th>score</th>\n",
       "      <th>pedu</th>\n",
       "      <th>gedu</th>\n",
       "    </tr>\n",
       "  </thead>\n",
       "  <tbody>\n",
       "    <tr>\n",
       "      <th>age</th>\n",
       "      <td>1.000000</td>\n",
       "      <td>-0.160151</td>\n",
       "      <td>-0.151390</td>\n",
       "      <td>0.086332</td>\n",
       "      <td>-0.015196</td>\n",
       "      <td>0.217057</td>\n",
       "      <td>0.015394</td>\n",
       "      <td>0.054549</td>\n",
       "      <td>0.020399</td>\n",
       "      <td>0.133803</td>\n",
       "      <td>-0.068004</td>\n",
       "      <td>0.180199</td>\n",
       "      <td>-0.183936</td>\n",
       "      <td>-0.174522</td>\n",
       "      <td>-0.176515</td>\n",
       "    </tr>\n",
       "    <tr>\n",
       "      <th>medu</th>\n",
       "      <td>-0.160151</td>\n",
       "      <td>1.000000</td>\n",
       "      <td>0.594546</td>\n",
       "      <td>-0.163478</td>\n",
       "      <td>0.077078</td>\n",
       "      <td>-0.243315</td>\n",
       "      <td>-0.077666</td>\n",
       "      <td>-0.016593</td>\n",
       "      <td>0.030912</td>\n",
       "      <td>0.063375</td>\n",
       "      <td>-0.051728</td>\n",
       "      <td>0.111889</td>\n",
       "      <td>0.236473</td>\n",
       "      <td>0.896227</td>\n",
       "      <td>0.886713</td>\n",
       "    </tr>\n",
       "    <tr>\n",
       "      <th>fedu</th>\n",
       "      <td>-0.151390</td>\n",
       "      <td>0.594546</td>\n",
       "      <td>1.000000</td>\n",
       "      <td>-0.118597</td>\n",
       "      <td>0.007828</td>\n",
       "      <td>-0.259287</td>\n",
       "      <td>-0.007853</td>\n",
       "      <td>-0.021672</td>\n",
       "      <td>-0.029921</td>\n",
       "      <td>0.040867</td>\n",
       "      <td>0.009298</td>\n",
       "      <td>0.028205</td>\n",
       "      <td>0.138506</td>\n",
       "      <td>0.889527</td>\n",
       "      <td>0.724250</td>\n",
       "    </tr>\n",
       "    <tr>\n",
       "      <th>traveltime</th>\n",
       "      <td>0.086332</td>\n",
       "      <td>-0.163478</td>\n",
       "      <td>-0.118597</td>\n",
       "      <td>1.000000</td>\n",
       "      <td>-0.095085</td>\n",
       "      <td>0.052728</td>\n",
       "      <td>0.096188</td>\n",
       "      <td>-0.019045</td>\n",
       "      <td>-0.005851</td>\n",
       "      <td>0.054718</td>\n",
       "      <td>-0.049022</td>\n",
       "      <td>0.007200</td>\n",
       "      <td>-0.065256</td>\n",
       "      <td>-0.158320</td>\n",
       "      <td>-0.120119</td>\n",
       "    </tr>\n",
       "    <tr>\n",
       "      <th>studytime</th>\n",
       "      <td>-0.015196</td>\n",
       "      <td>0.077078</td>\n",
       "      <td>0.007828</td>\n",
       "      <td>-0.095085</td>\n",
       "      <td>1.000000</td>\n",
       "      <td>-0.167846</td>\n",
       "      <td>-1.000000</td>\n",
       "      <td>0.038058</td>\n",
       "      <td>-0.120469</td>\n",
       "      <td>-0.051991</td>\n",
       "      <td>-0.074216</td>\n",
       "      <td>-0.077739</td>\n",
       "      <td>0.105028</td>\n",
       "      <td>0.048116</td>\n",
       "      <td>0.041117</td>\n",
       "    </tr>\n",
       "    <tr>\n",
       "      <th>failures</th>\n",
       "      <td>0.217057</td>\n",
       "      <td>-0.243315</td>\n",
       "      <td>-0.259287</td>\n",
       "      <td>0.052728</td>\n",
       "      <td>-0.167846</td>\n",
       "      <td>1.000000</td>\n",
       "      <td>0.169302</td>\n",
       "      <td>-0.025788</td>\n",
       "      <td>0.082441</td>\n",
       "      <td>0.106340</td>\n",
       "      <td>0.074908</td>\n",
       "      <td>0.103553</td>\n",
       "      <td>-0.348881</td>\n",
       "      <td>-0.281304</td>\n",
       "      <td>-0.268128</td>\n",
       "    </tr>\n",
       "    <tr>\n",
       "      <th>granular</th>\n",
       "      <td>0.015394</td>\n",
       "      <td>-0.077666</td>\n",
       "      <td>-0.007853</td>\n",
       "      <td>0.096188</td>\n",
       "      <td>-1.000000</td>\n",
       "      <td>0.169302</td>\n",
       "      <td>1.000000</td>\n",
       "      <td>-0.038587</td>\n",
       "      <td>0.122295</td>\n",
       "      <td>0.052513</td>\n",
       "      <td>0.074795</td>\n",
       "      <td>0.078221</td>\n",
       "      <td>-0.106430</td>\n",
       "      <td>-0.048492</td>\n",
       "      <td>-0.041533</td>\n",
       "    </tr>\n",
       "    <tr>\n",
       "      <th>famrel</th>\n",
       "      <td>0.054549</td>\n",
       "      <td>-0.016593</td>\n",
       "      <td>-0.021672</td>\n",
       "      <td>-0.019045</td>\n",
       "      <td>0.038058</td>\n",
       "      <td>-0.025788</td>\n",
       "      <td>-0.038587</td>\n",
       "      <td>1.000000</td>\n",
       "      <td>0.162981</td>\n",
       "      <td>0.062812</td>\n",
       "      <td>0.089615</td>\n",
       "      <td>-0.076920</td>\n",
       "      <td>0.046807</td>\n",
       "      <td>-0.021385</td>\n",
       "      <td>-0.024440</td>\n",
       "    </tr>\n",
       "    <tr>\n",
       "      <th>freetime</th>\n",
       "      <td>0.020399</td>\n",
       "      <td>0.030912</td>\n",
       "      <td>-0.029921</td>\n",
       "      <td>-0.005851</td>\n",
       "      <td>-0.120469</td>\n",
       "      <td>0.082441</td>\n",
       "      <td>0.122295</td>\n",
       "      <td>0.162981</td>\n",
       "      <td>1.000000</td>\n",
       "      <td>0.282292</td>\n",
       "      <td>0.065650</td>\n",
       "      <td>-0.019537</td>\n",
       "      <td>0.001911</td>\n",
       "      <td>0.001057</td>\n",
       "      <td>0.003382</td>\n",
       "    </tr>\n",
       "    <tr>\n",
       "      <th>goout</th>\n",
       "      <td>0.133803</td>\n",
       "      <td>0.063375</td>\n",
       "      <td>0.040867</td>\n",
       "      <td>0.054718</td>\n",
       "      <td>-0.051991</td>\n",
       "      <td>0.106340</td>\n",
       "      <td>0.052513</td>\n",
       "      <td>0.062812</td>\n",
       "      <td>0.282292</td>\n",
       "      <td>1.000000</td>\n",
       "      <td>-0.012177</td>\n",
       "      <td>0.090283</td>\n",
       "      <td>-0.140253</td>\n",
       "      <td>0.058557</td>\n",
       "      <td>0.045212</td>\n",
       "    </tr>\n",
       "    <tr>\n",
       "      <th>health</th>\n",
       "      <td>-0.068004</td>\n",
       "      <td>-0.051728</td>\n",
       "      <td>0.009298</td>\n",
       "      <td>-0.049022</td>\n",
       "      <td>-0.074216</td>\n",
       "      <td>0.074908</td>\n",
       "      <td>0.074795</td>\n",
       "      <td>0.089615</td>\n",
       "      <td>0.065650</td>\n",
       "      <td>-0.012177</td>\n",
       "      <td>1.000000</td>\n",
       "      <td>-0.040973</td>\n",
       "      <td>-0.074168</td>\n",
       "      <td>-0.024263</td>\n",
       "      <td>-0.061326</td>\n",
       "    </tr>\n",
       "    <tr>\n",
       "      <th>absences</th>\n",
       "      <td>0.180199</td>\n",
       "      <td>0.111889</td>\n",
       "      <td>0.028205</td>\n",
       "      <td>0.007200</td>\n",
       "      <td>-0.077739</td>\n",
       "      <td>0.103553</td>\n",
       "      <td>0.078221</td>\n",
       "      <td>-0.076920</td>\n",
       "      <td>-0.019537</td>\n",
       "      <td>0.090283</td>\n",
       "      <td>-0.040973</td>\n",
       "      <td>1.000000</td>\n",
       "      <td>0.055200</td>\n",
       "      <td>0.079138</td>\n",
       "      <td>0.097713</td>\n",
       "    </tr>\n",
       "    <tr>\n",
       "      <th>score</th>\n",
       "      <td>-0.183936</td>\n",
       "      <td>0.236473</td>\n",
       "      <td>0.138506</td>\n",
       "      <td>-0.065256</td>\n",
       "      <td>0.105028</td>\n",
       "      <td>-0.348881</td>\n",
       "      <td>-0.106430</td>\n",
       "      <td>0.046807</td>\n",
       "      <td>0.001911</td>\n",
       "      <td>-0.140253</td>\n",
       "      <td>-0.074168</td>\n",
       "      <td>0.055200</td>\n",
       "      <td>1.000000</td>\n",
       "      <td>0.210781</td>\n",
       "      <td>0.224429</td>\n",
       "    </tr>\n",
       "    <tr>\n",
       "      <th>pedu</th>\n",
       "      <td>-0.174522</td>\n",
       "      <td>0.896227</td>\n",
       "      <td>0.889527</td>\n",
       "      <td>-0.158320</td>\n",
       "      <td>0.048116</td>\n",
       "      <td>-0.281304</td>\n",
       "      <td>-0.048492</td>\n",
       "      <td>-0.021385</td>\n",
       "      <td>0.001057</td>\n",
       "      <td>0.058557</td>\n",
       "      <td>-0.024263</td>\n",
       "      <td>0.079138</td>\n",
       "      <td>0.210781</td>\n",
       "      <td>1.000000</td>\n",
       "      <td>0.903412</td>\n",
       "    </tr>\n",
       "    <tr>\n",
       "      <th>gedu</th>\n",
       "      <td>-0.176515</td>\n",
       "      <td>0.886713</td>\n",
       "      <td>0.724250</td>\n",
       "      <td>-0.120119</td>\n",
       "      <td>0.041117</td>\n",
       "      <td>-0.268128</td>\n",
       "      <td>-0.041533</td>\n",
       "      <td>-0.024440</td>\n",
       "      <td>0.003382</td>\n",
       "      <td>0.045212</td>\n",
       "      <td>-0.061326</td>\n",
       "      <td>0.097713</td>\n",
       "      <td>0.224429</td>\n",
       "      <td>0.903412</td>\n",
       "      <td>1.000000</td>\n",
       "    </tr>\n",
       "  </tbody>\n",
       "</table>\n",
       "</div>"
      ],
      "text/plain": [
       "                 age      medu      fedu  traveltime  studytime  failures  \\\n",
       "age         1.000000 -0.160151 -0.151390    0.086332  -0.015196  0.217057   \n",
       "medu       -0.160151  1.000000  0.594546   -0.163478   0.077078 -0.243315   \n",
       "fedu       -0.151390  0.594546  1.000000   -0.118597   0.007828 -0.259287   \n",
       "traveltime  0.086332 -0.163478 -0.118597    1.000000  -0.095085  0.052728   \n",
       "studytime  -0.015196  0.077078  0.007828   -0.095085   1.000000 -0.167846   \n",
       "failures    0.217057 -0.243315 -0.259287    0.052728  -0.167846  1.000000   \n",
       "granular    0.015394 -0.077666 -0.007853    0.096188  -1.000000  0.169302   \n",
       "famrel      0.054549 -0.016593 -0.021672   -0.019045   0.038058 -0.025788   \n",
       "freetime    0.020399  0.030912 -0.029921   -0.005851  -0.120469  0.082441   \n",
       "goout       0.133803  0.063375  0.040867    0.054718  -0.051991  0.106340   \n",
       "health     -0.068004 -0.051728  0.009298   -0.049022  -0.074216  0.074908   \n",
       "absences    0.180199  0.111889  0.028205    0.007200  -0.077739  0.103553   \n",
       "score      -0.183936  0.236473  0.138506   -0.065256   0.105028 -0.348881   \n",
       "pedu       -0.174522  0.896227  0.889527   -0.158320   0.048116 -0.281304   \n",
       "gedu       -0.176515  0.886713  0.724250   -0.120119   0.041117 -0.268128   \n",
       "\n",
       "            granular    famrel  freetime     goout    health  absences  \\\n",
       "age         0.015394  0.054549  0.020399  0.133803 -0.068004  0.180199   \n",
       "medu       -0.077666 -0.016593  0.030912  0.063375 -0.051728  0.111889   \n",
       "fedu       -0.007853 -0.021672 -0.029921  0.040867  0.009298  0.028205   \n",
       "traveltime  0.096188 -0.019045 -0.005851  0.054718 -0.049022  0.007200   \n",
       "studytime  -1.000000  0.038058 -0.120469 -0.051991 -0.074216 -0.077739   \n",
       "failures    0.169302 -0.025788  0.082441  0.106340  0.074908  0.103553   \n",
       "granular    1.000000 -0.038587  0.122295  0.052513  0.074795  0.078221   \n",
       "famrel     -0.038587  1.000000  0.162981  0.062812  0.089615 -0.076920   \n",
       "freetime    0.122295  0.162981  1.000000  0.282292  0.065650 -0.019537   \n",
       "goout       0.052513  0.062812  0.282292  1.000000 -0.012177  0.090283   \n",
       "health      0.074795  0.089615  0.065650 -0.012177  1.000000 -0.040973   \n",
       "absences    0.078221 -0.076920 -0.019537  0.090283 -0.040973  1.000000   \n",
       "score      -0.106430  0.046807  0.001911 -0.140253 -0.074168  0.055200   \n",
       "pedu       -0.048492 -0.021385  0.001057  0.058557 -0.024263  0.079138   \n",
       "gedu       -0.041533 -0.024440  0.003382  0.045212 -0.061326  0.097713   \n",
       "\n",
       "               score      pedu      gedu  \n",
       "age        -0.183936 -0.174522 -0.176515  \n",
       "medu        0.236473  0.896227  0.886713  \n",
       "fedu        0.138506  0.889527  0.724250  \n",
       "traveltime -0.065256 -0.158320 -0.120119  \n",
       "studytime   0.105028  0.048116  0.041117  \n",
       "failures   -0.348881 -0.281304 -0.268128  \n",
       "granular   -0.106430 -0.048492 -0.041533  \n",
       "famrel      0.046807 -0.021385 -0.024440  \n",
       "freetime    0.001911  0.001057  0.003382  \n",
       "goout      -0.140253  0.058557  0.045212  \n",
       "health     -0.074168 -0.024263 -0.061326  \n",
       "absences    0.055200  0.079138  0.097713  \n",
       "score       1.000000  0.210781  0.224429  \n",
       "pedu        0.210781  1.000000  0.903412  \n",
       "gedu        0.224429  0.903412  1.000000  "
      ]
     },
     "execution_count": 123,
     "metadata": {},
     "output_type": "execute_result"
    }
   ],
   "source": [
    "stud.corr()"
   ]
  },
  {
   "cell_type": "code",
   "execution_count": 124,
   "id": "6d3da683",
   "metadata": {},
   "outputs": [],
   "source": [
    "#предположение не оправдалось: коэффициент корреляции уровня образования опекуна, ниже чем у образования матери."
   ]
  },
  {
   "cell_type": "code",
   "execution_count": 125,
   "id": "b19421c2",
   "metadata": {},
   "outputs": [
    {
     "data": {
      "image/png": "[encoded data removed]",
      "text/plain": [
       "<Figure size 1008x288 with 1 Axes>"
      ]
     },
     "metadata": {
      "needs_background": "light"
     },
     "output_type": "display_data"
    },
    {
     "data": {
      "image/png": "[encoded data removed]",
      "text/plain": [
       "<Figure size 1008x288 with 1 Axes>"
      ]
     },
     "metadata": {
      "needs_background": "light"
     },
     "output_type": "display_data"
    },
    {
     "data": {
      "image/png": "[encoded data removed]",
      "text/plain": [
       "<Figure size 1008x288 with 1 Axes>"
      ]
     },
     "metadata": {
      "needs_background": "light"
     },
     "output_type": "display_data"
    },
    {
     "data": {
      "image/png": "[encoded data removed]",
      "text/plain": [
       "<Figure size 1008x288 with 1 Axes>"
      ]
     },
     "metadata": {
      "needs_background": "light"
     },
     "output_type": "display_data"
    },
    {
     "data": {
      "image/png": "[encoded data removed]",
      "text/plain": [
       "<Figure size 1008x288 with 1 Axes>"
      ]
     },
     "metadata": {
      "needs_background": "light"
     },
     "output_type": "display_data"
    },
    {
     "data": {
      "image/png": "[encoded data removed]",
      "text/plain": [
       "<Figure size 1008x288 with 1 Axes>"
      ]
     },
     "metadata": {
      "needs_background": "light"
     },
     "output_type": "display_data"
    },
    {
     "data": {
      "image/png": "[encoded data removed]",
      "text/plain": [
       "<Figure size 1008x288 with 1 Axes>"
      ]
     },
     "metadata": {
      "needs_background": "light"
     },
     "output_type": "display_data"
    },
    {
     "data": {
      "image/png": "[encoded data removed]",
      "text/plain": [
       "<Figure size 1008x288 with 1 Axes>"
      ]
     },
     "metadata": {
      "needs_background": "light"
     },
     "output_type": "display_data"
    },
    {
     "data": {
      "image/png": "[encoded data removed]",
      "text/plain": [
       "<Figure size 1008x288 with 1 Axes>"
      ]
     },
     "metadata": {
      "needs_background": "light"
     },
     "output_type": "display_data"
    },
    {
     "data": {
      "image/png": "[encoded data removed]",
      "text/plain": [
       "<Figure size 1008x288 with 1 Axes>"
      ]
     },
     "metadata": {
      "needs_background": "light"
     },
     "output_type": "display_data"
    },
    {
     "data": {
      "image/png": "[encoded data removed]",
      "text/plain": [
       "<Figure size 1008x288 with 1 Axes>"
      ]
     },
     "metadata": {
      "needs_background": "light"
     },
     "output_type": "display_data"
    },
    {
     "data": {
      "image/png": "[encoded data removed]",
      "text/plain": [
       "<Figure size 1008x288 with 1 Axes>"
      ]
     },
     "metadata": {
      "needs_background": "light"
     },
     "output_type": "display_data"
    },
    {
     "data": {
      "image/png": "[encoded data removed]",
      "text/plain": [
       "<Figure size 1008x288 with 1 Axes>"
      ]
     },
     "metadata": {
      "needs_background": "light"
     },
     "output_type": "display_data"
    },
    {
     "data": {
      "image/png": "[encoded data removed]",
      "text/plain": [
       "<Figure size 1008x288 with 1 Axes>"
      ]
     },
     "metadata": {
      "needs_background": "light"
     },
     "output_type": "display_data"
    },
    {
     "data": {
      "image/png": "[encoded data removed]",
      "text/plain": [
       "<Figure size 1008x288 with 1 Axes>"
      ]
     },
     "metadata": {
      "needs_background": "light"
     },
     "output_type": "display_data"
    },
    {
     "data": {
      "image/png": "[encoded data removed]",
      "text/plain": [
       "<Figure size 1008x288 with 1 Axes>"
      ]
     },
     "metadata": {
      "needs_background": "light"
     },
     "output_type": "display_data"
    },
    {
     "data": {
      "image/png": "[encoded data removed]",
      "text/plain": [
       "<Figure size 1008x288 with 1 Axes>"
      ]
     },
     "metadata": {
      "needs_background": "light"
     },
     "output_type": "display_data"
    },
    {
     "data": {
      "image/png": "[encoded data removed]",
      "text/plain": [
       "<Figure size 1008x288 with 1 Axes>"
      ]
     },
     "metadata": {
      "needs_background": "light"
     },
     "output_type": "display_data"
    },
    {
     "data": {
      "image/png": "[encoded data removed]",
      "text/plain": [
       "<Figure size 1008x288 with 1 Axes>"
      ]
     },
     "metadata": {
      "needs_background": "light"
     },
     "output_type": "display_data"
    },
    {
     "data": {
      "image/png": "[encoded data removed]",
      "text/plain": [
       "<Figure size 1008x288 with 1 Axes>"
      ]
     },
     "metadata": {
      "needs_background": "light"
     },
     "output_type": "display_data"
    },
    {
     "data": {
      "image/png": "[encoded data removed]",
      "text/plain": [
       "<Figure size 1008x288 with 1 Axes>"
      ]
     },
     "metadata": {
      "needs_background": "light"
     },
     "output_type": "display_data"
    },
    {
     "data": {
      "image/png": "[encoded data removed]",
      "text/plain": [
       "<Figure size 1008x288 with 1 Axes>"
      ]
     },
     "metadata": {
      "needs_background": "light"
     },
     "output_type": "display_data"
    },
    {
     "data": {
      "image/png": "[encoded data removed]",
      "text/plain": [
       "<Figure size 1008x288 with 1 Axes>"
      ]
     },
     "metadata": {
      "needs_background": "light"
     },
     "output_type": "display_data"
    },
    {
     "data": {
      "image/png": "[encoded data removed]",
      "text/plain": [
       "<Figure size 1008x288 with 1 Axes>"
      ]
     },
     "metadata": {
      "needs_background": "light"
     },
     "output_type": "display_data"
    },
    {
     "data": {
      "image/png": "[encoded data removed]",
      "text/plain": [
       "<Figure size 1008x288 with 1 Axes>"
      ]
     },
     "metadata": {
      "needs_background": "light"
     },
     "output_type": "display_data"
    },
    {
     "data": {
      "image/png": "[encoded data removed]",
      "text/plain": [
       "<Figure size 1008x288 with 1 Axes>"
      ]
     },
     "metadata": {
      "needs_background": "light"
     },
     "output_type": "display_data"
    },
    {
     "data": {
      "image/png": "[encoded data removed]",
      "text/plain": [
       "<Figure size 1008x288 with 1 Axes>"
      ]
     },
     "metadata": {
      "needs_background": "light"
     },
     "output_type": "display_data"
    },
    {
     "data": {
      "image/png": "[encoded data removed]",
      "text/plain": [
       "<Figure size 1008x288 with 1 Axes>"
      ]
     },
     "metadata": {
      "needs_background": "light"
     },
     "output_type": "display_data"
    }
   ],
   "source": [
    "def get_boxplot(column):\n",
    "    fig, ax = plt.subplots(figsize = (14, 4))\n",
    "    sns.boxplot(x=column, y='score', \n",
    "                data=stud.loc[stud.loc[:, column].isin(stud.loc[:, column].value_counts().index[:20])],\n",
    "                ax=ax)\n",
    "    plt.xticks(rotation=45)\n",
    "    ax.set_title('Boxplot for ' + column)\n",
    "    plt.show()\n",
    "\n",
    "       \n",
    "for col in ['school', 'sex', 'age', 'address', 'famsize', 'pstatus', 'medu', 'fedu',\n",
    "            'mjob', 'fjob', 'reason', 'guardian', 'traveltime', 'studytime',\n",
    "            'failures', 'schoolsup', 'famsup', 'paid', 'activities', 'nursery',\n",
    "            'granular', 'higher', 'internet', 'romantic', 'famrel', 'freetime',\n",
    "            'goout', 'health'  \n",
    "           ]:\n",
    "    get_boxplot(col)"
   ]
  },
  {
   "cell_type": "code",
   "execution_count": 126,
   "id": "6ea30296",
   "metadata": {},
   "outputs": [
    {
     "name": "stdout",
     "output_type": "stream",
     "text": [
      "Найдены статистически значимые различия для колонки sex\n",
      "Найдены статистически значимые различия для колонки age\n",
      "Найдены статистически значимые различия для колонки address\n",
      "Найдены статистически значимые различия для колонки medu\n",
      "Найдены статистически значимые различия для колонки fedu\n",
      "Найдены статистически значимые различия для колонки mjob\n",
      "Найдены статистически значимые различия для колонки failures\n",
      "Найдены статистически значимые различия для колонки schoolsup\n",
      "Найдены статистически значимые различия для колонки higher\n",
      "Найдены статистически значимые различия для колонки romantic\n",
      "Найдены статистически значимые различия для колонки goout\n",
      "Найдены статистически значимые различия для колонки absences\n"
     ]
    }
   ],
   "source": [
    "def get_stat_dif(column):\n",
    "    cols = stud.loc[:, column].value_counts().index[:10]\n",
    "    combinations_all = list(combinations(cols, 2))\n",
    "    for comb in combinations_all:\n",
    "        if ttest_ind(stud.loc[stud.loc[:, column] == comb[0], 'score'], \n",
    "                        stud.loc[stud.loc[:, column] == comb[1], 'score']).pvalue \\\n",
    "            <= 0.05/len(combinations_all): # Учли поправку Бонферони\n",
    "            print('Найдены статистически значимые различия для колонки', column)\n",
    "            break\n",
    "for col in ['school', 'sex', 'age', 'address', 'famsize', 'pstatus', 'medu', 'fedu',\n",
    "            'mjob', 'fjob', 'reason', 'guardian', 'traveltime', 'studytime',\n",
    "            'failures', 'schoolsup', 'famsup', 'paid', 'activities', 'nursery',\n",
    "            'granular', 'higher', 'internet', 'romantic', 'famrel', 'freetime',\n",
    "            'goout', 'health', 'absences'\n",
    "           ]:\n",
    "    get_stat_dif(col)"
   ]
  },
  {
   "cell_type": "code",
   "execution_count": 127,
   "id": "766db315",
   "metadata": {},
   "outputs": [
    {
     "data": {
      "text/html": [
       "<div>\n",
       "<style scoped>\n",
       "    .dataframe tbody tr th:only-of-type {\n",
       "        vertical-align: middle;\n",
       "    }\n",
       "\n",
       "    .dataframe tbody tr th {\n",
       "        vertical-align: top;\n",
       "    }\n",
       "\n",
       "    .dataframe thead th {\n",
       "        text-align: right;\n",
       "    }\n",
       "</style>\n",
       "<table border=\"1\" class=\"dataframe\">\n",
       "  <thead>\n",
       "    <tr style=\"text-align: right;\">\n",
       "      <th></th>\n",
       "      <th>sex</th>\n",
       "      <th>address</th>\n",
       "      <th>medu</th>\n",
       "      <th>fedu</th>\n",
       "      <th>studytime</th>\n",
       "      <th>failures</th>\n",
       "      <th>schoolsup</th>\n",
       "      <th>higher</th>\n",
       "      <th>romantic</th>\n",
       "      <th>goout</th>\n",
       "      <th>absences</th>\n",
       "      <th>score</th>\n",
       "    </tr>\n",
       "  </thead>\n",
       "  <tbody>\n",
       "    <tr>\n",
       "      <th>0</th>\n",
       "      <td>F</td>\n",
       "      <td>U</td>\n",
       "      <td>4.0</td>\n",
       "      <td>4.0</td>\n",
       "      <td>2.0</td>\n",
       "      <td>0.0</td>\n",
       "      <td>yes</td>\n",
       "      <td>yes</td>\n",
       "      <td>no</td>\n",
       "      <td>4.0</td>\n",
       "      <td>6.0</td>\n",
       "      <td>30.0</td>\n",
       "    </tr>\n",
       "    <tr>\n",
       "      <th>1</th>\n",
       "      <td>F</td>\n",
       "      <td>U</td>\n",
       "      <td>1.0</td>\n",
       "      <td>1.0</td>\n",
       "      <td>2.0</td>\n",
       "      <td>0.0</td>\n",
       "      <td>no</td>\n",
       "      <td>yes</td>\n",
       "      <td>no</td>\n",
       "      <td>3.0</td>\n",
       "      <td>4.0</td>\n",
       "      <td>30.0</td>\n",
       "    </tr>\n",
       "    <tr>\n",
       "      <th>2</th>\n",
       "      <td>F</td>\n",
       "      <td>U</td>\n",
       "      <td>1.0</td>\n",
       "      <td>1.0</td>\n",
       "      <td>2.0</td>\n",
       "      <td>3.0</td>\n",
       "      <td>yes</td>\n",
       "      <td>yes</td>\n",
       "      <td>yes</td>\n",
       "      <td>2.0</td>\n",
       "      <td>10.0</td>\n",
       "      <td>50.0</td>\n",
       "    </tr>\n",
       "    <tr>\n",
       "      <th>3</th>\n",
       "      <td>F</td>\n",
       "      <td>U</td>\n",
       "      <td>4.0</td>\n",
       "      <td>2.0</td>\n",
       "      <td>3.0</td>\n",
       "      <td>0.0</td>\n",
       "      <td>no</td>\n",
       "      <td>yes</td>\n",
       "      <td>yes</td>\n",
       "      <td>2.0</td>\n",
       "      <td>2.0</td>\n",
       "      <td>75.0</td>\n",
       "    </tr>\n",
       "    <tr>\n",
       "      <th>4</th>\n",
       "      <td>F</td>\n",
       "      <td>U</td>\n",
       "      <td>3.0</td>\n",
       "      <td>3.0</td>\n",
       "      <td>2.0</td>\n",
       "      <td>0.0</td>\n",
       "      <td>no</td>\n",
       "      <td>yes</td>\n",
       "      <td>no</td>\n",
       "      <td>2.0</td>\n",
       "      <td>4.0</td>\n",
       "      <td>50.0</td>\n",
       "    </tr>\n",
       "    <tr>\n",
       "      <th>5</th>\n",
       "      <td>M</td>\n",
       "      <td>U</td>\n",
       "      <td>4.0</td>\n",
       "      <td>3.0</td>\n",
       "      <td>2.0</td>\n",
       "      <td>0.0</td>\n",
       "      <td>no</td>\n",
       "      <td>yes</td>\n",
       "      <td>no</td>\n",
       "      <td>2.0</td>\n",
       "      <td>10.0</td>\n",
       "      <td>75.0</td>\n",
       "    </tr>\n",
       "    <tr>\n",
       "      <th>6</th>\n",
       "      <td>M</td>\n",
       "      <td>NaN</td>\n",
       "      <td>2.0</td>\n",
       "      <td>2.0</td>\n",
       "      <td>2.0</td>\n",
       "      <td>0.0</td>\n",
       "      <td>no</td>\n",
       "      <td>yes</td>\n",
       "      <td>no</td>\n",
       "      <td>4.0</td>\n",
       "      <td>0.0</td>\n",
       "      <td>55.0</td>\n",
       "    </tr>\n",
       "    <tr>\n",
       "      <th>7</th>\n",
       "      <td>F</td>\n",
       "      <td>U</td>\n",
       "      <td>4.0</td>\n",
       "      <td>4.0</td>\n",
       "      <td>2.0</td>\n",
       "      <td>0.0</td>\n",
       "      <td>yes</td>\n",
       "      <td>yes</td>\n",
       "      <td>no</td>\n",
       "      <td>4.0</td>\n",
       "      <td>6.0</td>\n",
       "      <td>30.0</td>\n",
       "    </tr>\n",
       "    <tr>\n",
       "      <th>8</th>\n",
       "      <td>M</td>\n",
       "      <td>U</td>\n",
       "      <td>3.0</td>\n",
       "      <td>2.0</td>\n",
       "      <td>2.0</td>\n",
       "      <td>0.0</td>\n",
       "      <td>no</td>\n",
       "      <td>yes</td>\n",
       "      <td>no</td>\n",
       "      <td>2.0</td>\n",
       "      <td>0.0</td>\n",
       "      <td>95.0</td>\n",
       "    </tr>\n",
       "    <tr>\n",
       "      <th>9</th>\n",
       "      <td>M</td>\n",
       "      <td>U</td>\n",
       "      <td>3.0</td>\n",
       "      <td>4.0</td>\n",
       "      <td>2.0</td>\n",
       "      <td>0.0</td>\n",
       "      <td>no</td>\n",
       "      <td>yes</td>\n",
       "      <td>no</td>\n",
       "      <td>1.0</td>\n",
       "      <td>0.0</td>\n",
       "      <td>75.0</td>\n",
       "    </tr>\n",
       "  </tbody>\n",
       "</table>\n",
       "</div>"
      ],
      "text/plain": [
       "  sex address  medu  fedu  studytime  failures schoolsup higher romantic  \\\n",
       "0   F       U   4.0   4.0        2.0       0.0       yes    yes       no   \n",
       "1   F       U   1.0   1.0        2.0       0.0        no    yes       no   \n",
       "2   F       U   1.0   1.0        2.0       3.0       yes    yes      yes   \n",
       "3   F       U   4.0   2.0        3.0       0.0        no    yes      yes   \n",
       "4   F       U   3.0   3.0        2.0       0.0        no    yes       no   \n",
       "5   M       U   4.0   3.0        2.0       0.0        no    yes       no   \n",
       "6   M     NaN   2.0   2.0        2.0       0.0        no    yes       no   \n",
       "7   F       U   4.0   4.0        2.0       0.0       yes    yes       no   \n",
       "8   M       U   3.0   2.0        2.0       0.0        no    yes       no   \n",
       "9   M       U   3.0   4.0        2.0       0.0        no    yes       no   \n",
       "\n",
       "   goout  absences  score  \n",
       "0    4.0       6.0   30.0  \n",
       "1    3.0       4.0   30.0  \n",
       "2    2.0      10.0   50.0  \n",
       "3    2.0       2.0   75.0  \n",
       "4    2.0       4.0   50.0  \n",
       "5    2.0      10.0   75.0  \n",
       "6    4.0       0.0   55.0  \n",
       "7    4.0       6.0   30.0  \n",
       "8    2.0       0.0   95.0  \n",
       "9    1.0       0.0   75.0  "
      ]
     },
     "metadata": {},
     "output_type": "display_data"
    }
   ],
   "source": [
    "stud.drop(['age'], inplace = True, axis = 1) #начинает работать только на целом возрастном диапазоне, но стоит удалить\n",
    "#всего 5 \"второгодников\" (20+), как значимость пропадает.\n",
    "stud.drop(['pstatus'], inplace = True, axis = 1) #как и предполагалось\n",
    "stud.drop(['famsize'], inplace = True, axis = 1) #как и предполагалось\n",
    "stud.drop(['guardian'], inplace = True, axis = 1) #непонятный признак с невыявленной значимостью.\n",
    "stud.drop(['nursery'], inplace = True, axis = 1) #как и предполагалось\n",
    "stud.drop(['granular'], inplace = True, axis = 1) #непонятный признак с абсолютной корреляцией studytime \n",
    "stud.drop(['pedu'], inplace = True, axis = 1) # вспомогательный признак, который не помог\n",
    "stud.drop(['gedu'], inplace = True, axis = 1) # вспомогательный признак, который не помог\n",
    "stud.drop(['famrel'], inplace = True, axis = 1) # влияния не оказывает\n",
    "stud.drop(['mjob'], inplace = True, axis = 1) # решено отбросить для учета вероятности аномальности данной выборки:\n",
    "#самые высокие оценки по математике, если мама - врач?\n",
    "stud.drop(['fjob'], inplace = True, axis = 1) # заметного влияния не оказывает, но возможна аномальность\n",
    "stud.drop(['reason'], inplace = True, axis = 1) # различия между разными причинами есть, но небольшие.\n",
    "stud.drop(['traveltime'], inplace = True, axis = 1) #большинство живет рядом со школой, поэтому влияния не оказывает. \n",
    "stud.drop(['freetime'], inplace = True, axis = 1) # неоднозначный признак с небольшими различиями в зависимости от значения\n",
    "stud.drop(['famsup'], inplace = True, axis = 1) # в нашем случае в отличие от школьных допзанятий малозначим\n",
    "stud.drop(['paid'], inplace = True, axis = 1) # странно, но влияния не обнаружено \n",
    "stud.drop(['activities'], inplace = True, axis = 1)  # неоднозначный признак с небольшими различиями от значения к значению\n",
    "stud.drop(['health'], inplace = True, axis = 1)  # значимость не выявлена\n",
    "stud.drop(['internet'], inplace = True, axis = 1) # различия между вариантами есть, но совсем небольшие.\n",
    "stud.drop(['school'], inplace = True, axis = 1) #видимо эти две школы в данной выборке очень похожи \n",
    "\n",
    "display(stud.head(10))"
   ]
  },
  {
   "cell_type": "markdown",
   "id": "0a75ba64",
   "metadata": {},
   "source": [
    "# выводы\n",
    "основными факторами, влияющими на успешность сдачи экзамена по математике являются: \n",
    "- пол (мальчики успешней)\n",
    "- место проживания (удивительно, но согласно этой выборке городские дети успешней в математике)\n",
    "- уровни образования родителей (совершенно закономерно)\n",
    "- количество времени уделяемого на самостоятельные занятия.\n",
    "- количество пропусков занятий.\n",
    "- время, проводимое с друзьями.\n",
    "- внеучебные неудачи (больше неудач - хуже мотивация - ниже результат экзамена).\n",
    "- дополнительные занятия в школе (видимо тут имеются в виду не факультатив для продвинутого изучения,\n",
    "    а именно занятия для сильно отстающих, и уровень их результативности всё равно ниже, чем у тех, кому\n",
    "    такие занятия не требуются)\n",
    "- планы на поступление в вуз (те, кто хочет получить высшее образование, сильнее замотивированы)\n",
    "- романтические отношения (сильно отвлекают о учебы с закономерным результатом, правда, работает лишь для тех, кто младше\n",
    "    18лет)\n",
    "    \n",
    "в общем, собирательный двоечник (точнее двоечница) - влюбленная деревенская девочка, с малообразованными родителями, которая вместо занятий и уроков гуляет с друзьями и закономерно не собирается учиться дальше."
   ]
  },
  {
   "cell_type": "code",
   "execution_count": null,
   "id": "20a64c92",
   "metadata": {},
   "outputs": [],
   "source": []
  }
 ],
 "metadata": {
  "kernelspec": {
   "display_name": "Python 3",
   "language": "python",
   "name": "python3"
  },
  "language_info": {
   "codemirror_mode": {
    "name": "ipython",
    "version": 3
   },
   "file_extension": ".py",
   "mimetype": "text/x-python",
   "name": "python",
   "nbconvert_exporter": "python",
   "pygments_lexer": "ipython3",
   "version": "3.8.8"
  }
 },
 "nbformat": 4,
 "nbformat_minor": 5
}
