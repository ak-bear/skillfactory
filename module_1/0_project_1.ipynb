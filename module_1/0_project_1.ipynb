{
 "cells": [
  {
   "cell_type": "code",
   "execution_count": 100,
   "metadata": {
    "_cell_guid": "b1076dfc-b9ad-4769-8c92-a6c4dae69d19",
    "_uuid": "8f2839f25d086af736a60e9eeb907d3b93b6e0e5",
    "colab": {},
    "colab_type": "code",
    "id": "U2D2gTdJVp90"
   },
   "outputs": [],
   "source": [
    "import numpy as np\n",
    "import pandas as pd\n",
    "import seaborn as sns\n",
    "import matplotlib.pyplot as plt\n",
    "from collections import Counter\n",
    "from itertools import combinations"
   ]
  },
  {
   "cell_type": "code",
   "execution_count": 101,
   "metadata": {
    "_cell_guid": "79c7e3d0-c299-4dcb-8224-4455121ee9b0",
    "_uuid": "d629ff2d2480ee46fbb7e2d37f6b5fab8052498a",
    "colab": {},
    "colab_type": "code",
    "id": "oyGfxL3eVp9-"
   },
   "outputs": [
    {
     "data": {
      "text/html": [
       "<div>\n",
       "<style scoped>\n",
       "    .dataframe tbody tr th:only-of-type {\n",
       "        vertical-align: middle;\n",
       "    }\n",
       "\n",
       "    .dataframe tbody tr th {\n",
       "        vertical-align: top;\n",
       "    }\n",
       "\n",
       "    .dataframe thead th {\n",
       "        text-align: right;\n",
       "    }\n",
       "</style>\n",
       "<table border=\"1\" class=\"dataframe\">\n",
       "  <thead>\n",
       "    <tr style=\"text-align: right;\">\n",
       "      <th></th>\n",
       "      <th>imdb_id</th>\n",
       "      <th>budget</th>\n",
       "      <th>revenue</th>\n",
       "      <th>original_title</th>\n",
       "      <th>cast</th>\n",
       "      <th>director</th>\n",
       "      <th>tagline</th>\n",
       "      <th>overview</th>\n",
       "      <th>runtime</th>\n",
       "      <th>genres</th>\n",
       "      <th>production_companies</th>\n",
       "      <th>release_date</th>\n",
       "      <th>vote_average</th>\n",
       "      <th>release_year</th>\n",
       "    </tr>\n",
       "  </thead>\n",
       "  <tbody>\n",
       "    <tr>\n",
       "      <th>927</th>\n",
       "      <td>tt0287717</td>\n",
       "      <td>38000000</td>\n",
       "      <td>119723358</td>\n",
       "      <td>Spy Kids 2: Island of Lost Dreams</td>\n",
       "      <td>Antonio Banderas|Carla Gugino|Alexa PenaVega|D...</td>\n",
       "      <td>Robert Rodriguez</td>\n",
       "      <td>Little Spies. Big Attitudes</td>\n",
       "      <td>Exploring the further adventures of Carmen and...</td>\n",
       "      <td>100</td>\n",
       "      <td>Action|Adventure|Comedy|Family</td>\n",
       "      <td>Dimension Films</td>\n",
       "      <td>8/7/2002</td>\n",
       "      <td>5.2</td>\n",
       "      <td>2002</td>\n",
       "    </tr>\n",
       "    <tr>\n",
       "      <th>552</th>\n",
       "      <td>tt0260866</td>\n",
       "      <td>50000000</td>\n",
       "      <td>100020092</td>\n",
       "      <td>Don't Say a Word</td>\n",
       "      <td>Michael Douglas|Sean Bean|Brittany Murphy|Skye...</td>\n",
       "      <td>Gary Fleder</td>\n",
       "      <td>...I'll never tell.</td>\n",
       "      <td>When the daughter of a psychiatrist is kidnapp...</td>\n",
       "      <td>113</td>\n",
       "      <td>Thriller</td>\n",
       "      <td>20th Century Fox|Village Roadshow Pictures|NPV...</td>\n",
       "      <td>9/28/2001</td>\n",
       "      <td>6.1</td>\n",
       "      <td>2001</td>\n",
       "    </tr>\n",
       "    <tr>\n",
       "      <th>1367</th>\n",
       "      <td>tt0355295</td>\n",
       "      <td>88000000</td>\n",
       "      <td>105316267</td>\n",
       "      <td>The Brothers Grimm</td>\n",
       "      <td>Heath Ledger|Matt Damon|Mackenzie Crook|Roger ...</td>\n",
       "      <td>Terry Gilliam</td>\n",
       "      <td>Eliminating Evil Since 1812.</td>\n",
       "      <td>Folklore collectors and con artists, Jake and ...</td>\n",
       "      <td>118</td>\n",
       "      <td>Adventure|Fantasy|Action|Comedy|Thriller</td>\n",
       "      <td>The Weinstein Company|Summit Entertainment|Atl...</td>\n",
       "      <td>8/25/2005</td>\n",
       "      <td>5.4</td>\n",
       "      <td>2005</td>\n",
       "    </tr>\n",
       "    <tr>\n",
       "      <th>1665</th>\n",
       "      <td>tt0358349</td>\n",
       "      <td>26000000</td>\n",
       "      <td>28818995</td>\n",
       "      <td>Agent Cody Banks 2: Destination London</td>\n",
       "      <td>Frankie Muniz|Anthony Anderson|Hannah Spearrit...</td>\n",
       "      <td>Kevin Allen</td>\n",
       "      <td>Adventure is an attitude.</td>\n",
       "      <td>With all-new gadgets, high-flying action, exci...</td>\n",
       "      <td>100</td>\n",
       "      <td>Comedy</td>\n",
       "      <td>Splendid Pictures|Maverick Films|Metro-Goldwyn...</td>\n",
       "      <td>12/3/2004</td>\n",
       "      <td>5.3</td>\n",
       "      <td>2004</td>\n",
       "    </tr>\n",
       "    <tr>\n",
       "      <th>1761</th>\n",
       "      <td>tt0419843</td>\n",
       "      <td>10000000</td>\n",
       "      <td>17500000</td>\n",
       "      <td>In the Land of Women</td>\n",
       "      <td>Meg Ryan|Kristen Stewart|Adam Brody|JoBeth Wil...</td>\n",
       "      <td>Jon Kasdan</td>\n",
       "      <td>Get ready to fall</td>\n",
       "      <td>After a bad breakup with his girlfriend leaves...</td>\n",
       "      <td>97</td>\n",
       "      <td>Romance|Comedy|Drama</td>\n",
       "      <td>Castle Rock Entertainment|Land Films Inc.|Anon...</td>\n",
       "      <td>4/16/2007</td>\n",
       "      <td>6.0</td>\n",
       "      <td>2007</td>\n",
       "    </tr>\n",
       "  </tbody>\n",
       "</table>\n",
       "</div>"
      ],
      "text/plain": [
       "        imdb_id    budget    revenue                          original_title  \\\n",
       "927   tt0287717  38000000  119723358       Spy Kids 2: Island of Lost Dreams   \n",
       "552   tt0260866  50000000  100020092                        Don't Say a Word   \n",
       "1367  tt0355295  88000000  105316267                      The Brothers Grimm   \n",
       "1665  tt0358349  26000000   28818995  Agent Cody Banks 2: Destination London   \n",
       "1761  tt0419843  10000000   17500000                    In the Land of Women   \n",
       "\n",
       "                                                   cast          director  \\\n",
       "927   Antonio Banderas|Carla Gugino|Alexa PenaVega|D...  Robert Rodriguez   \n",
       "552   Michael Douglas|Sean Bean|Brittany Murphy|Skye...       Gary Fleder   \n",
       "1367  Heath Ledger|Matt Damon|Mackenzie Crook|Roger ...     Terry Gilliam   \n",
       "1665  Frankie Muniz|Anthony Anderson|Hannah Spearrit...       Kevin Allen   \n",
       "1761  Meg Ryan|Kristen Stewart|Adam Brody|JoBeth Wil...        Jon Kasdan   \n",
       "\n",
       "                           tagline  \\\n",
       "927    Little Spies. Big Attitudes   \n",
       "552            ...I'll never tell.   \n",
       "1367  Eliminating Evil Since 1812.   \n",
       "1665     Adventure is an attitude.   \n",
       "1761             Get ready to fall   \n",
       "\n",
       "                                               overview  runtime  \\\n",
       "927   Exploring the further adventures of Carmen and...      100   \n",
       "552   When the daughter of a psychiatrist is kidnapp...      113   \n",
       "1367  Folklore collectors and con artists, Jake and ...      118   \n",
       "1665  With all-new gadgets, high-flying action, exci...      100   \n",
       "1761  After a bad breakup with his girlfriend leaves...       97   \n",
       "\n",
       "                                        genres  \\\n",
       "927             Action|Adventure|Comedy|Family   \n",
       "552                                   Thriller   \n",
       "1367  Adventure|Fantasy|Action|Comedy|Thriller   \n",
       "1665                                    Comedy   \n",
       "1761                      Romance|Comedy|Drama   \n",
       "\n",
       "                                   production_companies release_date  \\\n",
       "927                                     Dimension Films     8/7/2002   \n",
       "552   20th Century Fox|Village Roadshow Pictures|NPV...    9/28/2001   \n",
       "1367  The Weinstein Company|Summit Entertainment|Atl...    8/25/2005   \n",
       "1665  Splendid Pictures|Maverick Films|Metro-Goldwyn...    12/3/2004   \n",
       "1761  Castle Rock Entertainment|Land Films Inc.|Anon...    4/16/2007   \n",
       "\n",
       "      vote_average  release_year  \n",
       "927            5.2          2002  \n",
       "552            6.1          2001  \n",
       "1367           5.4          2005  \n",
       "1665           5.3          2004  \n",
       "1761           6.0          2007  "
      ]
     },
     "execution_count": 101,
     "metadata": {},
     "output_type": "execute_result"
    }
   ],
   "source": [
    "data = pd.read_csv(r'd:\\sys\\Users\\akbear\\skillfactory\\files\\millionaire\\movie_bd_v5.csv')\n",
    "data.sample(5)"
   ]
  },
  {
   "cell_type": "code",
   "execution_count": 102,
   "metadata": {
    "colab": {},
    "colab_type": "code",
    "id": "CoYUnagMVp-C"
   },
   "outputs": [
    {
     "data": {
      "text/html": [
       "<div>\n",
       "<style scoped>\n",
       "    .dataframe tbody tr th:only-of-type {\n",
       "        vertical-align: middle;\n",
       "    }\n",
       "\n",
       "    .dataframe tbody tr th {\n",
       "        vertical-align: top;\n",
       "    }\n",
       "\n",
       "    .dataframe thead th {\n",
       "        text-align: right;\n",
       "    }\n",
       "</style>\n",
       "<table border=\"1\" class=\"dataframe\">\n",
       "  <thead>\n",
       "    <tr style=\"text-align: right;\">\n",
       "      <th></th>\n",
       "      <th>budget</th>\n",
       "      <th>revenue</th>\n",
       "      <th>runtime</th>\n",
       "      <th>vote_average</th>\n",
       "      <th>release_year</th>\n",
       "    </tr>\n",
       "  </thead>\n",
       "  <tbody>\n",
       "    <tr>\n",
       "      <th>count</th>\n",
       "      <td>1.889000e+03</td>\n",
       "      <td>1.889000e+03</td>\n",
       "      <td>1889.000000</td>\n",
       "      <td>1889.000000</td>\n",
       "      <td>1889.000000</td>\n",
       "    </tr>\n",
       "    <tr>\n",
       "      <th>mean</th>\n",
       "      <td>5.431083e+07</td>\n",
       "      <td>1.553653e+08</td>\n",
       "      <td>109.658549</td>\n",
       "      <td>6.140762</td>\n",
       "      <td>2007.860773</td>\n",
       "    </tr>\n",
       "    <tr>\n",
       "      <th>std</th>\n",
       "      <td>4.858721e+07</td>\n",
       "      <td>2.146698e+08</td>\n",
       "      <td>18.017041</td>\n",
       "      <td>0.764763</td>\n",
       "      <td>4.468841</td>\n",
       "    </tr>\n",
       "    <tr>\n",
       "      <th>min</th>\n",
       "      <td>5.000000e+06</td>\n",
       "      <td>2.033165e+06</td>\n",
       "      <td>63.000000</td>\n",
       "      <td>3.300000</td>\n",
       "      <td>2000.000000</td>\n",
       "    </tr>\n",
       "    <tr>\n",
       "      <th>25%</th>\n",
       "      <td>2.000000e+07</td>\n",
       "      <td>3.456058e+07</td>\n",
       "      <td>97.000000</td>\n",
       "      <td>5.600000</td>\n",
       "      <td>2004.000000</td>\n",
       "    </tr>\n",
       "    <tr>\n",
       "      <th>50%</th>\n",
       "      <td>3.800000e+07</td>\n",
       "      <td>8.361541e+07</td>\n",
       "      <td>107.000000</td>\n",
       "      <td>6.100000</td>\n",
       "      <td>2008.000000</td>\n",
       "    </tr>\n",
       "    <tr>\n",
       "      <th>75%</th>\n",
       "      <td>7.200000e+07</td>\n",
       "      <td>1.782626e+08</td>\n",
       "      <td>120.000000</td>\n",
       "      <td>6.600000</td>\n",
       "      <td>2012.000000</td>\n",
       "    </tr>\n",
       "    <tr>\n",
       "      <th>max</th>\n",
       "      <td>3.800000e+08</td>\n",
       "      <td>2.781506e+09</td>\n",
       "      <td>214.000000</td>\n",
       "      <td>8.100000</td>\n",
       "      <td>2015.000000</td>\n",
       "    </tr>\n",
       "  </tbody>\n",
       "</table>\n",
       "</div>"
      ],
      "text/plain": [
       "             budget       revenue      runtime  vote_average  release_year\n",
       "count  1.889000e+03  1.889000e+03  1889.000000   1889.000000   1889.000000\n",
       "mean   5.431083e+07  1.553653e+08   109.658549      6.140762   2007.860773\n",
       "std    4.858721e+07  2.146698e+08    18.017041      0.764763      4.468841\n",
       "min    5.000000e+06  2.033165e+06    63.000000      3.300000   2000.000000\n",
       "25%    2.000000e+07  3.456058e+07    97.000000      5.600000   2004.000000\n",
       "50%    3.800000e+07  8.361541e+07   107.000000      6.100000   2008.000000\n",
       "75%    7.200000e+07  1.782626e+08   120.000000      6.600000   2012.000000\n",
       "max    3.800000e+08  2.781506e+09   214.000000      8.100000   2015.000000"
      ]
     },
     "execution_count": 102,
     "metadata": {},
     "output_type": "execute_result"
    }
   ],
   "source": [
    "data.describe()"
   ]
  },
  {
   "cell_type": "markdown",
   "metadata": {
    "colab_type": "text",
    "id": "DTIt7ezGVp-G"
   },
   "source": [
    "# Предобработка"
   ]
  },
  {
   "cell_type": "code",
   "execution_count": 158,
   "metadata": {
    "colab": {},
    "colab_type": "code",
    "id": "jNb40DwKVp-H"
   },
   "outputs": [],
   "source": [
    "answers = {} # создадим словарь для ответов\n",
    "\n",
    "# тут другие ваши предобработки колонок например:\n",
    "\n",
    "#the time given in the dataset is in string format.\n",
    "#So we need to change this in datetime format\n",
    "# ...\n",
    "\n",
    "data = pd.read_csv(r'd:\\sys\\Users\\akbear\\skillfactory\\files\\millionaire\\movie_bd_v5.csv')\n",
    "data2 = data.assign(profit = data.revenue - data.budget)\n",
    "data3 = data2[data2.release_year == 2008]\n",
    "data4 = data2[(data2.release_year > 2011) & (data2.release_year < 2015)]\n",
    "\n",
    "def self_filter(row):\n",
    "    return [element for element in row[1] if element != row[0]]"
   ]
  },
  {
   "cell_type": "markdown",
   "metadata": {
    "colab_type": "text",
    "id": "YxZaH-nPVp-L"
   },
   "source": [
    "# 1. У какого фильма из списка самый большой бюджет?"
   ]
  },
  {
   "cell_type": "markdown",
   "metadata": {
    "colab_type": "text",
    "id": "Nd-G5gX6Vp-M"
   },
   "source": [
    "Использовать варианты ответов в коде решения запрещено.    \n",
    "Вы думаете и в жизни у вас будут варианты ответов?)"
   ]
  },
  {
   "cell_type": "code",
   "execution_count": 0,
   "metadata": {
    "colab": {},
    "colab_type": "code",
    "id": "uVnXAY5RVp-O"
   },
   "outputs": [],
   "source": [
    "# в словарь вставляем номер вопроса и ваш ответ на него\n",
    "# Пример: \n",
    "answers['1'] = '2. Spider-Man 3 (tt0413300)'\n",
    "# запишите свой вариант ответа\n",
    "answers['1'] = '...'\n",
    "# если ответили верно, можете добавить комментарий со значком \"+\""
   ]
  },
  {
   "cell_type": "code",
   "execution_count": 159,
   "metadata": {
    "colab": {},
    "colab_type": "code",
    "id": "dZwb3m28Vp-S"
   },
   "outputs": [
    {
     "data": {
      "text/plain": [
       "'Pirates of the Caribbean: On Stranger Tides'"
      ]
     },
     "execution_count": 159,
     "metadata": {},
     "output_type": "execute_result"
    }
   ],
   "source": [
    "# тут пишем ваш код для решения данного вопроса:\n",
    "answers['1'] = 'Pirates of the Caribbean: On Stranger Tides'\n",
    "\n",
    "data.original_title[data.budget == data.budget.max()].values[0]"
   ]
  },
  {
   "cell_type": "markdown",
   "metadata": {
    "colab_type": "text",
    "id": "K7L3nbRXVp-X"
   },
   "source": [
    "ВАРИАНТ 2"
   ]
  },
  {
   "cell_type": "code",
   "execution_count": 0,
   "metadata": {
    "colab": {},
    "colab_type": "code",
    "id": "OGaoQI7rVp-X"
   },
   "outputs": [],
   "source": [
    "# можно добавлять разные варианты решения"
   ]
  },
  {
   "cell_type": "markdown",
   "metadata": {
    "colab_type": "text",
    "id": "FNRbbI3vVp-c"
   },
   "source": [
    "# 2. Какой из фильмов самый длительный (в минутах)?"
   ]
  },
  {
   "cell_type": "code",
   "execution_count": 0,
   "metadata": {
    "colab": {},
    "colab_type": "code",
    "id": "vHAoEXNTVp-d"
   },
   "outputs": [],
   "source": [
    "# думаю логику работы с этим словарем вы уже поняли, \n",
    "# по этому не буду больше его дублировать\n",
    "answers['2'] = '...'"
   ]
  },
  {
   "cell_type": "code",
   "execution_count": 160,
   "metadata": {
    "colab": {},
    "colab_type": "code",
    "id": "ot-VX2XrVp-g"
   },
   "outputs": [
    {
     "data": {
      "text/plain": [
       "'Gods and Generals'"
      ]
     },
     "execution_count": 160,
     "metadata": {},
     "output_type": "execute_result"
    }
   ],
   "source": [
    "answers['2'] = 'Gods and Generals'\n",
    "\n",
    "data.original_title[data.runtime == data.runtime.max()].values[0]"
   ]
  },
  {
   "cell_type": "markdown",
   "metadata": {
    "colab_type": "text",
    "id": "bapLlpW8Vp-k"
   },
   "source": [
    "# 3. Какой из фильмов самый короткий (в минутах)?\n",
    "\n",
    "\n",
    "\n"
   ]
  },
  {
   "cell_type": "code",
   "execution_count": 161,
   "metadata": {
    "colab": {},
    "colab_type": "code",
    "id": "YBxaSHuAVp-l"
   },
   "outputs": [
    {
     "data": {
      "text/plain": [
       "'Winnie the Pooh'"
      ]
     },
     "execution_count": 161,
     "metadata": {},
     "output_type": "execute_result"
    }
   ],
   "source": [
    "answers['3'] = 'Winnie the Pooh'\n",
    "\n",
    "data.original_title[data.runtime == data.runtime.min()].values[0]"
   ]
  },
  {
   "cell_type": "markdown",
   "metadata": {
    "colab_type": "text",
    "id": "TfQbxbfNVp-p"
   },
   "source": [
    "# 4. Какова средняя длительность фильмов?\n"
   ]
  },
  {
   "cell_type": "code",
   "execution_count": 162,
   "metadata": {
    "colab": {},
    "colab_type": "code",
    "id": "5K6dKZYVVp-q"
   },
   "outputs": [
    {
     "data": {
      "text/plain": [
       "109.6585494970884"
      ]
     },
     "execution_count": 162,
     "metadata": {},
     "output_type": "execute_result"
    }
   ],
   "source": [
    "answers['4'] = '109.66'\n",
    "\n",
    "data.runtime.mean()"
   ]
  },
  {
   "cell_type": "markdown",
   "metadata": {
    "colab_type": "text",
    "id": "r5TvbnT_Vp-u"
   },
   "source": [
    "# 5. Каково медианное значение длительности фильмов? "
   ]
  },
  {
   "cell_type": "code",
   "execution_count": 163,
   "metadata": {
    "colab": {},
    "colab_type": "code",
    "id": "iBROplKnVp-v"
   },
   "outputs": [
    {
     "data": {
      "text/plain": [
       "107.0"
      ]
     },
     "execution_count": 163,
     "metadata": {},
     "output_type": "execute_result"
    }
   ],
   "source": [
    "answers['5'] = '107.0'\n",
    "\n",
    "data.runtime.median()"
   ]
  },
  {
   "cell_type": "markdown",
   "metadata": {
    "colab_type": "text",
    "id": "39P-deDSVp-y"
   },
   "source": [
    "# 6. Какой самый прибыльный фильм?\n",
    "#### Внимание! Здесь и далее под «прибылью» или «убытками» понимается разность между сборами и бюджетом фильма. (прибыль = сборы - бюджет) в нашем датасете это будет (profit = revenue - budget) "
   ]
  },
  {
   "cell_type": "code",
   "execution_count": 164,
   "metadata": {
    "colab": {},
    "colab_type": "code",
    "id": "UYZh4T9WVp-y"
   },
   "outputs": [
    {
     "data": {
      "text/plain": [
       "'Avatar'"
      ]
     },
     "execution_count": 164,
     "metadata": {},
     "output_type": "execute_result"
    }
   ],
   "source": [
    "# лучше код получения столбца profit вынести в Предобработку что в начале\n",
    "\n",
    "answers['6'] = 'Avatar' \n",
    "\n",
    "data2.original_title[data2.profit == data2.profit.max()].values[0]"
   ]
  },
  {
   "cell_type": "markdown",
   "metadata": {
    "colab_type": "text",
    "id": "M99JmIX4Vp-2"
   },
   "source": [
    "# 7. Какой фильм самый убыточный? "
   ]
  },
  {
   "cell_type": "code",
   "execution_count": 165,
   "metadata": {
    "colab": {},
    "colab_type": "code",
    "id": "w-D2m4XPVp-3"
   },
   "outputs": [
    {
     "data": {
      "text/plain": [
       "'The Lone Ranger'"
      ]
     },
     "execution_count": 165,
     "metadata": {},
     "output_type": "execute_result"
    }
   ],
   "source": [
    "answers['7'] = 'The Lone Ranger'\n",
    "\n",
    "data2.original_title[data2.profit == data2.profit.min()].values[0]"
   ]
  },
  {
   "cell_type": "markdown",
   "metadata": {
    "colab_type": "text",
    "id": "wEOM5ERVVp-6"
   },
   "source": [
    "# 8. У скольких фильмов из датасета объем сборов оказался выше бюджета?"
   ]
  },
  {
   "cell_type": "code",
   "execution_count": 166,
   "metadata": {
    "colab": {},
    "colab_type": "code",
    "id": "y00_7HD6Vp-7"
   },
   "outputs": [
    {
     "data": {
      "text/plain": [
       "1478"
      ]
     },
     "execution_count": 166,
     "metadata": {},
     "output_type": "execute_result"
    }
   ],
   "source": [
    "answers['8'] = '1478'\n",
    "\n",
    "data2[(data2.profit > 0)].profit.count()"
   ]
  },
  {
   "cell_type": "markdown",
   "metadata": {
    "colab_type": "text",
    "id": "xhpspA9KVp_A"
   },
   "source": [
    "# 9. Какой фильм оказался самым кассовым в 2008 году?"
   ]
  },
  {
   "cell_type": "code",
   "execution_count": 167,
   "metadata": {
    "colab": {},
    "colab_type": "code",
    "id": "MoUyQr9RVp_B"
   },
   "outputs": [
    {
     "data": {
      "text/plain": [
       "'The Dark Knight'"
      ]
     },
     "execution_count": 167,
     "metadata": {},
     "output_type": "execute_result"
    }
   ],
   "source": [
    "answers['9'] = 'The Dark Knight'\n",
    "\n",
    "data3.original_title[data3.profit == data3.profit.max()].values[0]"
   ]
  },
  {
   "cell_type": "markdown",
   "metadata": {
    "colab_type": "text",
    "id": "Zi4hDKidVp_F"
   },
   "source": [
    "# 10. Самый убыточный фильм за период с 2012 по 2014 г. (включительно)?\n"
   ]
  },
  {
   "cell_type": "code",
   "execution_count": 168,
   "metadata": {
    "colab": {},
    "colab_type": "code",
    "id": "XqyRmufJVp_F"
   },
   "outputs": [
    {
     "data": {
      "text/plain": [
       "'The Lone Ranger'"
      ]
     },
     "execution_count": 168,
     "metadata": {},
     "output_type": "execute_result"
    }
   ],
   "source": [
    "answers['10'] = 'The Lone Ranger'\n",
    "\n",
    "data2.loc[(data2.profit == data2.profit.min()) \n",
    "          & (data2.release_year > 2011) \n",
    "          & (data2.release_year < 2015)\n",
    "         ].original_title.values[0]"
   ]
  },
  {
   "cell_type": "markdown",
   "metadata": {
    "colab_type": "text",
    "id": "EA7Sa9dkVp_I"
   },
   "source": [
    "# 11. Какого жанра фильмов больше всего?"
   ]
  },
  {
   "cell_type": "code",
   "execution_count": 169,
   "metadata": {
    "colab": {},
    "colab_type": "code",
    "id": "zsJAwJ8QVp_J"
   },
   "outputs": [
    {
     "data": {
      "text/plain": [
       "'Drama'"
      ]
     },
     "execution_count": 169,
     "metadata": {},
     "output_type": "execute_result"
    }
   ],
   "source": [
    "answers['11'] = 'Drama'\n",
    "\n",
    "movies_genres = data.copy()\n",
    "movies_genres.genres = movies_genres.genres.str.split('|') # делим жанры на списки\n",
    "movies_genres = movies_genres.explode('genres') # разбиваем списки на строки\n",
    "movies_genres = movies_genres.groupby(['genres']).count() # группируем жанры\n",
    "movies_genres = movies_genres.loc[:, ['imdb_id']] #убираем лишнее\n",
    "movies_genres.sort_values(by = 'imdb_id', ascending=False).index[0]#выводим первый индекс отсортированного списка\n"
   ]
  },
  {
   "cell_type": "markdown",
   "metadata": {
    "colab_type": "text",
    "id": "Ax6g2C8SVp_M"
   },
   "source": [
    "ВАРИАНТ 2"
   ]
  },
  {
   "cell_type": "code",
   "execution_count": 0,
   "metadata": {
    "colab": {},
    "colab_type": "code",
    "id": "otO3SbrSVp_N"
   },
   "outputs": [],
   "source": []
  },
  {
   "cell_type": "markdown",
   "metadata": {
    "colab_type": "text",
    "id": "T9_bPWpkVp_Q"
   },
   "source": [
    "# 12. Фильмы какого жанра чаще всего становятся прибыльными? "
   ]
  },
  {
   "cell_type": "code",
   "execution_count": 170,
   "metadata": {
    "colab": {},
    "colab_type": "code",
    "id": "Tmt8MaK1Vp_R"
   },
   "outputs": [
    {
     "data": {
      "text/plain": [
       "'Drama'"
      ]
     },
     "execution_count": 170,
     "metadata": {},
     "output_type": "execute_result"
    }
   ],
   "source": [
    "answers['12'] = 'Drama'\n",
    "\n",
    "movies_genres = data2.copy().query('profit > 0') #отсеиваем убыточные фильмы\n",
    "movies_genres.genres = movies_genres.genres.str.split('|') # делим жанры на списки\n",
    "movies_genres = movies_genres.explode('genres') # разбиваем списки на строки\n",
    "movies_genres = movies_genres.groupby(['genres']).count().sort_values(by = 'imdb_id') # группируем жанры\n",
    "movies_genres = movies_genres.loc[:, ['imdb_id']] #убираем лишнее\n",
    "movies_genres.sort_values(by = 'imdb_id', ascending=False).index[0] #выводим первый индекс отсортированного списка"
   ]
  },
  {
   "cell_type": "markdown",
   "metadata": {
    "colab_type": "text",
    "id": "0F23bgsDVp_U"
   },
   "source": [
    "\n",
    "# 13. У какого режиссера самые большие суммарные кассовые сборы?"
   ]
  },
  {
   "cell_type": "code",
   "execution_count": 171,
   "metadata": {
    "colab": {},
    "colab_type": "code",
    "id": "K6Z3J8ygVp_X"
   },
   "outputs": [
    {
     "data": {
      "text/plain": [
       "'Peter Jackson'"
      ]
     },
     "execution_count": 171,
     "metadata": {},
     "output_type": "execute_result"
    }
   ],
   "source": [
    "answers['13'] = 'Peter Jackson'\n",
    "\n",
    "movies_directors = data.copy()\n",
    "movies_directors.director = movies_directors.director.str.split('|') # разделяем режиссёров на списки\n",
    "movies_directors = movies_directors.explode('director') # разделяем списки\n",
    "movies_directors = movies_directors.groupby(['director'])['revenue'].sum() # группируем режиссеров и сумму их сборов\n",
    "movies_directors.sort_values(ascending=False).index[0] #выводим первый индекс отсортированного списка"
   ]
  },
  {
   "cell_type": "markdown",
   "metadata": {
    "colab_type": "text",
    "id": "PsYC9FgRVp_a"
   },
   "source": [
    "# 14. Какой режисер снял больше всего фильмов в стиле Action?"
   ]
  },
  {
   "cell_type": "code",
   "execution_count": 172,
   "metadata": {
    "colab": {},
    "colab_type": "code",
    "id": "wd2M-wHeVp_b"
   },
   "outputs": [
    {
     "data": {
      "text/plain": [
       "'Robert Rodriguez'"
      ]
     },
     "execution_count": 172,
     "metadata": {},
     "output_type": "execute_result"
    }
   ],
   "source": [
    "answers['14'] = 'Robert Rodriguez'\n",
    "\n",
    "movies_directors = data.copy()[data.genres.str.contains(\"Action\")] # удаляем фильмы не-Action\n",
    "movies_directors.director = movies_directors.director.str.split('|') # разделяем режиссёров на списки\n",
    "movies_directors.genres = movies_directors.genres.str.split('|') # разделяем жанры на списки\n",
    "movies_directors = movies_directors.explode('director') # разделяем списки\n",
    "movies_directors = movies_directors.groupby(['director'])['genres'].sum() #группируем по режиссерам, суммируя жанры\n",
    "\n",
    "directors_action = pd.DataFrame(movies_directors)\n",
    "directors_action = directors_action.assign(actions = directors_action.genres.apply(lambda x: x.count('Action')))\n",
    "#добавляем колонку с количеством упоминаний жанра Action\n",
    "directors_action.sort_values(by = \"actions\", ascending=False).index[0] #выводим первый индекс отсортированного списка"
   ]
  },
  {
   "cell_type": "markdown",
   "metadata": {
    "colab_type": "text",
    "id": "PQ0KciD7Vp_f"
   },
   "source": [
    "# 15. Фильмы с каким актером принесли самые высокие кассовые сборы в 2012 году? "
   ]
  },
  {
   "cell_type": "code",
   "execution_count": 173,
   "metadata": {
    "colab": {},
    "colab_type": "code",
    "id": "aga62oeKVp_g"
   },
   "outputs": [
    {
     "data": {
      "text/plain": [
       "'Chris Hemsworth'"
      ]
     },
     "execution_count": 173,
     "metadata": {},
     "output_type": "execute_result"
    }
   ],
   "source": [
    "answers['15'] = 'Chris Hemsworth'\n",
    "\n",
    "movies_cast = data.copy()\n",
    "movies_cast = movies_cast[movies_cast.release_year == 2012]\n",
    "movies_cast.cast = movies_cast.cast.str.split('|') # разделяем актеров на списки\n",
    "movies_cast = movies_cast.explode('cast') # разделяем списки\n",
    "movies_cast = movies_cast.groupby(['cast'])['revenue'].sum() # группируем актеров и сумму их сборов\n",
    "movies_cast.sort_values(ascending=False).index[0] #выводим первый индекс отсортированного списка"
   ]
  },
  {
   "cell_type": "markdown",
   "metadata": {
    "colab_type": "text",
    "id": "mWHyyL7QVp_j"
   },
   "source": [
    "# 16. Какой актер снялся в большем количестве высокобюджетных фильмов?"
   ]
  },
  {
   "cell_type": "code",
   "execution_count": 174,
   "metadata": {
    "colab": {},
    "colab_type": "code",
    "id": "qQtmHKTFVp_k"
   },
   "outputs": [
    {
     "data": {
      "text/plain": [
       "'Matt Damon'"
      ]
     },
     "execution_count": 174,
     "metadata": {},
     "output_type": "execute_result"
    }
   ],
   "source": [
    "answers['16'] = 'Matt Damon'\n",
    "\n",
    "movies_cast = data.copy()[data.budget > data.budget.mean()] # выкидываем \"низкобюджетные\" фильмы\n",
    "movies_cast.cast = movies_cast.cast.str.split('|') # разделяем актеров на списки\n",
    "movies_cast = movies_cast.explode('cast') # разделяем списки\n",
    "movies_cast = movies_cast.groupby(['cast'])['imdb_id'].unique() #группируем по актерам\n",
    "actors = pd.DataFrame(movies_cast)\n",
    "actors = actors.assign(films = actors.imdb_id.apply(lambda x: len(x))) #добавляем колонку с суммой упоминаний актера\n",
    "actors.sort_values(by = 'films', ascending=False).index[0] #выводим первый индекс отсортированного списка"
   ]
  },
  {
   "cell_type": "markdown",
   "metadata": {
    "colab_type": "text",
    "id": "NIh6AaW5Vp_n"
   },
   "source": [
    "# 17. В фильмах какого жанра больше всего снимался Nicolas Cage? "
   ]
  },
  {
   "cell_type": "code",
   "execution_count": 175,
   "metadata": {
    "colab": {},
    "colab_type": "code",
    "id": "H74SJDIBVp_n"
   },
   "outputs": [
    {
     "data": {
      "text/plain": [
       "'Action'"
      ]
     },
     "execution_count": 175,
     "metadata": {},
     "output_type": "execute_result"
    }
   ],
   "source": [
    "answers['17'] = 'Action'\n",
    "\n",
    "movies_cage = data.copy()[data.cast.str.contains('Nicolas Cage')] # выкидываем фильмы без Николая\n",
    "movies_cage.genres = movies_cage.genres.str.split('|') # разделяем жанры на списки\n",
    "movies_cage = movies_cage.explode('genres') # разделяем списки\n",
    "movies_cage = movies_cage.groupby(['genres'])['imdb_id'].unique() #группируем по жанрам\n",
    "cage = pd.DataFrame(movies_cage)\n",
    "cage = cage.assign(count = cage.imdb_id.apply(lambda x: len(x))) #добавляем колонку с суммой упоминаний жанра\n",
    "cage.sort_values(by = 'count', ascending=False).index[0] #выводим первый индекс отсортированного списка"
   ]
  },
  {
   "cell_type": "markdown",
   "metadata": {
    "colab_type": "text",
    "id": "RqOmPRfWVp_q"
   },
   "source": [
    "# 18. Самый убыточный фильм от Paramount Pictures"
   ]
  },
  {
   "cell_type": "code",
   "execution_count": 176,
   "metadata": {
    "colab": {},
    "colab_type": "code",
    "id": "9E_B0Y96Vp_r"
   },
   "outputs": [
    {
     "data": {
      "text/plain": [
       "'K-19: The Widowmaker'"
      ]
     },
     "execution_count": 176,
     "metadata": {},
     "output_type": "execute_result"
    }
   ],
   "source": [
    "answers['18'] = 'K-19: The Widowmaker'\n",
    "\n",
    "movies_paramount = data.copy()[data.production_companies.str.contains('Paramount Pictures')] # оставляем только Paramount\n",
    "movies_paramount = movies_paramount.assign(profit = data.revenue - data.budget) # добавляем столбец с выручкой\n",
    "movies_para_title = movies_paramount.loc[:, ['original_title','profit']] #убираем лишнее\n",
    "movies_para_title.sort_values(by = 'profit').reset_index().original_title[0] #сортируем и выводим название первого в списке"
   ]
  },
  {
   "cell_type": "markdown",
   "metadata": {
    "colab_type": "text",
    "id": "vS8Ur6ddVp_u"
   },
   "source": [
    "# 19. Какой год стал самым успешным по суммарным кассовым сборам?"
   ]
  },
  {
   "cell_type": "code",
   "execution_count": 177,
   "metadata": {
    "colab": {},
    "colab_type": "code",
    "id": "Dnbt4GdIVp_v"
   },
   "outputs": [
    {
     "data": {
      "text/plain": [
       "2015"
      ]
     },
     "execution_count": 177,
     "metadata": {},
     "output_type": "execute_result"
    }
   ],
   "source": [
    "answers['19'] = '2015'\n",
    "\n",
    "movies_year = data.copy()\n",
    "\n",
    "movies_year = movies_year.groupby(['release_year'])['revenue'].sum().sort_values(ascending=False) #группируем по годам\n",
    "movies_year.index[0] #выводим первый индекс отсортированного списка"
   ]
  },
  {
   "cell_type": "markdown",
   "metadata": {
    "colab_type": "text",
    "id": "JAzJh4QAVp_z"
   },
   "source": [
    "# 20. Какой самый прибыльный год для студии Warner Bros?"
   ]
  },
  {
   "cell_type": "code",
   "execution_count": 178,
   "metadata": {
    "colab": {},
    "colab_type": "code",
    "id": "wgVu02DEVp_0"
   },
   "outputs": [
    {
     "data": {
      "text/plain": [
       "2014"
      ]
     },
     "execution_count": 178,
     "metadata": {},
     "output_type": "execute_result"
    }
   ],
   "source": [
    "answers['20'] = '2014'\n",
    "\n",
    "movies_warner = data.copy()[data.production_companies.str.contains('Warner Bros')] # оставляем только братьёв\n",
    "movies_warner = movies_warner.assign(profit = movies_warner.revenue - movies_warner.budget) # добавляем столбец с выручкой\n",
    "\n",
    "movies_warner_year = movies_warner.groupby(['release_year'])['profit'].sum().sort_values(ascending=False) #группируем по годам\n",
    "movies_warner_year.sort_values(ascending=False).index[0] #выводим первый индекс отсортированного списка"
   ]
  },
  {
   "cell_type": "markdown",
   "metadata": {
    "colab_type": "text",
    "id": "8Im1S2HRVp_4"
   },
   "source": [
    "# 21. В каком месяце за все годы суммарно вышло больше всего фильмов?"
   ]
  },
  {
   "cell_type": "code",
   "execution_count": 179,
   "metadata": {
    "colab": {},
    "colab_type": "code",
    "id": "lev6TH7gVp_4"
   },
   "outputs": [
    {
     "data": {
      "text/plain": [
       "'9'"
      ]
     },
     "execution_count": 179,
     "metadata": {},
     "output_type": "execute_result"
    }
   ],
   "source": [
    "answers['21'] = '9'\n",
    "\n",
    "movies_date = data.copy()\n",
    "movies_date.release_date = movies_date.release_date.str.split('/') # разделяем дату на список [м, д, г]\n",
    "movies_date['month'] = movies_date.release_date.apply(lambda x: x[0]) #добавляем колонку с месяцем выхода\n",
    "\n",
    "movies_date.month.value_counts().sort_values(ascending=False).index[0] #суммируем месяцы, сортируем и выводин наиболее частый "
   ]
  },
  {
   "cell_type": "markdown",
   "metadata": {
    "colab_type": "text",
    "id": "uAJsZ_NeVp_7"
   },
   "source": [
    "# 22. Сколько суммарно вышло фильмов летом? (за июнь, июль, август)"
   ]
  },
  {
   "cell_type": "code",
   "execution_count": 180,
   "metadata": {
    "colab": {},
    "colab_type": "code",
    "id": "Aa-hEREoVp_8"
   },
   "outputs": [
    {
     "data": {
      "text/plain": [
       "450"
      ]
     },
     "execution_count": 180,
     "metadata": {},
     "output_type": "execute_result"
    }
   ],
   "source": [
    "answers['22'] = '450'\n",
    "\n",
    "movies_date = data.copy()\n",
    "movies_date.release_date = movies_date.release_date.str.split('/') # разделяем дату на список [м, д, г]\n",
    "movies_date['month'] = movies_date.release_date.apply(lambda x: x[0]) #добавляем колонку с месяцем выхода\n",
    "movies_summer = movies_date[movies_date.month.str.contains('6|7|8')] #оставляем только летние месяцы\n",
    "len(movies_summer.index)"
   ]
  },
  {
   "cell_type": "markdown",
   "metadata": {
    "colab_type": "text",
    "id": "G94ppOY1VqAA"
   },
   "source": [
    "# 23. Для какого режиссера зима – самое продуктивное время года? "
   ]
  },
  {
   "cell_type": "code",
   "execution_count": 181,
   "metadata": {
    "colab": {},
    "colab_type": "code",
    "id": "RhNTsamuVqAB"
   },
   "outputs": [
    {
     "data": {
      "text/plain": [
       "'Peter Jackson'"
      ]
     },
     "execution_count": 181,
     "metadata": {},
     "output_type": "execute_result"
    }
   ],
   "source": [
    "answers['23'] = 'Peter Jackson'\n",
    "\n",
    "movies_winter = data.copy()\n",
    "movies_winter.release_date = pd.to_datetime(data.release_date) # переводим время из строки в объект\n",
    "movies_winter.director = movies_winter.director.str.split('|') #делим режиссеров на списки\n",
    "movies_winter = movies_winter.explode('director') #разбиваем списки режиссеров на строки\n",
    "movies_winter['release_date'] = movies_winter['release_date'].dt.month.isin([12,1,2]) # отсеиваем все, кроме зимних месяцев\n",
    "movies_winter.groupby('director')['release_date'].sum().sort_values(ascending = False).index[0] \n",
    "#группируем по режиссерам, суммируем фильмы, сортируем по убыванию "
   ]
  },
  {
   "cell_type": "markdown",
   "metadata": {
    "colab_type": "text",
    "id": "RBo0JVjVVqAF"
   },
   "source": [
    "# 24. Какая студия дает самые длинные названия своим фильмам по количеству символов?"
   ]
  },
  {
   "cell_type": "code",
   "execution_count": 182,
   "metadata": {
    "colab": {},
    "colab_type": "code",
    "id": "QRGS8L0iVqAG"
   },
   "outputs": [
    {
     "data": {
      "text/plain": [
       "'Four By Two Productions'"
      ]
     },
     "execution_count": 182,
     "metadata": {},
     "output_type": "execute_result"
    }
   ],
   "source": [
    "answers['24'] = 'Four By Two Productions'\n",
    "\n",
    "movies_title = data.copy()\n",
    "\n",
    "movies_title['title_length'] = movies_title.original_title.str.len() # добавляем столбец с длиной названия\n",
    "movies_title.production_companies = movies_title.production_companies.str.split('|') # разделяем студии на списки\n",
    "movies_title = movies_title.explode('production_companies') # разделяем списки по строкам\n",
    "movies_title_length = movies_title.groupby(['production_companies'])['title_length'].mean().sort_values(ascending=False)\n",
    "#групируем по студиям вычисляя среднюю длину названия и сортируем по убыванию\n",
    "movies_title_length.index[0]"
   ]
  },
  {
   "cell_type": "markdown",
   "metadata": {
    "colab_type": "text",
    "id": "9G0hbvR7VqAK"
   },
   "source": [
    "# 25. Описание фильмов какой студии в среднем самые длинные по количеству слов?"
   ]
  },
  {
   "cell_type": "code",
   "execution_count": 183,
   "metadata": {
    "colab": {},
    "colab_type": "code",
    "id": "Ge2GsLNxVqAK"
   },
   "outputs": [
    {
     "data": {
      "text/plain": [
       "'Midnight Picture Show'"
      ]
     },
     "execution_count": 183,
     "metadata": {},
     "output_type": "execute_result"
    }
   ],
   "source": [
    "answers['25'] = 'Midnight Picture Show'\n",
    "\n",
    "movies_desc = data.copy()\n",
    "\n",
    "movies_desc['over_length'] = movies_desc.overview.str.count('\\w+') #добавляем столбец, с количеством слов в описании \n",
    "movies_desc.production_companies = movies_desc.production_companies.str.split('|') # разделяем студии на списки\n",
    "movies_desc = movies_desc.explode('production_companies') # разделяем списки по строкам\n",
    "movies_desc_length = movies_desc.groupby(['production_companies'])['over_length'].mean().sort_values(ascending=False)\n",
    "#групируем по студиям вычисляя среднюю длину описания и сортируем по убыванию\n",
    "movies_desc_length.index[0]"
   ]
  },
  {
   "cell_type": "markdown",
   "metadata": {
    "colab_type": "text",
    "id": "FJ1AFt90VqAP"
   },
   "source": [
    "# 26. Какие фильмы входят в 1 процент лучших по рейтингу? \n",
    "по vote_average"
   ]
  },
  {
   "cell_type": "code",
   "execution_count": 184,
   "metadata": {
    "colab": {},
    "colab_type": "code",
    "id": "8qmJVq4CVqAQ"
   },
   "outputs": [
    {
     "data": {
      "text/plain": [
       "0                                   The Dark Knight\n",
       "1                                      Interstellar\n",
       "2                                The Imitation Game\n",
       "3                                        Inside Out\n",
       "4                                              Room\n",
       "5                           The Wolf of Wall Street\n",
       "6                                         Gone Girl\n",
       "7                                  12 Years a Slave\n",
       "8                           Guardians of the Galaxy\n",
       "9     The Lord of the Rings: The Return of the King\n",
       "10                                          Memento\n",
       "11                                        Inception\n",
       "12                                      The Pianist\n",
       "13                         The Grand Budapest Hotel\n",
       "14                                              Her\n",
       "15                                        Spotlight\n",
       "16                                       Big Hero 6\n",
       "17                           The Fault in Our Stars\n",
       "18            The Lord of the Rings: The Two Towers\n",
       "Name: original_title, dtype: object"
      ]
     },
     "execution_count": 184,
     "metadata": {},
     "output_type": "execute_result"
    }
   ],
   "source": [
    "answers['26'] = 'Inside Out, The Dark Knight, 12 Years a Slave'\n",
    "\n",
    "rating = data.copy()\n",
    "\n",
    "rating = rating.sort_values(by=['vote_average'], ascending=False).reset_index() #сортируем по рейтингу\n",
    "\n",
    "rating.original_title.head(19) #т.к. в таблице 1889 фильмов, запрашиваем первые 19 названий, которые составляют top-1% "
   ]
  },
  {
   "cell_type": "markdown",
   "metadata": {
    "colab_type": "text",
    "id": "MdXsUXbCVqAV"
   },
   "source": [
    "# 27. Какие актеры чаще всего снимаются в одном фильме вместе?\n"
   ]
  },
  {
   "cell_type": "code",
   "execution_count": 185,
   "metadata": {},
   "outputs": [
    {
     "data": {
      "text/html": [
       "<div>\n",
       "<style scoped>\n",
       "    .dataframe tbody tr th:only-of-type {\n",
       "        vertical-align: middle;\n",
       "    }\n",
       "\n",
       "    .dataframe tbody tr th {\n",
       "        vertical-align: top;\n",
       "    }\n",
       "\n",
       "    .dataframe thead th {\n",
       "        text-align: right;\n",
       "    }\n",
       "</style>\n",
       "<table border=\"1\" class=\"dataframe\">\n",
       "  <thead>\n",
       "    <tr style=\"text-align: right;\">\n",
       "      <th></th>\n",
       "      <th>actor</th>\n",
       "      <th>pair</th>\n",
       "      <th>count</th>\n",
       "    </tr>\n",
       "  </thead>\n",
       "  <tbody>\n",
       "    <tr>\n",
       "      <th>0</th>\n",
       "      <td>Daniel Radcliffe</td>\n",
       "      <td>Rupert Grint</td>\n",
       "      <td>8</td>\n",
       "    </tr>\n",
       "  </tbody>\n",
       "</table>\n",
       "</div>"
      ],
      "text/plain": [
       "              actor          pair  count\n",
       "0  Daniel Radcliffe  Rupert Grint      8"
      ]
     },
     "execution_count": 185,
     "metadata": {},
     "output_type": "execute_result"
    }
   ],
   "source": [
    "answers['27'] = 'Daniel Radcliffe & Rupert Grint'\n",
    "\n",
    "movie_pair = data.copy()\n",
    "\n",
    "movie_pair.cast = movie_pair.cast.str.split('|') # разделяем cast на списки\n",
    "movie_pair = movie_pair.assign(actor = movie_pair.cast) # дублируем колонку cast\n",
    "movie_pair = movie_pair.explode('actor') # разделяем списки актеров\n",
    "movie_pair = movie_pair.groupby(['actor'])['cast'].sum() #группируем по актерам складывая cast\n",
    "\n",
    "movie_pair = movie_pair.reset_index()\n",
    "movie_pair['cast'] = movie_pair.apply(self_filter,axis=1) #очищаем колонку cast от индексируемого актера\n",
    "\n",
    "pairs = pd.DataFrame(movie_pair)\n",
    "\n",
    "pairs = pairs.assign(pair_count = pairs.cast.apply(lambda x: (dict(Counter(x).most_common(1))).items())) #считаем количество повторений в словарь и выводим самого часто упоминаемого актера\n",
    "pairs = pairs.explode('pair_count') #рвем словарь\n",
    "pairs['pair'], pairs['count'] = zip(*pairs.pair_count) #разбиваем колонку на две\n",
    "pairs = pairs.sort_values(by=['count'], ascending=False).reset_index(drop=True) #сортируем по количеству упоминаний\n",
    "pairs = pairs[['actor','pair','count']]\n",
    "\n",
    "pairs.head(1)"
   ]
  },
  {
   "cell_type": "markdown",
   "metadata": {
    "colab_type": "text",
    "id": "4ymnxEVoVqAW"
   },
   "source": [
    "ВАРИАНТ 2"
   ]
  },
  {
   "cell_type": "code",
   "execution_count": 186,
   "metadata": {},
   "outputs": [
    {
     "data": {
      "text/plain": [
       "[(('Daniel Radcliffe', 'Rupert Grint'), 8)]"
      ]
     },
     "execution_count": 186,
     "metadata": {},
     "output_type": "execute_result"
    }
   ],
   "source": [
    "pairs = Counter() # заводим счетчик\n",
    "\n",
    "for i in range(0,len(data)): \n",
    "    artists = data.cast[i].split('|') # проходимся по строкам датафрейма и разбиваем актерский состав на списки\n",
    "    for j in list(combinations(artists, 2)): # проходимся по каждому списку и создаем парные комбинации\n",
    "        if j not in pairs:\n",
    "            pairs[j] = 1 # если пара еще не упоминалась, отмечаем первое упоминание\n",
    "        else:\n",
    "            pairs[j] += 1 # если пара уже встречалась - увеличиваем количество упоминаний на 1\n",
    "\n",
    "pairs.most_common(1) # выводим пару с максимальным количеством упоминаний"
   ]
  },
  {
   "cell_type": "markdown",
   "metadata": {
    "colab_type": "text",
    "id": "U0nONFnGVqAX"
   },
   "source": [
    "# Submission"
   ]
  },
  {
   "cell_type": "code",
   "execution_count": 187,
   "metadata": {
    "colab": {},
    "colab_type": "code",
    "id": "IfcaRO9-VqAX",
    "outputId": "0f132912-32bb-4196-c98c-abfbc4ad5a5f"
   },
   "outputs": [
    {
     "data": {
      "text/plain": [
       "{'1': 'Pirates of the Caribbean: On Stranger Tides',\n",
       " '2': 'Gods and Generals',\n",
       " '3': 'Winnie the Pooh',\n",
       " '4': '109.66',\n",
       " '5': '107.0',\n",
       " '6': 'Avatar',\n",
       " '7': 'The Lone Ranger',\n",
       " '8': '1478',\n",
       " '9': 'The Dark Knight',\n",
       " '10': 'The Lone Ranger',\n",
       " '11': 'Drama',\n",
       " '12': 'Drama',\n",
       " '13': 'Peter Jackson',\n",
       " '14': 'Robert Rodriguez',\n",
       " '15': 'Chris Hemsworth',\n",
       " '16': 'Matt Damon',\n",
       " '17': 'Action',\n",
       " '18': 'K-19: The Widowmaker',\n",
       " '19': '2015',\n",
       " '20': '2014',\n",
       " '21': '9',\n",
       " '22': '450',\n",
       " '23': 'Peter Jackson',\n",
       " '24': 'Four By Two Productions',\n",
       " '25': 'Midnight Picture Show',\n",
       " '26': 'Inside Out, The Dark Knight, 12 Years a Slave',\n",
       " '27': 'Daniel Radcliffe & Rupert Grint'}"
      ]
     },
     "execution_count": 187,
     "metadata": {},
     "output_type": "execute_result"
    }
   ],
   "source": [
    "# в конце можно посмотреть свои ответы к каждому вопросу\n",
    "answers"
   ]
  },
  {
   "cell_type": "code",
   "execution_count": 90,
   "metadata": {
    "colab": {},
    "colab_type": "code",
    "id": "SiRmHPl8VqAd"
   },
   "outputs": [
    {
     "data": {
      "text/plain": [
       "27"
      ]
     },
     "execution_count": 90,
     "metadata": {},
     "output_type": "execute_result"
    }
   ],
   "source": [
    "# и убедиться что ничего не пропустил)\n",
    "len(answers)"
   ]
  },
  {
   "cell_type": "code",
   "execution_count": 0,
   "metadata": {
    "colab": {},
    "colab_type": "code",
    "id": "uCfuTkRbVqAg"
   },
   "outputs": [],
   "source": []
  },
  {
   "cell_type": "code",
   "execution_count": 0,
   "metadata": {
    "colab": {},
    "colab_type": "code",
    "id": "Vwx3NrkSVqAl"
   },
   "outputs": [],
   "source": []
  }
 ],
 "metadata": {
  "colab": {
   "name": "Copy of [SF-DST] Movies IMBD v4.1 TEMPLATE.ipynb",
   "provenance": []
  },
  "kernelspec": {
   "display_name": "Python 3",
   "language": "python",
   "name": "python3"
  },
  "language_info": {
   "codemirror_mode": {
    "name": "ipython",
    "version": 3
   },
   "file_extension": ".py",
   "mimetype": "text/x-python",
   "name": "python",
   "nbconvert_exporter": "python",
   "pygments_lexer": "ipython3",
   "version": "3.8.8"
  }
 },
 "nbformat": 4,
 "nbformat_minor": 1
}
