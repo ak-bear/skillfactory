{
 "cells": [
  {
   "cell_type": "markdown",
   "id": "bed1c8af",
   "metadata": {},
   "source": [
    "# Проект\n",
    "\n",
    "В данном проекте мы пытаемся понять, стоит ли давать человеку кредит. Для этого мы будем предсказывать вероятность того, что он не вернёт деньги.\n",
    "\n",
    "## Список признаков\n",
    "\n",
    "- client_id - идентификатор клиента\n",
    "- education - уровень образования\n",
    "- sex - пол заемщика\n",
    "- age - возраст заемщика\n",
    "- car - флаг наличия автомобиля\n",
    "- car_type - флаг автомобиля иномарки\n",
    "- decline_app_cnt - количество отклонённых в прошлом заявок\n",
    "- good_work - флаг наличия “хорошей” работы\n",
    "- bki_request_cnt - количество запросов в БКИ\n",
    "- home_address - категоризатор домашнего адреса\n",
    "- work_address - категоризатор рабочего адреса\n",
    "- income - доход заемщика\n",
    "- foreign_passport - наличие загранпаспорта\n",
    "- sna - связь заемщика с клиентами банка\n",
    "- first_time - давность наличия информации о заемщике\n",
    "- score_bki - скоринговый балл по данным из БКИ\n",
    "- region_rating - рейтинг региона\n",
    "- app_date - дата подачи заявки\n",
    "- default - флаг дефолта по кредиту (наша целевая переменная)"
   ]
  },
  {
   "cell_type": "code",
   "execution_count": 1,
   "id": "8077bff2",
   "metadata": {
    "scrolled": true
   },
   "outputs": [
    {
     "name": "stdout",
     "output_type": "stream",
     "text": [
      "<class 'pandas.core.frame.DataFrame'>\n",
      "RangeIndex: 73799 entries, 0 to 73798\n",
      "Data columns (total 19 columns):\n",
      " #   Column            Non-Null Count  Dtype  \n",
      "---  ------            --------------  -----  \n",
      " 0   client_id         73799 non-null  int64  \n",
      " 1   app_date          73799 non-null  object \n",
      " 2   education         73492 non-null  object \n",
      " 3   sex               73799 non-null  object \n",
      " 4   age               73799 non-null  int64  \n",
      " 5   car               73799 non-null  object \n",
      " 6   car_type          73799 non-null  object \n",
      " 7   decline_app_cnt   73799 non-null  int64  \n",
      " 8   good_work         73799 non-null  int64  \n",
      " 9   score_bki         73799 non-null  float64\n",
      " 10  bki_request_cnt   73799 non-null  int64  \n",
      " 11  region_rating     73799 non-null  int64  \n",
      " 12  home_address      73799 non-null  int64  \n",
      " 13  work_address      73799 non-null  int64  \n",
      " 14  income            73799 non-null  int64  \n",
      " 15  sna               73799 non-null  int64  \n",
      " 16  first_time        73799 non-null  int64  \n",
      " 17  foreign_passport  73799 non-null  object \n",
      " 18  default           73799 non-null  int64  \n",
      "dtypes: float64(1), int64(12), object(6)\n",
      "memory usage: 10.7+ MB\n"
     ]
    }
   ],
   "source": [
    "import datetime\n",
    "\n",
    "start = datetime.datetime.now()\n",
    "\n",
    "#загрузка датасетов и библиотек\n",
    "\n",
    "import pandas as pd\n",
    "import numpy as np\n",
    "from sklearn.model_selection import train_test_split\n",
    "import warnings\n",
    "warnings.filterwarnings(\"ignore\")\n",
    "import matplotlib.pyplot as plt\n",
    "import seaborn as sns\n",
    "from sklearn import metrics\n",
    "\n",
    "!pip freeze > requirements.txt\n",
    "\n",
    "RANDOM_SEED = 42\n",
    "\n",
    "train = pd.read_csv(r'c:\\Users\\akbear\\skillfactory\\Project05\\files\\train.csv', low_memory=False)\n",
    "test = pd.read_csv(r'c:\\Users\\akbear\\skillfactory\\Project05\\files\\test.csv', low_memory=False)\n",
    "sample_submission = pd.read_csv(r'c:\\Users\\akbear\\skillfactory\\Project05\\files\\sample_submission.csv')\n",
    "\n",
    "train.info()"
   ]
  },
  {
   "cell_type": "code",
   "execution_count": 2,
   "id": "f7c424d1",
   "metadata": {},
   "outputs": [
    {
     "name": "stdout",
     "output_type": "stream",
     "text": [
      "<class 'pandas.core.frame.DataFrame'>\n",
      "RangeIndex: 36349 entries, 0 to 36348\n",
      "Data columns (total 18 columns):\n",
      " #   Column            Non-Null Count  Dtype  \n",
      "---  ------            --------------  -----  \n",
      " 0   client_id         36349 non-null  int64  \n",
      " 1   app_date          36349 non-null  object \n",
      " 2   education         36178 non-null  object \n",
      " 3   sex               36349 non-null  object \n",
      " 4   age               36349 non-null  int64  \n",
      " 5   car               36349 non-null  object \n",
      " 6   car_type          36349 non-null  object \n",
      " 7   decline_app_cnt   36349 non-null  int64  \n",
      " 8   good_work         36349 non-null  int64  \n",
      " 9   score_bki         36349 non-null  float64\n",
      " 10  bki_request_cnt   36349 non-null  int64  \n",
      " 11  region_rating     36349 non-null  int64  \n",
      " 12  home_address      36349 non-null  int64  \n",
      " 13  work_address      36349 non-null  int64  \n",
      " 14  income            36349 non-null  int64  \n",
      " 15  sna               36349 non-null  int64  \n",
      " 16  first_time        36349 non-null  int64  \n",
      " 17  foreign_passport  36349 non-null  object \n",
      "dtypes: float64(1), int64(11), object(6)\n",
      "memory usage: 5.0+ MB\n"
     ]
    }
   ],
   "source": [
    "test.info()\n",
    "\n",
    "# видим, что на целевая переменая известна только для трейна, а на тесте её надо будет предсказать\n",
    "\n",
    "# пропуски же имеются только в education"
   ]
  },
  {
   "cell_type": "code",
   "execution_count": 3,
   "id": "ce8697de",
   "metadata": {},
   "outputs": [
    {
     "data": {
      "image/png": "[encoded data removed]",
      "text/plain": [
       "<Figure size 288x360 with 1 Axes>"
      ]
     },
     "metadata": {
      "needs_background": "light"
     },
     "output_type": "display_data"
    }
   ],
   "source": [
    "plt.figure(figsize=(4, 5))\n",
    "ax = sns.countplot(x=train[\"default\"])\n",
    "ax.set(ylabel=\"\");\n",
    "\n",
    "#выборка скорее несбалансированная."
   ]
  },
  {
   "cell_type": "code",
   "execution_count": 4,
   "id": "2dc98eb6",
   "metadata": {},
   "outputs": [
    {
     "data": {
      "text/plain": [
       "Index(['client_id', 'app_date', 'education', 'sex', 'age', 'car', 'car_type',\n",
       "       'decline_app_cnt', 'good_work', 'score_bki', 'bki_request_cnt',\n",
       "       'region_rating', 'home_address', 'work_address', 'income', 'sna',\n",
       "       'first_time', 'foreign_passport', 'default'],\n",
       "      dtype='object')"
      ]
     },
     "execution_count": 4,
     "metadata": {},
     "output_type": "execute_result"
    }
   ],
   "source": [
    "train.columns"
   ]
  },
  {
   "cell_type": "code",
   "execution_count": 5,
   "id": "afd3c2d3",
   "metadata": {},
   "outputs": [],
   "source": [
    "from matplotlib import pyplot as plt\n",
    "import seaborn as sns\n",
    "\n",
    "#бинарные переменные \n",
    "bin_cols = ['sex', 'car', 'car_type', 'good_work', 'foreign_passport']\n",
    "\n",
    "#категориальные переменные\n",
    "cat_cols = ['education', 'work_address', 'home_address', 'sna', 'first_time',\n",
    "           'region_rating']\n",
    "\n",
    "#числовые переменные\n",
    "num_cols = ['age', 'bki_request_cnt', 'income', 'score_bki', 'decline_app_cnt']"
   ]
  },
  {
   "cell_type": "code",
   "execution_count": 6,
   "id": "eda32a97",
   "metadata": {},
   "outputs": [],
   "source": [
    "'''преобразуем данные из app_date в datetime'''\n",
    "test['app_date'] =  pd.to_datetime(test['app_date'], format='%d%b%Y')\n",
    "train['app_date'] =  pd.to_datetime(train['app_date'], format='%d%b%Y')"
   ]
  },
  {
   "cell_type": "code",
   "execution_count": 7,
   "id": "705ecd35",
   "metadata": {},
   "outputs": [
    {
     "data": {
      "text/plain": [
       "Timestamp('2014-01-01 00:00:00')"
      ]
     },
     "execution_count": 7,
     "metadata": {},
     "output_type": "execute_result"
    }
   ],
   "source": [
    "train.app_date.min()"
   ]
  },
  {
   "cell_type": "code",
   "execution_count": 8,
   "id": "445ebaa7",
   "metadata": {},
   "outputs": [
    {
     "data": {
      "text/plain": [
       "Timestamp('2014-04-30 00:00:00')"
      ]
     },
     "execution_count": 8,
     "metadata": {},
     "output_type": "execute_result"
    }
   ],
   "source": [
    "train.app_date.max()\n",
    "#период небольшой, всего четыре месяца: с нового года по конец апреля."
   ]
  },
  {
   "cell_type": "code",
   "execution_count": 9,
   "id": "b75a4b56",
   "metadata": {
    "scrolled": true
   },
   "outputs": [
    {
     "data": {
      "text/html": [
       "<div>\n",
       "<style scoped>\n",
       "    .dataframe tbody tr th:only-of-type {\n",
       "        vertical-align: middle;\n",
       "    }\n",
       "\n",
       "    .dataframe tbody tr th {\n",
       "        vertical-align: top;\n",
       "    }\n",
       "\n",
       "    .dataframe thead th {\n",
       "        text-align: right;\n",
       "    }\n",
       "</style>\n",
       "<table border=\"1\" class=\"dataframe\">\n",
       "  <thead>\n",
       "    <tr style=\"text-align: right;\">\n",
       "      <th></th>\n",
       "      <th>client_id</th>\n",
       "      <th>app_date</th>\n",
       "      <th>education</th>\n",
       "      <th>sex</th>\n",
       "      <th>age</th>\n",
       "      <th>car</th>\n",
       "      <th>car_type</th>\n",
       "      <th>decline_app_cnt</th>\n",
       "      <th>good_work</th>\n",
       "      <th>score_bki</th>\n",
       "      <th>bki_request_cnt</th>\n",
       "      <th>region_rating</th>\n",
       "      <th>home_address</th>\n",
       "      <th>work_address</th>\n",
       "      <th>income</th>\n",
       "      <th>sna</th>\n",
       "      <th>first_time</th>\n",
       "      <th>foreign_passport</th>\n",
       "      <th>default</th>\n",
       "      <th>week</th>\n",
       "    </tr>\n",
       "  </thead>\n",
       "  <tbody>\n",
       "    <tr>\n",
       "      <th>0</th>\n",
       "      <td>25905</td>\n",
       "      <td>2014-02-01</td>\n",
       "      <td>SCH</td>\n",
       "      <td>M</td>\n",
       "      <td>62</td>\n",
       "      <td>Y</td>\n",
       "      <td>Y</td>\n",
       "      <td>0</td>\n",
       "      <td>0</td>\n",
       "      <td>-2.008753</td>\n",
       "      <td>1</td>\n",
       "      <td>50</td>\n",
       "      <td>1</td>\n",
       "      <td>2</td>\n",
       "      <td>18000</td>\n",
       "      <td>4</td>\n",
       "      <td>1</td>\n",
       "      <td>N</td>\n",
       "      <td>0</td>\n",
       "      <td>5</td>\n",
       "    </tr>\n",
       "    <tr>\n",
       "      <th>1</th>\n",
       "      <td>63161</td>\n",
       "      <td>2014-03-12</td>\n",
       "      <td>SCH</td>\n",
       "      <td>F</td>\n",
       "      <td>59</td>\n",
       "      <td>N</td>\n",
       "      <td>N</td>\n",
       "      <td>0</td>\n",
       "      <td>0</td>\n",
       "      <td>-1.532276</td>\n",
       "      <td>3</td>\n",
       "      <td>50</td>\n",
       "      <td>2</td>\n",
       "      <td>3</td>\n",
       "      <td>19000</td>\n",
       "      <td>4</td>\n",
       "      <td>1</td>\n",
       "      <td>N</td>\n",
       "      <td>0</td>\n",
       "      <td>11</td>\n",
       "    </tr>\n",
       "    <tr>\n",
       "      <th>2</th>\n",
       "      <td>25887</td>\n",
       "      <td>2014-02-01</td>\n",
       "      <td>SCH</td>\n",
       "      <td>M</td>\n",
       "      <td>25</td>\n",
       "      <td>Y</td>\n",
       "      <td>N</td>\n",
       "      <td>2</td>\n",
       "      <td>0</td>\n",
       "      <td>-1.408142</td>\n",
       "      <td>1</td>\n",
       "      <td>80</td>\n",
       "      <td>1</td>\n",
       "      <td>2</td>\n",
       "      <td>30000</td>\n",
       "      <td>1</td>\n",
       "      <td>4</td>\n",
       "      <td>Y</td>\n",
       "      <td>0</td>\n",
       "      <td>5</td>\n",
       "    </tr>\n",
       "    <tr>\n",
       "      <th>3</th>\n",
       "      <td>16222</td>\n",
       "      <td>2014-01-23</td>\n",
       "      <td>SCH</td>\n",
       "      <td>F</td>\n",
       "      <td>53</td>\n",
       "      <td>N</td>\n",
       "      <td>N</td>\n",
       "      <td>0</td>\n",
       "      <td>0</td>\n",
       "      <td>-2.057471</td>\n",
       "      <td>2</td>\n",
       "      <td>50</td>\n",
       "      <td>2</td>\n",
       "      <td>3</td>\n",
       "      <td>10000</td>\n",
       "      <td>1</td>\n",
       "      <td>3</td>\n",
       "      <td>N</td>\n",
       "      <td>0</td>\n",
       "      <td>4</td>\n",
       "    </tr>\n",
       "    <tr>\n",
       "      <th>4</th>\n",
       "      <td>101655</td>\n",
       "      <td>2014-04-18</td>\n",
       "      <td>GRD</td>\n",
       "      <td>M</td>\n",
       "      <td>48</td>\n",
       "      <td>N</td>\n",
       "      <td>N</td>\n",
       "      <td>0</td>\n",
       "      <td>1</td>\n",
       "      <td>-1.244723</td>\n",
       "      <td>1</td>\n",
       "      <td>60</td>\n",
       "      <td>2</td>\n",
       "      <td>3</td>\n",
       "      <td>30000</td>\n",
       "      <td>1</td>\n",
       "      <td>4</td>\n",
       "      <td>Y</td>\n",
       "      <td>0</td>\n",
       "      <td>16</td>\n",
       "    </tr>\n",
       "  </tbody>\n",
       "</table>\n",
       "</div>"
      ],
      "text/plain": [
       "   client_id   app_date education sex  age car car_type  decline_app_cnt  \\\n",
       "0      25905 2014-02-01       SCH   M   62   Y        Y                0   \n",
       "1      63161 2014-03-12       SCH   F   59   N        N                0   \n",
       "2      25887 2014-02-01       SCH   M   25   Y        N                2   \n",
       "3      16222 2014-01-23       SCH   F   53   N        N                0   \n",
       "4     101655 2014-04-18       GRD   M   48   N        N                0   \n",
       "\n",
       "   good_work  score_bki  bki_request_cnt  region_rating  home_address  \\\n",
       "0          0  -2.008753                1             50             1   \n",
       "1          0  -1.532276                3             50             2   \n",
       "2          0  -1.408142                1             80             1   \n",
       "3          0  -2.057471                2             50             2   \n",
       "4          1  -1.244723                1             60             2   \n",
       "\n",
       "   work_address  income  sna  first_time foreign_passport  default  week  \n",
       "0             2   18000    4           1                N        0     5  \n",
       "1             3   19000    4           1                N        0    11  \n",
       "2             2   30000    1           4                Y        0     5  \n",
       "3             3   10000    1           3                N        0     4  \n",
       "4             3   30000    1           4                Y        0    16  "
      ]
     },
     "execution_count": 9,
     "metadata": {},
     "output_type": "execute_result"
    }
   ],
   "source": [
    "#разобьем период на недели и присвоим каждому клиенту номер недели обращения \n",
    "\n",
    "from dateutil import rrule\n",
    "import datetime\n",
    "def weeks(app_date):\n",
    "    weeks = rrule.rrule(rrule.WEEKLY, dtstart=train.app_date.min(), until=app_date)\n",
    "    return weeks.count()\n",
    "\n",
    "train['week'] = train['app_date'].apply(weeks)\n",
    "test['week'] = test['app_date'].apply(weeks)\n",
    "\n",
    "train.head(5)"
   ]
  },
  {
   "cell_type": "code",
   "execution_count": 10,
   "id": "728b07f4",
   "metadata": {},
   "outputs": [
    {
     "data": {
      "text/plain": [
       "11    5466\n",
       "14    5047\n",
       "5     4931\n",
       "12    4890\n",
       "4     4773\n",
       "13    4754\n",
       "9     4714\n",
       "3     4641\n",
       "6     4478\n",
       "7     4448\n",
       "8     4391\n",
       "10    4360\n",
       "15    4282\n",
       "16    3730\n",
       "2     3549\n",
       "17    3226\n",
       "1     1535\n",
       "18     584\n",
       "Name: week, dtype: int64"
      ]
     },
     "execution_count": 10,
     "metadata": {},
     "output_type": "execute_result"
    }
   ],
   "source": [
    "train['week'].value_counts(ascending=False)"
   ]
  },
  {
   "cell_type": "code",
   "execution_count": 11,
   "id": "e47f991e",
   "metadata": {},
   "outputs": [
    {
     "data": {
      "text/plain": [
       "week\n",
       "11    707\n",
       "4     690\n",
       "5     679\n",
       "14    631\n",
       "9     623\n",
       "3     619\n",
       "13    613\n",
       "12    611\n",
       "8     607\n",
       "7     586\n",
       "6     571\n",
       "10    551\n",
       "2     509\n",
       "15    427\n",
       "16    331\n",
       "17    302\n",
       "1     252\n",
       "18     63\n",
       "Name: default, dtype: int64"
      ]
     },
     "execution_count": 11,
     "metadata": {},
     "output_type": "execute_result"
    }
   ],
   "source": [
    "week_default = train.copy()[train.default == 1]\n",
    "week_default = train.groupby(['week'])['default'].sum()\n",
    "week_default.sort_values(ascending=False)"
   ]
  },
  {
   "cell_type": "code",
   "execution_count": 12,
   "id": "bb7af0e6",
   "metadata": {
    "scrolled": true
   },
   "outputs": [
    {
     "data": {
      "text/plain": [
       "1    12176\n",
       "0    12024\n",
       "2    11740\n",
       "3    11615\n",
       "4    11263\n",
       "5     8231\n",
       "6     6750\n",
       "Name: day_of_week, dtype: int64"
      ]
     },
     "execution_count": 12,
     "metadata": {},
     "output_type": "execute_result"
    }
   ],
   "source": [
    "#создадим столбец с днем недели на момент обращения\n",
    "\n",
    "train['day_of_week'] = train['app_date'].dt.dayofweek\n",
    "test['day_of_week'] = test['app_date'].dt.dayofweek\n",
    "\n",
    "train['day_of_week'].value_counts()"
   ]
  },
  {
   "cell_type": "code",
   "execution_count": 13,
   "id": "74b68bcb",
   "metadata": {},
   "outputs": [
    {
     "data": {
      "text/plain": [
       "day_of_week\n",
       "6     872\n",
       "5    1078\n",
       "4    1351\n",
       "2    1459\n",
       "0    1528\n",
       "3    1533\n",
       "1    1551\n",
       "Name: default, dtype: int64"
      ]
     },
     "execution_count": 13,
     "metadata": {},
     "output_type": "execute_result"
    }
   ],
   "source": [
    "day_default = train.copy()[train.default == 1]\n",
    "day_default = day_default.groupby(['day_of_week'])['default'].sum()\n",
    "day_default.sort_values(ascending=True)\n",
    "\n",
    "#количество дефолтов по дням недели распределено вообще равномерно (с закономерной просадкой в воскресенье,\n",
    "# когда и количество заявок минимально)"
   ]
  },
  {
   "cell_type": "code",
   "execution_count": 14,
   "id": "4bb9245b",
   "metadata": {},
   "outputs": [],
   "source": [
    "cat_cols.append(\"day_of_week\")\n",
    "cat_cols.append(\"week\")"
   ]
  },
  {
   "cell_type": "code",
   "execution_count": 15,
   "id": "b594a14f",
   "metadata": {},
   "outputs": [
    {
     "data": {
      "text/plain": [
       "SCH    38860\n",
       "GRD    23365\n",
       "UGR     9816\n",
       "PGR     1257\n",
       "ACD      194\n",
       "Name: education, dtype: int64"
      ]
     },
     "execution_count": 15,
     "metadata": {},
     "output_type": "execute_result"
    }
   ],
   "source": [
    "#преобразуем столбец education\n",
    "\n",
    "train.education.value_counts()"
   ]
  },
  {
   "cell_type": "markdown",
   "id": "2d5b231a",
   "metadata": {},
   "source": [
    "Система уровней образования в США состоит из среднего (school), бакалавриата (undergraduate), магистратуры (graduate) и докторантуры (postgraduate). ACD, скорее всего, это Assoсciate Degree - среднепрофессиональный уровень.\n",
    "\n",
    "- SCH - 0\n",
    "- UGR - 1\n",
    "- ACD - 1 или 2\n",
    "- GRD - 2 \n",
    "- PGR - 3"
   ]
  },
  {
   "cell_type": "code",
   "execution_count": 16,
   "id": "ea3af6c1",
   "metadata": {},
   "outputs": [
    {
     "data": {
      "text/plain": [
       "education\n",
       "ACD    60000.0\n",
       "PGR    60000.0\n",
       "GRD    40000.0\n",
       "UGR    30000.0\n",
       "SCH    25000.0\n",
       "Name: income, dtype: float64"
      ]
     },
     "execution_count": 16,
     "metadata": {},
     "output_type": "execute_result"
    }
   ],
   "source": [
    "#проверим по медианной зарплате\n",
    "\n",
    "edu_income = train.groupby(['education'])['income'].median()\n",
    "edu_income.sort_values(ascending=False)"
   ]
  },
  {
   "cell_type": "markdown",
   "id": "df7af7f6",
   "metadata": {},
   "source": [
    "доходы у людей с уровнем ACD самые высокие (так что это, видимо, academic - профессура)"
   ]
  },
  {
   "cell_type": "code",
   "execution_count": 17,
   "id": "a2023efc",
   "metadata": {},
   "outputs": [
    {
     "data": {
      "text/plain": [
       "1.0    39167\n",
       "3.0    23365\n",
       "2.0     9816\n",
       "4.0     1257\n",
       "5.0      194\n",
       "Name: education, dtype: int64"
      ]
     },
     "execution_count": 17,
     "metadata": {},
     "output_type": "execute_result"
    }
   ],
   "source": [
    "train.education.replace(('SCH', 'UGR', 'GRD', 'PGR', 'ACD' ), (1, 2, 3, 4, 5), inplace=True)\n",
    "test.education.replace(('SCH', 'UGR', 'GRD', 'PGR', 'ACD' ), (1, 2, 3, 4, 5), inplace=True)\n",
    "\n",
    "train.education = train.education.fillna(train.education.median()) #присвоим пропускам медианное значение\n",
    "test.education = test.education.fillna(train.education.median()) \n",
    "\n",
    "train.education.value_counts()"
   ]
  },
  {
   "cell_type": "code",
   "execution_count": 18,
   "id": "21647759",
   "metadata": {},
   "outputs": [],
   "source": [
    "\n",
    "income_age = train.groupby('age')['income'].mean().to_dict()\n",
    "\n",
    "train['income_age'] = train['age'].map(income_age)\n",
    "test['income_age'] = test['age'].map(income_age)\n",
    "num_cols.append(\"income_age\")"
   ]
  },
  {
   "cell_type": "code",
   "execution_count": 19,
   "id": "e80fc52c",
   "metadata": {},
   "outputs": [
    {
     "data": {
      "image/png": "[encoded data removed]",
      "text/plain": [
       "<Figure size 1800x1080 with 6 Axes>"
      ]
     },
     "metadata": {
      "needs_background": "light"
     },
     "output_type": "display_data"
    }
   ],
   "source": [
    "fig, axes = plt.subplots(2, 3, figsize=(25,15))\n",
    "\n",
    "for i, col in enumerate(num_cols):\n",
    "    hist = sns.histplot(train[col], bins=20, kde=True, ax=axes.flat[i])\n",
    "    hist.set(ylabel=\"\")"
   ]
  },
  {
   "cell_type": "markdown",
   "id": "d1426e39",
   "metadata": {},
   "source": [
    "Построим графики распределения логарифмированных переменных, чтобы переменные стали менее смещенными."
   ]
  },
  {
   "cell_type": "code",
   "execution_count": 20,
   "id": "2ffcd671",
   "metadata": {},
   "outputs": [
    {
     "data": {
      "image/png": "[encoded data removed]",
      "text/plain": [
       "<Figure size 1152x432 with 2 Axes>"
      ]
     },
     "metadata": {
      "needs_background": "light"
     },
     "output_type": "display_data"
    }
   ],
   "source": [
    "fig, axes = plt.subplots(1, 2, figsize=(16, 6))\n",
    "for i, col in enumerate([\"bki_request_cnt\", \"income\"]):\n",
    "    num_cols.append(f\"{col}_log\")\n",
    "    train[f\"{col}_log\"] = np.log(train[col] + 1)\n",
    "    test[f\"{col}_log\"] = np.log(test[col] + 1)\n",
    "    hist = sns.histplot(train[f\"{col}_log\"], bins=40, ax=axes.flat[i], kde=False)\n",
    "    hist.set(ylabel=\"\")"
   ]
  },
  {
   "cell_type": "code",
   "execution_count": 21,
   "id": "6c307fa4",
   "metadata": {},
   "outputs": [],
   "source": [
    "train['inc_edu'] = train['income_log']*train['education']\n",
    "test['inc_edu'] = test['income_log']*test['education']\n",
    "num_cols.append('inc_edu')"
   ]
  },
  {
   "cell_type": "code",
   "execution_count": 22,
   "id": "2e38c4e2",
   "metadata": {},
   "outputs": [
    {
     "data": {
      "text/plain": [
       "0     61214\n",
       "1      8397\n",
       "2      2468\n",
       "3       903\n",
       "4       414\n",
       "5       165\n",
       "6       113\n",
       "7        48\n",
       "9        24\n",
       "8        19\n",
       "10       11\n",
       "11        9\n",
       "13        3\n",
       "14        2\n",
       "12        2\n",
       "16        2\n",
       "19        1\n",
       "22        1\n",
       "33        1\n",
       "15        1\n",
       "24        1\n",
       "Name: decline_app_cnt, dtype: int64"
      ]
     },
     "execution_count": 22,
     "metadata": {},
     "output_type": "execute_result"
    }
   ],
   "source": [
    "train.decline_app_cnt.value_counts() #есть смысл преобразовать этот признак в бинарный\n",
    "# по принципу \"нет отказов\"/\"есть отказы\" или \"нет отказов\"/\"1\"/\"2 и больше\""
   ]
  },
  {
   "cell_type": "code",
   "execution_count": 23,
   "id": "2cfc0599",
   "metadata": {},
   "outputs": [
    {
     "data": {
      "text/plain": [
       "<AxesSubplot:>"
      ]
     },
     "execution_count": 23,
     "metadata": {},
     "output_type": "execute_result"
    },
    {
     "data": {
      "image/png": "[encoded data removed]",
      "text/plain": [
       "<Figure size 432x288 with 2 Axes>"
      ]
     },
     "metadata": {
      "needs_background": "light"
     },
     "output_type": "display_data"
    }
   ],
   "source": [
    "sns.heatmap(train[num_cols].corr().abs(), vmin=0, vmax=1, annot=True)"
   ]
  },
  {
   "cell_type": "markdown",
   "id": "80978e9a",
   "metadata": {},
   "source": [
    "Для оценки значимости числовых переменных будем использовать функцию f_classif из библиотеки sklearn. \n",
    "\n",
    "В качестве меры значимости мы будем использовать значение f-статистики. Чем значение статистики выше, тем меньше вероятность того, что средние значения не отличаются, и тем важнее данный признак для нашей линейной модели."
   ]
  },
  {
   "cell_type": "code",
   "execution_count": 24,
   "id": "7db6724c",
   "metadata": {
    "scrolled": true
   },
   "outputs": [
    {
     "data": {
      "text/plain": [
       "<AxesSubplot:>"
      ]
     },
     "execution_count": 24,
     "metadata": {},
     "output_type": "execute_result"
    },
    {
     "data": {
      "image/png": "[encoded data removed]",
      "text/plain": [
       "<Figure size 432x288 with 1 Axes>"
      ]
     },
     "metadata": {
      "needs_background": "light"
     },
     "output_type": "display_data"
    }
   ],
   "source": [
    "from sklearn.feature_selection import f_classif\n",
    "\n",
    "imp_num = pd.Series(f_classif(train[num_cols], train['default'])[0], index = num_cols)\n",
    "imp_num.sort_values(inplace = True)\n",
    "imp_num.plot(kind = 'barh')"
   ]
  },
  {
   "cell_type": "code",
   "execution_count": 25,
   "id": "04f7b483",
   "metadata": {},
   "outputs": [],
   "source": [
    "#for column in bin_cols:\n",
    "#    print(train[column].unique())"
   ]
  },
  {
   "cell_type": "code",
   "execution_count": 26,
   "id": "529a70d2",
   "metadata": {
    "scrolled": false
   },
   "outputs": [
    {
     "name": "stdout",
     "output_type": "stream",
     "text": [
      "{0: 'N', 1: 'Y'}\n"
     ]
    }
   ],
   "source": [
    "# преобразуем бинарные признаки в формат 0-1\n",
    "\n",
    "from sklearn.preprocessing import LabelEncoder\n",
    "\n",
    "label_encoder = LabelEncoder()\n",
    "\n",
    "for column in bin_cols:\n",
    "    train[column] = label_encoder.fit_transform(train[column])\n",
    "    test[column] = label_encoder.fit_transform(test[column])\n",
    "\n",
    "# убедимся в преобразовании    \n",
    "train.head()\n",
    "\n",
    "print(dict(enumerate(label_encoder.classes_)))"
   ]
  },
  {
   "cell_type": "code",
   "execution_count": 27,
   "id": "abbddbeb",
   "metadata": {},
   "outputs": [],
   "source": [
    "#добавим бинарный признак наличия высшего образования\n",
    "\n",
    "train[\"higher\"] = train[\"education\"].apply(lambda x: '1' if x >= 3 else 0)\n",
    "test[\"higher\"] = test[\"education\"].apply(lambda x: '1' if x >= 3 else 0)\n",
    "\n",
    "bin_cols.append(\"higher\")"
   ]
  },
  {
   "cell_type": "code",
   "execution_count": 28,
   "id": "e6e6da2a",
   "metadata": {},
   "outputs": [
    {
     "data": {
      "text/plain": [
       "0    61214\n",
       "1    12585\n",
       "Name: decline_app_cnt, dtype: int64"
      ]
     },
     "execution_count": 28,
     "metadata": {},
     "output_type": "execute_result"
    }
   ],
   "source": [
    "#преобразуем decline_app_cnt\n",
    "\n",
    "train[train.decline_app_cnt >= 2] = 1\n",
    "\n",
    "test[test.decline_app_cnt >= 2] = 1\n",
    "\n",
    "bin_cols.append(\"decline_app_cnt\")\n",
    "num_cols.remove(\"decline_app_cnt\")\n",
    "\n",
    "train.decline_app_cnt.value_counts()"
   ]
  },
  {
   "cell_type": "code",
   "execution_count": 29,
   "id": "70c91aa6",
   "metadata": {},
   "outputs": [
    {
     "data": {
      "text/plain": [
       "0    49288\n",
       "3    10831\n",
       "1     9896\n",
       "2     3784\n",
       "Name: sna, dtype: int64"
      ]
     },
     "execution_count": 29,
     "metadata": {},
     "output_type": "execute_result"
    }
   ],
   "source": [
    "# трансформируем категориальные признаки\n",
    "\n",
    "columns = ['first_time', 'sna', 'region_rating' ]\n",
    "\n",
    "for column in columns:\n",
    "    train[column] = label_encoder.fit_transform(train[column])\n",
    "    test[column] = label_encoder.fit_transform(test[column])\n",
    "    \n",
    "train.sna.value_counts()"
   ]
  },
  {
   "cell_type": "code",
   "execution_count": 30,
   "id": "f8b67576",
   "metadata": {},
   "outputs": [
    {
     "name": "stdout",
     "output_type": "stream",
     "text": [
      "<class 'pandas.core.frame.DataFrame'>\n",
      "RangeIndex: 73799 entries, 0 to 73798\n",
      "Data columns (total 26 columns):\n",
      " #   Column               Non-Null Count  Dtype  \n",
      "---  ------               --------------  -----  \n",
      " 0   client_id            73799 non-null  int64  \n",
      " 1   app_date             73799 non-null  object \n",
      " 2   education            73799 non-null  float64\n",
      " 3   sex                  73799 non-null  int32  \n",
      " 4   age                  73799 non-null  int64  \n",
      " 5   car                  73799 non-null  int32  \n",
      " 6   car_type             73799 non-null  int32  \n",
      " 7   decline_app_cnt      73799 non-null  int64  \n",
      " 8   good_work            73799 non-null  int64  \n",
      " 9   score_bki            73799 non-null  float64\n",
      " 10  bki_request_cnt      73799 non-null  int64  \n",
      " 11  region_rating        73799 non-null  int64  \n",
      " 12  home_address         73799 non-null  int64  \n",
      " 13  work_address         73799 non-null  int64  \n",
      " 14  income               73799 non-null  int64  \n",
      " 15  sna                  73799 non-null  int64  \n",
      " 16  first_time           73799 non-null  int64  \n",
      " 17  foreign_passport     73799 non-null  int32  \n",
      " 18  default              73799 non-null  int64  \n",
      " 19  week                 73799 non-null  int64  \n",
      " 20  day_of_week          73799 non-null  int64  \n",
      " 21  income_age           73799 non-null  float64\n",
      " 22  bki_request_cnt_log  73799 non-null  float64\n",
      " 23  income_log           73799 non-null  float64\n",
      " 24  inc_edu              73799 non-null  float64\n",
      " 25  higher               73799 non-null  object \n",
      "dtypes: float64(6), int32(4), int64(14), object(2)\n",
      "memory usage: 13.5+ MB\n"
     ]
    }
   ],
   "source": [
    "train.info()"
   ]
  },
  {
   "cell_type": "markdown",
   "id": "e436524e",
   "metadata": {},
   "source": [
    "## ЗНАЧИМОСТЬ КАТЕГОРИАЛЬНЫХ ПРИЗНАКОВ"
   ]
  },
  {
   "cell_type": "code",
   "execution_count": 31,
   "id": "68308c37",
   "metadata": {
    "scrolled": true
   },
   "outputs": [
    {
     "data": {
      "image/png": "[encoded data removed]",
      "text/plain": [
       "<Figure size 432x288 with 1 Axes>"
      ]
     },
     "metadata": {
      "needs_background": "light"
     },
     "output_type": "display_data"
    },
    {
     "data": {
      "image/png": "[encoded data removed]",
      "text/plain": [
       "<Figure size 432x288 with 1 Axes>"
      ]
     },
     "metadata": {
      "needs_background": "light"
     },
     "output_type": "display_data"
    },
    {
     "data": {
      "image/png": "[encoded data removed]",
      "text/plain": [
       "<Figure size 432x288 with 1 Axes>"
      ]
     },
     "metadata": {
      "needs_background": "light"
     },
     "output_type": "display_data"
    },
    {
     "data": {
      "image/png": "[encoded data removed]",
      "text/plain": [
       "<Figure size 432x288 with 1 Axes>"
      ]
     },
     "metadata": {
      "needs_background": "light"
     },
     "output_type": "display_data"
    },
    {
     "data": {
      "image/png": "[encoded data removed]",
      "text/plain": [
       "<Figure size 432x288 with 1 Axes>"
      ]
     },
     "metadata": {
      "needs_background": "light"
     },
     "output_type": "display_data"
    },
    {
     "data": {
      "image/png": "[encoded data removed]",
      "text/plain": [
       "<Figure size 432x288 with 1 Axes>"
      ]
     },
     "metadata": {
      "needs_background": "light"
     },
     "output_type": "display_data"
    },
    {
     "data": {
      "image/png": "[encoded data removed]",
      "text/plain": [
       "<Figure size 432x288 with 1 Axes>"
      ]
     },
     "metadata": {
      "needs_background": "light"
     },
     "output_type": "display_data"
    },
    {
     "data": {
      "image/png": "[encoded data removed]",
      "text/plain": [
       "<Figure size 432x288 with 1 Axes>"
      ]
     },
     "metadata": {
      "needs_background": "light"
     },
     "output_type": "display_data"
    }
   ],
   "source": [
    "for col in cat_cols:\n",
    "    sns.barplot(x=col, y=\"default\", data=train[train[\"default\"] >= 0])\n",
    "    plt.show();\n",
    "# клиенты с высшим образованием в среднем надёжнее,\n",
    "# так же это относится и к region rating.\n",
    "# так же удивили аномалии с днем недели (вторник) и первой (постновогодней) неделей. "
   ]
  },
  {
   "cell_type": "markdown",
   "id": "63bb70a9",
   "metadata": {},
   "source": [
    "Для оценки значимости категориальных и бинарных переменных будем использовать функцию mutual_info_classif из библиотеки sklearn. Данная функция опирается на непараметрические методы, основанные на оценке энтропии в группах категориальных переменных."
   ]
  },
  {
   "cell_type": "code",
   "execution_count": 32,
   "id": "ea93fe1d",
   "metadata": {},
   "outputs": [
    {
     "data": {
      "text/plain": [
       "<AxesSubplot:>"
      ]
     },
     "execution_count": 32,
     "metadata": {},
     "output_type": "execute_result"
    },
    {
     "data": {
      "image/png": "[encoded data removed]",
      "text/plain": [
       "<Figure size 432x288 with 1 Axes>"
      ]
     },
     "metadata": {
      "needs_background": "light"
     },
     "output_type": "display_data"
    }
   ],
   "source": [
    "import pandas as pd\n",
    "#import pandas.Series as Series\n",
    "from sklearn.feature_selection import mutual_info_classif\n",
    "\n",
    "imp_cat = pd.Series(mutual_info_classif(train[bin_cols + cat_cols], train['default'],\n",
    "                                     discrete_features = True), index = bin_cols + cat_cols)\n",
    "imp_cat.sort_values(inplace = True)\n",
    "imp_cat.plot(kind = 'barh')"
   ]
  },
  {
   "cell_type": "markdown",
   "id": "667e6401",
   "metadata": {},
   "source": [
    "# Отбросим малозначимые и сильно скоррелированные признаки"
   ]
  },
  {
   "cell_type": "code",
   "execution_count": 33,
   "id": "6c5b04fc",
   "metadata": {},
   "outputs": [
    {
     "name": "stdout",
     "output_type": "stream",
     "text": [
      "num_cols:  ['age', 'bki_request_cnt', 'income', 'score_bki', 'income_age', 'bki_request_cnt_log', 'income_log', 'inc_edu']\n",
      "bin_cols:  ['sex', 'car', 'car_type', 'good_work', 'foreign_passport', 'higher', 'decline_app_cnt']\n",
      "cat_cols:  ['education', 'work_address', 'home_address', 'sna', 'first_time', 'region_rating', 'day_of_week', 'week']\n"
     ]
    }
   ],
   "source": [
    "print ('num_cols: ', num_cols)\n",
    "print ('bin_cols: ', bin_cols)\n",
    "print ('cat_cols: ', cat_cols)"
   ]
  },
  {
   "cell_type": "code",
   "execution_count": 34,
   "id": "5952496f",
   "metadata": {},
   "outputs": [
    {
     "name": "stdout",
     "output_type": "stream",
     "text": [
      "num_cols:  ['score_bki', 'bki_request_cnt_log', 'income_log']\n",
      "bin_cols:  ['car_type', 'good_work', 'foreign_passport', 'higher', 'decline_app_cnt']\n",
      "cat_cols:  ['education', 'work_address', 'home_address', 'sna', 'first_time', 'region_rating', 'day_of_week', 'week']\n"
     ]
    }
   ],
   "source": [
    "num_cols.remove('age')\n",
    "#num_cols.remove('bki_request_cnt_log')\n",
    "num_cols.remove('bki_request_cnt')\n",
    "num_cols.remove('income')\n",
    "#num_cols.remove('income_log')\n",
    "num_cols.remove('inc_edu')\n",
    "num_cols.remove('income_age')\n",
    "\n",
    "bin_cols.remove('sex')\n",
    "bin_cols.remove('car')\n",
    "#bin_cols.remove('higher')\n",
    "#bin_cols.remove('foreign_passport')\n",
    "\n",
    "#cat_cols.remove('home_address')\n",
    "#cat_cols.remove('first_time')\n",
    "#cat_cols.remove('sna')\n",
    "#cat_cols.remove('education')\n",
    "#cat_cols.remove('day_of_week')\n",
    "#cat_cols.remove('week')\n",
    "\n",
    "print ('num_cols: ', num_cols)\n",
    "print ('bin_cols: ', bin_cols)\n",
    "print ('cat_cols: ', cat_cols)"
   ]
  },
  {
   "cell_type": "markdown",
   "id": "d0075a8f",
   "metadata": {},
   "source": [
    "# Подготовка данных к машинному обучению\n"
   ]
  },
  {
   "cell_type": "code",
   "execution_count": 35,
   "id": "c3375094",
   "metadata": {},
   "outputs": [],
   "source": [
    "from sklearn.preprocessing import OneHotEncoder\n",
    "\n",
    "X_cat = OneHotEncoder(sparse = False).fit_transform(train[cat_cols].values) #обучающие признаки\n",
    "x_cat = OneHotEncoder(sparse = False).fit_transform(test[cat_cols].values) #целевые признаки \n"
   ]
  },
  {
   "cell_type": "code",
   "execution_count": 36,
   "id": "02d12d0d",
   "metadata": {},
   "outputs": [
    {
     "data": {
      "text/plain": [
       "(73799, 52)"
      ]
     },
     "execution_count": 36,
     "metadata": {},
     "output_type": "execute_result"
    }
   ],
   "source": [
    "X_cat.shape"
   ]
  },
  {
   "cell_type": "code",
   "execution_count": 37,
   "id": "160b41a1",
   "metadata": {},
   "outputs": [
    {
     "data": {
      "text/plain": [
       "(36349, 52)"
      ]
     },
     "execution_count": 37,
     "metadata": {},
     "output_type": "execute_result"
    }
   ],
   "source": [
    "x_cat.shape"
   ]
  },
  {
   "cell_type": "code",
   "execution_count": 38,
   "id": "83e8ec23",
   "metadata": {},
   "outputs": [],
   "source": [
    "from sklearn.preprocessing import StandardScaler\n",
    "\n",
    "# Стандартизация числовых переменных\n",
    "\n",
    "X_num = StandardScaler().fit_transform(train[num_cols].values) #обучающие признаки\n",
    "x_num = StandardScaler().fit_transform(test[num_cols].values) #целевые признаки"
   ]
  },
  {
   "cell_type": "code",
   "execution_count": 39,
   "id": "2a536b39",
   "metadata": {},
   "outputs": [],
   "source": [
    "#И объединим стандартизованные числовые, бинарные и закодированные категориальные переменные\n",
    "#в одно признаковое пространство, разделив при этом признаки и целевую переменную.\n",
    "\n",
    "X_train = np.hstack([X_num, train[bin_cols].values, X_cat]) #\"обучающие\" признаки\n",
    "y_train = train['default'].values # целевой параметр \n",
    "X_pred = np.hstack([x_num, test[bin_cols].values, x_cat]) #целевые признаки\n",
    "\n",
    "# выделим 20% данных train на валидацию\n",
    "X_learn, X_val, y_learn, y_val = train_test_split(X_train, y_train, test_size=0.2, random_state=RANDOM_SEED)"
   ]
  },
  {
   "cell_type": "markdown",
   "id": "0ea81a45",
   "metadata": {},
   "source": [
    "# Обучение и оптимизация модели"
   ]
  },
  {
   "cell_type": "code",
   "execution_count": 40,
   "id": "e7f57ae2",
   "metadata": {},
   "outputs": [
    {
     "name": "stdout",
     "output_type": "stream",
     "text": [
      "accuracy =  0.771\n"
     ]
    },
    {
     "data": {
      "text/plain": [
       "array([[9710, 2618],\n",
       "       [ 762, 1670]], dtype=int64)"
      ]
     },
     "execution_count": 40,
     "metadata": {},
     "output_type": "execute_result"
    }
   ],
   "source": [
    "from sklearn.metrics import mean_squared_error, f1_score, accuracy_score, roc_curve, roc_auc_score  \n",
    "\n",
    "from sklearn.metrics import classification_report\n",
    "from sklearn.preprocessing import StandardScaler\n",
    "from sklearn.linear_model import LogisticRegression\n",
    "from sklearn.metrics import confusion_matrix,ConfusionMatrixDisplay, precision_recall_curve\n",
    "\n",
    "model = LogisticRegression(random_state=42, max_iter=1000)\n",
    "model.fit(X_learn, y_learn)\n",
    "prob = model.predict_proba(X_val)[:, 1]\n",
    "\n",
    "threshold = 0.159 #подбирается перебором с целью минимизации количества FN\n",
    "\n",
    "y_test = prob\n",
    "\n",
    "y_test[y_test >= threshold] = 1\n",
    "y_test[y_test < threshold] = 0 \n",
    "\n",
    "print('accuracy = ', np.round(accuracy_score(y_val, y_test), 3))\n",
    "\n",
    "#print('f1_score = ', np.round(f1_score(y_val, y_test), 3))\n",
    "\n",
    "confusion_matrix(y_val, y_test)"
   ]
  },
  {
   "cell_type": "code",
   "execution_count": 41,
   "id": "03d1f8c9",
   "metadata": {},
   "outputs": [
    {
     "data": {
      "image/png": "[encoded data removed]",
      "text/plain": [
       "<Figure size 432x288 with 1 Axes>"
      ]
     },
     "metadata": {
      "needs_background": "light"
     },
     "output_type": "display_data"
    }
   ],
   "source": [
    "cm = confusion_matrix(y_val, y_test)\n",
    "disp = ConfusionMatrixDisplay(confusion_matrix=cm/np.sum(cm), display_labels=model.classes_)\n",
    "disp.plot(cmap=\"Blues\", colorbar=False, values_format=\".2%\")\n",
    "plt.suptitle(\"Confusion matrix\", x=.52, y=.91);"
   ]
  },
  {
   "cell_type": "code",
   "execution_count": 42,
   "id": "b7eead7b",
   "metadata": {},
   "outputs": [
    {
     "name": "stdout",
     "output_type": "stream",
     "text": [
      "              precision    recall  f1-score   support\n",
      "\n",
      "           0       0.93      0.79      0.85     12328\n",
      "           1       0.39      0.69      0.50      2432\n",
      "\n",
      "    accuracy                           0.77     14760\n",
      "   macro avg       0.66      0.74      0.67     14760\n",
      "weighted avg       0.84      0.77      0.79     14760\n",
      "\n"
     ]
    }
   ],
   "source": [
    "print(classification_report(y_val, y_test))"
   ]
  },
  {
   "cell_type": "code",
   "execution_count": 43,
   "id": "be172bc8",
   "metadata": {},
   "outputs": [
    {
     "name": "stdout",
     "output_type": "stream",
     "text": [
      "0.7371577645240617\n"
     ]
    }
   ],
   "source": [
    "print(roc_auc_score(y_val, y_test))"
   ]
  },
  {
   "cell_type": "code",
   "execution_count": 44,
   "id": "31864455",
   "metadata": {},
   "outputs": [
    {
     "data": {
      "text/plain": [
       "<matplotlib.legend.Legend at 0x25108bf8b80>"
      ]
     },
     "execution_count": 44,
     "metadata": {},
     "output_type": "execute_result"
    },
    {
     "data": {
      "image/png": "[encoded data removed]",
      "text/plain": [
       "<Figure size 576x576 with 1 Axes>"
      ]
     },
     "metadata": {
      "needs_background": "light"
     },
     "output_type": "display_data"
    }
   ],
   "source": [
    "# Отрисовать ROC кривую\n",
    "from sklearn.metrics import mean_squared_error, f1_score, accuracy_score, roc_curve, roc_auc_score\n",
    "from matplotlib import pyplot as plt\n",
    "\n",
    "# Посчитать значения ROC кривой и значение площади под кривой AUC\n",
    "fpr, tpr, thresholds = roc_curve(y_val,model.predict_proba(X_val).T[1])\n",
    "roc_auc = roc_auc_score(y_val,model.predict_proba(X_val).T[1])   \n",
    "plt.figure(figsize=(8, 8))\n",
    "plt.plot(fpr, tpr, label=f'AUC = {roc_auc:.4f}')\n",
    "plt.title('Receiver Operating Characteristic', fontsize=15)\n",
    "plt.xlabel('False positive rate (FPR)', fontsize=15)\n",
    "plt.ylabel('True positive rate (TPR)', fontsize=15)\n",
    "plt.legend(fontsize=15)"
   ]
  },
  {
   "cell_type": "code",
   "execution_count": 45,
   "id": "04514029",
   "metadata": {},
   "outputs": [
    {
     "name": "stdout",
     "output_type": "stream",
     "text": [
      "\tC: 1.0\n",
      "\tclass_weight: 'none'\n",
      "\tdual: False\n",
      "\tfit_intercept: True\n",
      "\tintercept_scaling: 1\n",
      "\tl1_ratio: None\n",
      "\tmax_iter: 50\n",
      "\tmulti_class: 'auto'\n",
      "\tn_jobs: None\n",
      "\tpenalty: 'l2'\n",
      "\trandom_state: None\n",
      "\tsolver: 'lbfgs'\n",
      "\ttol: 0.001\n",
      "\tverbose: 0\n",
      "\twarm_start: False\n"
     ]
    }
   ],
   "source": [
    "from sklearn.model_selection import GridSearchCV\n",
    "\n",
    "# запускаем GridSearch на небольшом кол-ве итераций max_iter=50 и с достаточно большой дельтой останова tol1e-3\n",
    "# чтобы получить оптимальные параметры модели в первом приближении\n",
    "model = LogisticRegression()\n",
    "\n",
    "iter_ = 50\n",
    "epsilon_stop = 1e-3\n",
    "\n",
    "param_grid = [\n",
    "    {'penalty': ['l1'], \n",
    "     'solver': ['liblinear', 'lbfgs'], \n",
    "     'class_weight':['none', 'balanced'], \n",
    "     'multi_class': ['auto','ovr'], \n",
    "     'max_iter':[iter_],\n",
    "     'tol':[epsilon_stop]},\n",
    "    {'penalty': ['l2'], \n",
    "     'solver': ['newton-cg', 'lbfgs', 'liblinear', 'sag', 'saga'], \n",
    "     'class_weight':['none', 'balanced'], \n",
    "     'multi_class': ['auto','ovr'], \n",
    "     'max_iter':[iter_],\n",
    "     'tol':[epsilon_stop]},\n",
    "    {'penalty': ['none'], \n",
    "     'solver': ['newton-cg', 'lbfgs', 'sag', 'saga'], \n",
    "     'class_weight':['none', 'balanced'], \n",
    "     'multi_class': ['auto','ovr'], \n",
    "     'max_iter':[iter_],\n",
    "     'tol':[epsilon_stop]},\n",
    "]\n",
    "\n",
    "## model ваша модель логистической регрессии\n",
    "gridsearch = GridSearchCV(model, param_grid, scoring='f1', n_jobs=-1, cv=5)\n",
    "gridsearch.fit(X_learn, y_learn)\n",
    "model = gridsearch.best_estimator_\n",
    "\n",
    "##печатаем параметры\n",
    "best_parameters = model.get_params()\n",
    "for param_name in sorted(best_parameters.keys()):\n",
    "        print('\\t%s: %r' % (param_name, best_parameters[param_name]))"
   ]
  },
  {
   "cell_type": "code",
   "execution_count": 52,
   "id": "238dcb7b",
   "metadata": {},
   "outputs": [
    {
     "name": "stdout",
     "output_type": "stream",
     "text": [
      "accuracy =  0.771\n",
      "f1_score =  0.497\n"
     ]
    },
    {
     "data": {
      "text/plain": [
       "array([[9707, 2621],\n",
       "       [ 761, 1671]], dtype=int64)"
      ]
     },
     "execution_count": 52,
     "metadata": {},
     "output_type": "execute_result"
    }
   ],
   "source": [
    "#применим гиперпараметры\n",
    "model1 = LogisticRegression(warm_start=False, verbose=0, tol=0.001, solver='lbfgs', random_state=None,\n",
    "                          penalty='l2', n_jobs=None, multi_class='auto', max_iter=50, l1_ratio=None,\n",
    "                          intercept_scaling=1, fit_intercept=True, dual=False, class_weight='none', C=1.0)\n",
    "model1.fit(X_learn, y_learn)\n",
    "prob = model1.predict_proba(X_val)[:, 1]\n",
    "\n",
    "threshold = 0.159\n",
    "\n",
    "prob[prob >= threshold] = 1\n",
    "prob[prob < threshold] = 0 \n",
    "\n",
    "y_test1 = prob\n",
    "\n",
    "accuracy = accuracy_score(y_val, y_test1)\n",
    "print('accuracy = ', np.round(accuracy, 3))\n",
    "\n",
    "print('f1_score = ', np.round(f1_score(y_val, y_test1), 3))\n",
    "\n",
    "confusion_matrix(y_val, y_test1)"
   ]
  },
  {
   "cell_type": "code",
   "execution_count": 53,
   "id": "ad03a3f9",
   "metadata": {},
   "outputs": [
    {
     "name": "stdout",
     "output_type": "stream",
     "text": [
      "0.7372416823918166\n"
     ]
    }
   ],
   "source": [
    "print(roc_auc_score(y_val, y_test1))"
   ]
  },
  {
   "cell_type": "code",
   "execution_count": 54,
   "id": "6e3523b9",
   "metadata": {},
   "outputs": [
    {
     "data": {
      "text/plain": [
       "<matplotlib.legend.Legend at 0x25108c97670>"
      ]
     },
     "execution_count": 54,
     "metadata": {},
     "output_type": "execute_result"
    },
    {
     "data": {
      "image/png": "[encoded data removed]",
      "text/plain": [
       "<Figure size 576x576 with 1 Axes>"
      ]
     },
     "metadata": {
      "needs_background": "light"
     },
     "output_type": "display_data"
    }
   ],
   "source": [
    "# Отрисовать ROC кривую\n",
    "from sklearn.metrics import mean_squared_error, f1_score, accuracy_score, roc_curve, roc_auc_score\n",
    "from matplotlib import pyplot as plt\n",
    "\n",
    "# Посчитать значения ROC кривой и значение площади под кривой AUC\n",
    "fpr, tpr, thresholds = roc_curve(y_val,model1.predict_proba(X_val).T[1])\n",
    "roc_auc = roc_auc_score(y_val,model1.predict_proba(X_val).T[1])   \n",
    "plt.figure(figsize=(8, 8))\n",
    "plt.plot(fpr, tpr, label=f'AUC = {roc_auc:.4f}')\n",
    "plt.title('Receiver Operating Characteristic', fontsize=15)\n",
    "plt.xlabel('False positive rate (FPR)', fontsize=15)\n",
    "plt.ylabel('True positive rate (TPR)', fontsize=15)\n",
    "plt.legend(fontsize=15)"
   ]
  },
  {
   "cell_type": "code",
   "execution_count": 55,
   "id": "3b9c56f3",
   "metadata": {},
   "outputs": [
    {
     "name": "stdout",
     "output_type": "stream",
     "text": [
      "              precision    recall  f1-score   support\n",
      "\n",
      "           0       0.93      0.79      0.85     12328\n",
      "           1       0.39      0.69      0.50      2432\n",
      "\n",
      "    accuracy                           0.77     14760\n",
      "   macro avg       0.66      0.74      0.67     14760\n",
      "weighted avg       0.84      0.77      0.79     14760\n",
      "\n"
     ]
    }
   ],
   "source": [
    "from sklearn.metrics import classification_report\n",
    "\n",
    "print(classification_report(y_val, y_test1))"
   ]
  },
  {
   "cell_type": "markdown",
   "id": "2c463f6d",
   "metadata": {},
   "source": [
    "# Финальное предсказание"
   ]
  },
  {
   "cell_type": "code",
   "execution_count": 56,
   "id": "ca395ece",
   "metadata": {},
   "outputs": [
    {
     "data": {
      "text/html": [
       "<div>\n",
       "<style scoped>\n",
       "    .dataframe tbody tr th:only-of-type {\n",
       "        vertical-align: middle;\n",
       "    }\n",
       "\n",
       "    .dataframe tbody tr th {\n",
       "        vertical-align: top;\n",
       "    }\n",
       "\n",
       "    .dataframe thead th {\n",
       "        text-align: right;\n",
       "    }\n",
       "</style>\n",
       "<table border=\"1\" class=\"dataframe\">\n",
       "  <thead>\n",
       "    <tr style=\"text-align: right;\">\n",
       "      <th></th>\n",
       "      <th>client_id</th>\n",
       "      <th>default</th>\n",
       "    </tr>\n",
       "  </thead>\n",
       "  <tbody>\n",
       "    <tr>\n",
       "      <th>0</th>\n",
       "      <td>74835</td>\n",
       "      <td>0</td>\n",
       "    </tr>\n",
       "    <tr>\n",
       "      <th>1</th>\n",
       "      <td>17527</td>\n",
       "      <td>1</td>\n",
       "    </tr>\n",
       "    <tr>\n",
       "      <th>2</th>\n",
       "      <td>75683</td>\n",
       "      <td>0</td>\n",
       "    </tr>\n",
       "    <tr>\n",
       "      <th>3</th>\n",
       "      <td>26883</td>\n",
       "      <td>0</td>\n",
       "    </tr>\n",
       "    <tr>\n",
       "      <th>4</th>\n",
       "      <td>28862</td>\n",
       "      <td>0</td>\n",
       "    </tr>\n",
       "    <tr>\n",
       "      <th>5</th>\n",
       "      <td>99881</td>\n",
       "      <td>1</td>\n",
       "    </tr>\n",
       "    <tr>\n",
       "      <th>6</th>\n",
       "      <td>26630</td>\n",
       "      <td>1</td>\n",
       "    </tr>\n",
       "    <tr>\n",
       "      <th>7</th>\n",
       "      <td>79934</td>\n",
       "      <td>0</td>\n",
       "    </tr>\n",
       "    <tr>\n",
       "      <th>8</th>\n",
       "      <td>16605</td>\n",
       "      <td>0</td>\n",
       "    </tr>\n",
       "    <tr>\n",
       "      <th>9</th>\n",
       "      <td>105449</td>\n",
       "      <td>0</td>\n",
       "    </tr>\n",
       "  </tbody>\n",
       "</table>\n",
       "</div>"
      ],
      "text/plain": [
       "   client_id  default\n",
       "0      74835        0\n",
       "1      17527        1\n",
       "2      75683        0\n",
       "3      26883        0\n",
       "4      28862        0\n",
       "5      99881        1\n",
       "6      26630        1\n",
       "7      79934        0\n",
       "8      16605        0\n",
       "9     105449        0"
      ]
     },
     "execution_count": 56,
     "metadata": {},
     "output_type": "execute_result"
    }
   ],
   "source": [
    "y = model1.predict_proba(X_pred)[:, 1]\n",
    "y[y >= threshold] = 1\n",
    "y[y < threshold] = 0 \n",
    "\n",
    "sample_submission['default'] = y.astype(int)\n",
    "sample_submission.to_csv('submission.csv', index=False)\n",
    "sample_submission.head(10)"
   ]
  },
  {
   "cell_type": "code",
   "execution_count": 51,
   "id": "4f5b1f33",
   "metadata": {},
   "outputs": [
    {
     "name": "stdout",
     "output_type": "stream",
     "text": [
      "0:01:59.786265\n"
     ]
    }
   ],
   "source": [
    "end = datetime.datetime.now()\n",
    "\n",
    "print(end - start)"
   ]
  }
 ],
 "metadata": {
  "kernelspec": {
   "display_name": "Python 3 (ipykernel)",
   "language": "python",
   "name": "python3"
  },
  "language_info": {
   "codemirror_mode": {
    "name": "ipython",
    "version": 3
   },
   "file_extension": ".py",
   "mimetype": "text/x-python",
   "name": "python",
   "nbconvert_exporter": "python",
   "pygments_lexer": "ipython3",
   "version": "3.9.7"
  }
 },
 "nbformat": 4,
 "nbformat_minor": 5
}
